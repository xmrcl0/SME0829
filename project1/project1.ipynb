{
  "nbformat": 4,
  "nbformat_minor": 5,
  "metadata": {
    "kernelspec": {
      "display_name": "Python 3",
      "language": "python",
      "name": "python3"
    },
    "language_info": {
      "codemirror_mode": {
        "name": "ipython",
        "version": 3
      },
      "file_extension": ".py",
      "mimetype": "text/x-python",
      "name": "python",
      "nbconvert_exporter": "python",
      "pygments_lexer": "ipython3",
      "version": "3.7.10"
    },
    "papermill": {
      "default_parameters": {},
      "duration": 44.264333,
      "end_time": "2021-04-30T23:55:46.418161",
      "environment_variables": {},
      "exception": null,
      "input_path": "__notebook__.ipynb",
      "output_path": "__notebook__.ipynb",
      "parameters": {},
      "start_time": "2021-04-30T23:55:02.153828",
      "version": "2.3.3"
    },
    "colab": {
      "name": "project1.ipynb",
      "provenance": [],
      "toc_visible": true,
      "include_colab_link": true
    }
  },
  "cells": [
    {
      "cell_type": "markdown",
      "metadata": {
        "id": "view-in-github",
        "colab_type": "text"
      },
      "source": [
        "<a href=\"https://colab.research.google.com/github/xmrcl0/SME0829/blob/main/project1/project1.ipynb\" target=\"_parent\"><img src=\"https://colab.research.google.com/assets/colab-badge.svg\" alt=\"Open In Colab\"/></a>"
      ]
    },
    {
      "cell_type": "markdown",
      "metadata": {
        "_cell_guid": "b1076dfc-b9ad-4769-8c92-a6c4dae69d19",
        "_uuid": "8f2839f25d086af736a60e9eeb907d3b93b6e0e5",
        "papermill": {
          "duration": 0.074914,
          "end_time": "2021-04-30T23:55:11.580379",
          "exception": false,
          "start_time": "2021-04-30T23:55:11.505465",
          "status": "completed"
        },
        "tags": [],
        "id": "modified-protection"
      },
      "source": [
        "# Projeto 1 - Iris"
      ],
      "id": "modified-protection"
    },
    {
      "cell_type": "markdown",
      "metadata": {
        "papermill": {
          "duration": 0.073031,
          "end_time": "2021-04-30T23:55:11.727984",
          "exception": false,
          "start_time": "2021-04-30T23:55:11.654953",
          "status": "completed"
        },
        "tags": [],
        "id": "certified-circumstances"
      },
      "source": [
        "# Introdução\n",
        "Neste primeiro projeto, vamos construir o primeiro algoritmo inteligente do curso, utilizando a biblioteca [scikit-learn](https://scikit-learn.org/stable/) e o [Iris dataset](https://archive.ics.uci.edu/ml/datasets/iris), com a finalidade de classificar as espécies de flores (Iris) através de suas características físicas."
      ],
      "id": "certified-circumstances"
    },
    {
      "cell_type": "markdown",
      "metadata": {
        "papermill": {
          "duration": 0.074258,
          "end_time": "2021-04-30T23:55:11.874812",
          "exception": false,
          "start_time": "2021-04-30T23:55:11.800554",
          "status": "completed"
        },
        "tags": [],
        "id": "separated-detection"
      },
      "source": [
        "# Objetivo\n",
        "Construir um modelo classificador para as flores da espécie Iris."
      ],
      "id": "separated-detection"
    },
    {
      "cell_type": "markdown",
      "metadata": {
        "papermill": {
          "duration": 0.074471,
          "end_time": "2021-04-30T23:55:12.023540",
          "exception": false,
          "start_time": "2021-04-30T23:55:11.949069",
          "status": "completed"
        },
        "tags": [],
        "id": "focused-parameter"
      },
      "source": [
        "# Resumo Teórico\n",
        "Usando o [Aprendizado de Máquina](https://en.wikipedia.org/wiki/Machine_learning), mais especificamente o [Aprendizado Supervisionado](https://en.wikipedia.org/wiki/Supervised_learning), é possível treinar um programa de computador (algoritmo classificador) capaz de classificar espécie de flores, por meio de suas características, após submetê-lo à uma fase de **treinamento**. Nesta fase, dados reais, obtidos por meio de medições *no mundo físico*, chamados de [dataset](https://en.wikipedia.org/wiki/Data_set), são aplicados ao algoritmo classificador, de tal forma que, após o treinamento, seja obtido um algoritmo treinado, conhecido como [modelo](https://docs.microsoft.com/en-us/windows/ai/windows-ml/what-is-a-machine-learning-model#:~:text=A%20machine%20learning%20model%20is,and%20learn%20from%20those%20data.&text=Windows%20Machine%20Learning%20uses%20the,ONNX%20format%20for%20its%20models.), capaz de prever as espécies de flores para dados de entrada ainda não conhecidos pelo programa.\n",
        "\n",
        "##  Workflow \n",
        "De forma resumida, as etapas envolvidas na construção de um modelo de aprendizado supervisionado são: preparação e pré-processamento dos dados, treinamento do modelo, testes e validação. A seguir está um resumo de cada uma dessas etapas.\n",
        "\n",
        "## Preparação dos dados\n",
        "A preparação dos dados está fortemente ligada a performance dos modelos de Machine Learning, e vai desde a coleta do dado bruto, para a construção do dataset, até o particionamento deste dataset em subconjuntos de treinamento, teste e validação.\n",
        "\n",
        "Do ponto de vista do **dataset**, é importante observar que a qualidade dos dados, magnitude e o modo com que o particionamento do dataset é feito, influenciam diretamente na qualidade das previsões feitas pelo modelo.\n",
        "\n",
        "O [Feature scaling](https://en.wikipedia.org/wiki/Feature_scaling), a grosso modo, permite alterar a magnitude do dataset, sem distorções ou perda de informação, na tentativa de melhorar a resposta dos algoritmos classificadores. Rescaling (Min-Max normalization) e Standardization (Z-score normalization) são exemplos de técnicas de Feature scaling.\n",
        "\n",
        "O Splitting, por sua vez, é uma téncnia amplamente usada para verificar a qualidade do modelo. Essa técnica consiste em particionar o dataset e aplicar uma parte dos dados, não utilizados no treinamento, ao modelo, com a finalidade de avaliar o quanto que o valor previsto pelo modelo difere do valor real. Random splitting, Cross-validation e Rational splitting são exemplos de técnicas de particionamento de dataset.\n",
        "\n",
        "## Treinamento do Modelo\n",
        "Após a preparação dos dados, outra etapa fundamental, na constução de um modelo com Aprendizado Supervisionado, é treinar um algoritmo classificador, fornecendo a ele entradas e saídas conhecidas, para que ele possa aprender e, após o treinamento, ele seja capaz de prever as saídas para dados de entrada ainda não \"conhecidos\" pelo modelo.\n",
        "\n",
        "Ao longo dos últimos anos foram desenvolvidos dezenas de técnicas de classificação para o aprendizado supervisionado, cada um tendo suas vantagens e desvantagens, e a seleção do melhor algoritmo para um determinado modelo, deve levar em consideração um série de fatores como: quantidade de dados de treinamento, número de variáveis de entrada, ruído nos valores de saída, entre outros. Alguns exemplos de algoritmos classificadores são: [Support-vector machine](https://en.wikipedia.org/wiki/Support-vector_machine), [Linear Regression](https://en.wikipedia.org/wiki/Simple_linear_regression), [Logistic Regression](https://en.wikipedia.org/wiki/Logistic_regression), [Naive Bayes](https://en.wikipedia.org/wiki/Naive_Bayes_classifier),  [Decision Trees](https://en.wikipedia.org/wiki/Decision_tree), [K-nearest neighbor](https://en.wikipedia.org/wiki/K-nearest_neighbors_algorithm), [Neural Networks (Multilayer Perceptron)](https://en.wikipedia.org/wiki/Multilayer_perceptron), entre outros.\n",
        "\n",
        "## Testes\n",
        "Após o treinamento do modelo é importante efetuarmos um teste controlado, para que tenhamos ideias de como o modelo está se comportanto. Utilizando uma parte dos dados, não usados durante a fase de treinamento, conseguimos medir o quanto que os valores previstos pelo modelo diferem dos valores reais. Neste ponto, devemos observar a importância de termos separado parte do dataset, na etapa de preparação dos dados, e não termos os usado no treinamento do modelo, o que \"viciaria\" o modelo.\n",
        "\n",
        "Critérios estatísticos como: [Accuracy Score](https://en.wikipedia.org/wiki/Accuracy_and_precision), [Average Precision Score](https://en.wikipedia.org/wiki/Evaluation_measures_(information_retrieval)#Average_precision), [F1 Score](https://en.wikipedia.org/wiki/Evaluation_measures_(information_retrieval)#F-score_/_F-measure), são exemplos de métricas utilizadas para medir a qualidade dos modelos.\n",
        "\n",
        "## Validação\n",
        "A valiação é a etapa na qual o modelo é posto à prova, com a aplicação de dados desconhecidos ou quasi-desconhecidos pelo modelo, a fim de termos uma visão mais realista de como o modelo irá se comportar quando estiver em produção.\n",
        "\n",
        "Nesta fase utilizamos as mesmas técnicas estatísticas, utilizadas na fase de testes, para quantificar a qualidade do modelo.\n",
        "\n",
        "É importante observar a construção de modelos usando Aprendizado de Máquina é empírica, ou seja, está pautada experimentações de diferentes técnicas de preparação de dados, algoritmos classificadores, critérios de teste/validação e a variação dos parâmetros do modelo, para que possamos obter os melhores resultados.\n",
        "\n"
      ],
      "id": "focused-parameter"
    },
    {
      "cell_type": "markdown",
      "metadata": {
        "papermill": {
          "duration": 0.072753,
          "end_time": "2021-04-30T23:55:12.170060",
          "exception": false,
          "start_time": "2021-04-30T23:55:12.097307",
          "status": "completed"
        },
        "tags": [],
        "id": "prerequisite-toilet"
      },
      "source": [
        "# Procedimento Experimental\n",
        "Dois conjuntos de dados foram disponibilizados na plataforma de data-science [Kaggle](https://www.kaggle.com/), sendo um conjunto para a construção do modelo ([treinamento e teste](https://www.kaggle.com/c/usp-pj01/data)) e outro para efetuar as previsões, as quais devem ser submetidas para avaliação ([em formato csv](https://www.kaggle.com/c/usp-pj01/overview/evaluation)) da qualidade do modelo desenvolvido por cada grupos.\n",
        "\n",
        "Para este desafio, deve-se usar diferentes técnicas de scaling, splitting, classificadores e métricas de validação, para construir um modelo capaz de prever, de forma mais efetiva, os tipos das espécies de planta Iris. A seguir está as etapas seguidas nos experimentos:\n",
        "\n",
        "1. Pré-processar os dados com diferentes técnicas de Scaling e Splitting;\n",
        "2. Treinar diferentes algoritmos de classificação com os dados preparados;\n",
        "3. Avaliar a qualidade dos modelos obtidos (algoritmos treinados) com parte do dataset (train_Iris.csv);\n",
        "4. Submeter as saidas previstas para os dados de teste (test_Iris.csv), do melhor modelo, para avalidação."
      ],
      "id": "prerequisite-toilet"
    },
    {
      "cell_type": "markdown",
      "metadata": {
        "papermill": {
          "duration": 0.073704,
          "end_time": "2021-04-30T23:55:12.316570",
          "exception": false,
          "start_time": "2021-04-30T23:55:12.242866",
          "status": "completed"
        },
        "tags": [],
        "id": "overhead-story"
      },
      "source": [
        "## Preparar os dados"
      ],
      "id": "overhead-story"
    },
    {
      "cell_type": "markdown",
      "metadata": {
        "papermill": {
          "duration": 0.073431,
          "end_time": "2021-04-30T23:55:12.463703",
          "exception": false,
          "start_time": "2021-04-30T23:55:12.390272",
          "status": "completed"
        },
        "tags": [],
        "id": "fifteen-calculator"
      },
      "source": [
        "### Ler dataset"
      ],
      "id": "fifteen-calculator"
    },
    {
      "cell_type": "code",
      "metadata": {
        "execution": {
          "iopub.execute_input": "2021-04-30T23:55:12.617717Z",
          "iopub.status.busy": "2021-04-30T23:55:12.615948Z",
          "iopub.status.idle": "2021-04-30T23:55:12.667079Z",
          "shell.execute_reply": "2021-04-30T23:55:12.667789Z"
        },
        "papermill": {
          "duration": 0.13079,
          "end_time": "2021-04-30T23:55:12.668082",
          "exception": false,
          "start_time": "2021-04-30T23:55:12.537292",
          "status": "completed"
        },
        "tags": [],
        "colab": {
          "base_uri": "https://localhost:8080/",
          "height": 204
        },
        "id": "wound-casting",
        "outputId": "fdc6f612-a390-41ae-b9d9-5197198fa386"
      },
      "source": [
        "# Leitura do dataset de treinamento\n",
        "import pandas as pd\n",
        "iris_data = pd.read_csv('https://raw.githubusercontent.com/xmrcl0/SME0829/main/project1/data/train_Iris.csv')\n",
        "\n",
        "# Visualiação das colunas do dataset de treinamento para a escolha das features e labels\n",
        "iris_data.head()"
      ],
      "id": "wound-casting",
      "execution_count": 1,
      "outputs": [
        {
          "output_type": "execute_result",
          "data": {
            "text/html": [
              "<div>\n",
              "<style scoped>\n",
              "    .dataframe tbody tr th:only-of-type {\n",
              "        vertical-align: middle;\n",
              "    }\n",
              "\n",
              "    .dataframe tbody tr th {\n",
              "        vertical-align: top;\n",
              "    }\n",
              "\n",
              "    .dataframe thead th {\n",
              "        text-align: right;\n",
              "    }\n",
              "</style>\n",
              "<table border=\"1\" class=\"dataframe\">\n",
              "  <thead>\n",
              "    <tr style=\"text-align: right;\">\n",
              "      <th></th>\n",
              "      <th>Id</th>\n",
              "      <th>SepalLengthCm</th>\n",
              "      <th>SepalWidthCm</th>\n",
              "      <th>PetalLengthCm</th>\n",
              "      <th>PetalWidthCm</th>\n",
              "      <th>Species</th>\n",
              "    </tr>\n",
              "  </thead>\n",
              "  <tbody>\n",
              "    <tr>\n",
              "      <th>0</th>\n",
              "      <td>59</td>\n",
              "      <td>6.6</td>\n",
              "      <td>2.9</td>\n",
              "      <td>4.6</td>\n",
              "      <td>1.3</td>\n",
              "      <td>Iris-versicolor</td>\n",
              "    </tr>\n",
              "    <tr>\n",
              "      <th>1</th>\n",
              "      <td>98</td>\n",
              "      <td>6.2</td>\n",
              "      <td>2.9</td>\n",
              "      <td>4.3</td>\n",
              "      <td>1.3</td>\n",
              "      <td>Iris-versicolor</td>\n",
              "    </tr>\n",
              "    <tr>\n",
              "      <th>2</th>\n",
              "      <td>130</td>\n",
              "      <td>7.2</td>\n",
              "      <td>3.0</td>\n",
              "      <td>5.8</td>\n",
              "      <td>1.6</td>\n",
              "      <td>Iris-virginica</td>\n",
              "    </tr>\n",
              "    <tr>\n",
              "      <th>3</th>\n",
              "      <td>115</td>\n",
              "      <td>5.8</td>\n",
              "      <td>2.8</td>\n",
              "      <td>5.1</td>\n",
              "      <td>2.4</td>\n",
              "      <td>Iris-virginica</td>\n",
              "    </tr>\n",
              "    <tr>\n",
              "      <th>4</th>\n",
              "      <td>147</td>\n",
              "      <td>6.3</td>\n",
              "      <td>2.5</td>\n",
              "      <td>5.0</td>\n",
              "      <td>1.9</td>\n",
              "      <td>Iris-virginica</td>\n",
              "    </tr>\n",
              "  </tbody>\n",
              "</table>\n",
              "</div>"
            ],
            "text/plain": [
              "    Id  SepalLengthCm  ...  PetalWidthCm          Species\n",
              "0   59            6.6  ...           1.3  Iris-versicolor\n",
              "1   98            6.2  ...           1.3  Iris-versicolor\n",
              "2  130            7.2  ...           1.6   Iris-virginica\n",
              "3  115            5.8  ...           2.4   Iris-virginica\n",
              "4  147            6.3  ...           1.9   Iris-virginica\n",
              "\n",
              "[5 rows x 6 columns]"
            ]
          },
          "metadata": {
            "tags": []
          },
          "execution_count": 1
        }
      ]
    },
    {
      "cell_type": "markdown",
      "metadata": {
        "papermill": {
          "duration": 0.072958,
          "end_time": "2021-04-30T23:55:12.814882",
          "exception": false,
          "start_time": "2021-04-30T23:55:12.741924",
          "status": "completed"
        },
        "tags": [],
        "id": "emotional-raise"
      },
      "source": [
        "### Separar features e labels"
      ],
      "id": "emotional-raise"
    },
    {
      "cell_type": "code",
      "metadata": {
        "execution": {
          "iopub.execute_input": "2021-04-30T23:55:12.965626Z",
          "iopub.status.busy": "2021-04-30T23:55:12.964571Z",
          "iopub.status.idle": "2021-04-30T23:55:12.982278Z",
          "shell.execute_reply": "2021-04-30T23:55:12.982853Z"
        },
        "papermill": {
          "duration": 0.094794,
          "end_time": "2021-04-30T23:55:12.983031",
          "exception": false,
          "start_time": "2021-04-30T23:55:12.888237",
          "status": "completed"
        },
        "tags": [],
        "id": "sudden-intervention",
        "colab": {
          "base_uri": "https://localhost:8080/",
          "height": 204
        },
        "outputId": "cea5ed62-2712-4b35-ea60-c0edf695d237"
      },
      "source": [
        "# Seleção das colunas de entrada para o modelo (features)\n",
        "iris_features = ['SepalLengthCm', 'SepalWidthCm', 'PetalLengthCm', 'PetalWidthCm']\n",
        "X = iris_data[iris_features]\n",
        "\n",
        "# Visualização das features\n",
        "X.head()"
      ],
      "id": "sudden-intervention",
      "execution_count": 2,
      "outputs": [
        {
          "output_type": "execute_result",
          "data": {
            "text/html": [
              "<div>\n",
              "<style scoped>\n",
              "    .dataframe tbody tr th:only-of-type {\n",
              "        vertical-align: middle;\n",
              "    }\n",
              "\n",
              "    .dataframe tbody tr th {\n",
              "        vertical-align: top;\n",
              "    }\n",
              "\n",
              "    .dataframe thead th {\n",
              "        text-align: right;\n",
              "    }\n",
              "</style>\n",
              "<table border=\"1\" class=\"dataframe\">\n",
              "  <thead>\n",
              "    <tr style=\"text-align: right;\">\n",
              "      <th></th>\n",
              "      <th>SepalLengthCm</th>\n",
              "      <th>SepalWidthCm</th>\n",
              "      <th>PetalLengthCm</th>\n",
              "      <th>PetalWidthCm</th>\n",
              "    </tr>\n",
              "  </thead>\n",
              "  <tbody>\n",
              "    <tr>\n",
              "      <th>0</th>\n",
              "      <td>6.6</td>\n",
              "      <td>2.9</td>\n",
              "      <td>4.6</td>\n",
              "      <td>1.3</td>\n",
              "    </tr>\n",
              "    <tr>\n",
              "      <th>1</th>\n",
              "      <td>6.2</td>\n",
              "      <td>2.9</td>\n",
              "      <td>4.3</td>\n",
              "      <td>1.3</td>\n",
              "    </tr>\n",
              "    <tr>\n",
              "      <th>2</th>\n",
              "      <td>7.2</td>\n",
              "      <td>3.0</td>\n",
              "      <td>5.8</td>\n",
              "      <td>1.6</td>\n",
              "    </tr>\n",
              "    <tr>\n",
              "      <th>3</th>\n",
              "      <td>5.8</td>\n",
              "      <td>2.8</td>\n",
              "      <td>5.1</td>\n",
              "      <td>2.4</td>\n",
              "    </tr>\n",
              "    <tr>\n",
              "      <th>4</th>\n",
              "      <td>6.3</td>\n",
              "      <td>2.5</td>\n",
              "      <td>5.0</td>\n",
              "      <td>1.9</td>\n",
              "    </tr>\n",
              "  </tbody>\n",
              "</table>\n",
              "</div>"
            ],
            "text/plain": [
              "   SepalLengthCm  SepalWidthCm  PetalLengthCm  PetalWidthCm\n",
              "0            6.6           2.9            4.6           1.3\n",
              "1            6.2           2.9            4.3           1.3\n",
              "2            7.2           3.0            5.8           1.6\n",
              "3            5.8           2.8            5.1           2.4\n",
              "4            6.3           2.5            5.0           1.9"
            ]
          },
          "metadata": {
            "tags": []
          },
          "execution_count": 2
        }
      ]
    },
    {
      "cell_type": "code",
      "metadata": {
        "execution": {
          "iopub.execute_input": "2021-04-30T23:55:13.137631Z",
          "iopub.status.busy": "2021-04-30T23:55:13.136637Z",
          "iopub.status.idle": "2021-04-30T23:55:13.144241Z",
          "shell.execute_reply": "2021-04-30T23:55:13.144822Z"
        },
        "papermill": {
          "duration": 0.086533,
          "end_time": "2021-04-30T23:55:13.145005",
          "exception": false,
          "start_time": "2021-04-30T23:55:13.058472",
          "status": "completed"
        },
        "tags": [],
        "id": "alien-denver",
        "colab": {
          "base_uri": "https://localhost:8080/"
        },
        "outputId": "5544fad2-2db2-4f09-800a-9ce7252f1171"
      },
      "source": [
        "# Seleção da coluna alvo (labels)\n",
        "y = iris_data.Species\n",
        "\n",
        "# Visualização das labels\n",
        "y.head()"
      ],
      "id": "alien-denver",
      "execution_count": 3,
      "outputs": [
        {
          "output_type": "execute_result",
          "data": {
            "text/plain": [
              "0    Iris-versicolor\n",
              "1    Iris-versicolor\n",
              "2     Iris-virginica\n",
              "3     Iris-virginica\n",
              "4     Iris-virginica\n",
              "Name: Species, dtype: object"
            ]
          },
          "metadata": {
            "tags": []
          },
          "execution_count": 3
        }
      ]
    },
    {
      "cell_type": "code",
      "metadata": {
        "execution": {
          "iopub.execute_input": "2021-04-30T23:55:13.301037Z",
          "iopub.status.busy": "2021-04-30T23:55:13.300038Z",
          "iopub.status.idle": "2021-04-30T23:55:14.370814Z",
          "shell.execute_reply": "2021-04-30T23:55:14.371462Z"
        },
        "papermill": {
          "duration": 1.151751,
          "end_time": "2021-04-30T23:55:14.371654",
          "exception": false,
          "start_time": "2021-04-30T23:55:13.219903",
          "status": "completed"
        },
        "tags": [],
        "id": "taken-review",
        "colab": {
          "base_uri": "https://localhost:8080/"
        },
        "outputId": "dc20c2b2-8d96-402a-86e7-9c81ddeb2f90"
      },
      "source": [
        "# Transformação do vetor labels de string para número\n",
        "from sklearn import preprocessing\n",
        "le = preprocessing.LabelEncoder()\n",
        "le.fit(y)\n",
        "list(le.classes_)\n",
        "y = le.transform(iris_data.Species)\n",
        "y"
      ],
      "id": "taken-review",
      "execution_count": 4,
      "outputs": [
        {
          "output_type": "execute_result",
          "data": {
            "text/plain": [
              "array([1, 1, 2, 2, 2, 0, 2, 2, 2, 2, 0, 0, 1, 0, 1, 0, 1, 1, 2, 2, 1, 2,\n",
              "       1, 1, 1, 0, 0, 1, 0, 2, 0, 0, 2, 1, 2, 0, 2, 0, 1, 1, 0, 2, 2, 2,\n",
              "       2, 2, 0, 1, 2, 1, 0, 2, 1, 1, 0, 0, 0, 1, 2, 2, 1, 0, 0, 0, 2, 2,\n",
              "       1, 1, 2, 2, 2, 2, 1, 0, 0, 1, 0, 0, 2, 1, 0, 0, 0, 1, 0, 1, 0, 1,\n",
              "       2, 0, 1, 1, 2, 0, 2, 0, 1, 1, 2, 2, 0, 1, 2, 2, 1, 1, 2, 0, 2, 0,\n",
              "       0, 1, 0, 2, 2, 2, 1, 0, 2, 0])"
            ]
          },
          "metadata": {
            "tags": []
          },
          "execution_count": 4
        }
      ]
    },
    {
      "cell_type": "markdown",
      "metadata": {
        "papermill": {
          "duration": 0.074697,
          "end_time": "2021-04-30T23:55:14.522127",
          "exception": false,
          "start_time": "2021-04-30T23:55:14.447430",
          "status": "completed"
        },
        "tags": [],
        "id": "golden-floor"
      },
      "source": [
        "## Experimento 1\n",
        "Parâmetros do experimento:\n",
        "\n",
        "* Objetivo: Verificar a influência do Scaling do dataset na qualidade do modelo\n",
        "* Splitting: Holdout 70% treinamento 30% teste (random split)\n",
        "* Scaling: None, MinMaxScaler, StandardScaler\n",
        "* Modelo: Decision Tree Regression\n",
        "* Avaliação: Accuracy score, F1 score e Jaccard score"
      ],
      "id": "golden-floor"
    },
    {
      "cell_type": "markdown",
      "metadata": {
        "papermill": {
          "duration": 0.077865,
          "end_time": "2021-04-30T23:55:14.675263",
          "exception": false,
          "start_time": "2021-04-30T23:55:14.597398",
          "status": "completed"
        },
        "tags": [],
        "id": "proprietary-vienna"
      },
      "source": [
        "### Scaling: none"
      ],
      "id": "proprietary-vienna"
    },
    {
      "cell_type": "code",
      "metadata": {
        "execution": {
          "iopub.execute_input": "2021-04-30T23:55:14.831240Z",
          "iopub.status.busy": "2021-04-30T23:55:14.830239Z",
          "iopub.status.idle": "2021-04-30T23:55:14.916131Z",
          "shell.execute_reply": "2021-04-30T23:55:14.915372Z"
        },
        "papermill": {
          "duration": 0.165051,
          "end_time": "2021-04-30T23:55:14.916291",
          "exception": false,
          "start_time": "2021-04-30T23:55:14.751240",
          "status": "completed"
        },
        "tags": [],
        "id": "illegal-concentrate"
      },
      "source": [
        "# Splitting: Configuração dos parametros de particionamento do dataset de treinamento (Holdout)\n",
        "from sklearn.model_selection import train_test_split\n",
        "test_size = 0.3\n",
        "train_X, test_X, train_y, test_y = train_test_split(X, y, test_size = test_size, random_state = 0, stratify = y)"
      ],
      "id": "illegal-concentrate",
      "execution_count": 5,
      "outputs": []
    },
    {
      "cell_type": "code",
      "metadata": {
        "execution": {
          "iopub.execute_input": "2021-04-30T23:55:15.072940Z",
          "iopub.status.busy": "2021-04-30T23:55:15.071891Z",
          "iopub.status.idle": "2021-04-30T23:55:15.076073Z",
          "shell.execute_reply": "2021-04-30T23:55:15.076694Z"
        },
        "papermill": {
          "duration": 0.084167,
          "end_time": "2021-04-30T23:55:15.076898",
          "exception": false,
          "start_time": "2021-04-30T23:55:14.992731",
          "status": "completed"
        },
        "tags": [],
        "id": "played-technique"
      },
      "source": [
        "# Scaling: Nesse experimento não efetuaremos o scaling para verificar o efeito da não \"normalização\" dos dados para este dataset (None)."
      ],
      "id": "played-technique",
      "execution_count": 6,
      "outputs": []
    },
    {
      "cell_type": "code",
      "metadata": {
        "execution": {
          "iopub.execute_input": "2021-04-30T23:55:15.233330Z",
          "iopub.status.busy": "2021-04-30T23:55:15.232291Z",
          "iopub.status.idle": "2021-04-30T23:55:15.477437Z",
          "shell.execute_reply": "2021-04-30T23:55:15.476881Z"
        },
        "papermill": {
          "duration": 0.323285,
          "end_time": "2021-04-30T23:55:15.477598",
          "exception": false,
          "start_time": "2021-04-30T23:55:15.154313",
          "status": "completed"
        },
        "tags": [],
        "id": "varying-occurrence",
        "colab": {
          "base_uri": "https://localhost:8080/"
        },
        "outputId": "fc817652-f890-4c65-eb03-c4b3740b2a78"
      },
      "source": [
        "# Modelo: Criação do modelo (Decision Tree Regressor)\n",
        "from sklearn.tree import DecisionTreeRegressor\n",
        "model = DecisionTreeRegressor(random_state=1)\n",
        "model.fit(train_X, train_y)"
      ],
      "id": "varying-occurrence",
      "execution_count": 7,
      "outputs": [
        {
          "output_type": "execute_result",
          "data": {
            "text/plain": [
              "DecisionTreeRegressor(ccp_alpha=0.0, criterion='mse', max_depth=None,\n",
              "                      max_features=None, max_leaf_nodes=None,\n",
              "                      min_impurity_decrease=0.0, min_impurity_split=None,\n",
              "                      min_samples_leaf=1, min_samples_split=2,\n",
              "                      min_weight_fraction_leaf=0.0, presort='deprecated',\n",
              "                      random_state=1, splitter='best')"
            ]
          },
          "metadata": {
            "tags": []
          },
          "execution_count": 7
        }
      ]
    },
    {
      "cell_type": "code",
      "metadata": {
        "execution": {
          "iopub.execute_input": "2021-04-30T23:55:15.639246Z",
          "iopub.status.busy": "2021-04-30T23:55:15.638429Z",
          "iopub.status.idle": "2021-04-30T23:55:15.643036Z",
          "shell.execute_reply": "2021-04-30T23:55:15.643562Z"
        },
        "papermill": {
          "duration": 0.090477,
          "end_time": "2021-04-30T23:55:15.643771",
          "exception": false,
          "start_time": "2021-04-30T23:55:15.553294",
          "status": "completed"
        },
        "tags": [],
        "id": "coordinated-emperor"
      },
      "source": [
        "# Teste: Avaliação do modelo (Accuracy, F1, Jaccard)\n",
        "from sklearn.metrics import accuracy_score, f1_score, jaccard_score\n",
        "test_predictions = model.predict(test_X)\n",
        "scores = [accuracy_score(test_y, test_predictions)]\n",
        "scores.append(f1_score(test_y, test_predictions, average='macro'))\n",
        "scores.append(jaccard_score(test_y, test_predictions, average='macro'))"
      ],
      "id": "coordinated-emperor",
      "execution_count": 8,
      "outputs": []
    },
    {
      "cell_type": "code",
      "metadata": {
        "execution": {
          "iopub.execute_input": "2021-04-30T23:55:15.800456Z",
          "iopub.status.busy": "2021-04-30T23:55:15.799764Z",
          "iopub.status.idle": "2021-04-30T23:55:15.806138Z",
          "shell.execute_reply": "2021-04-30T23:55:15.806730Z"
        },
        "papermill": {
          "duration": 0.087115,
          "end_time": "2021-04-30T23:55:15.806913",
          "exception": false,
          "start_time": "2021-04-30T23:55:15.719798",
          "status": "completed"
        },
        "tags": [],
        "id": "defined-denmark",
        "colab": {
          "base_uri": "https://localhost:8080/"
        },
        "outputId": "05abddf2-425a-4e7f-ce7f-9feb9beb3210"
      },
      "source": [
        "# Visualiação da qualidade do modelo\n",
        "print('Accuracy: %.3f, F1-score: %0.3f, Jaccard-score: %0.3f' % (scores[0], scores[1], scores[2]))"
      ],
      "id": "defined-denmark",
      "execution_count": 9,
      "outputs": [
        {
          "output_type": "stream",
          "text": [
            "Accuracy: 0.944, F1-score: 0.944, Jaccard-score: 0.897\n"
          ],
          "name": "stdout"
        }
      ]
    },
    {
      "cell_type": "markdown",
      "metadata": {
        "papermill": {
          "duration": 0.077606,
          "end_time": "2021-04-30T23:55:15.961253",
          "exception": false,
          "start_time": "2021-04-30T23:55:15.883647",
          "status": "completed"
        },
        "tags": [],
        "id": "mexican-estimate"
      },
      "source": [
        "### Scaling: MinMaxScaler"
      ],
      "id": "mexican-estimate"
    },
    {
      "cell_type": "code",
      "metadata": {
        "execution": {
          "iopub.execute_input": "2021-04-30T23:55:16.122866Z",
          "iopub.status.busy": "2021-04-30T23:55:16.121820Z",
          "iopub.status.idle": "2021-04-30T23:55:16.129447Z",
          "shell.execute_reply": "2021-04-30T23:55:16.130005Z"
        },
        "papermill": {
          "duration": 0.089757,
          "end_time": "2021-04-30T23:55:16.130215",
          "exception": false,
          "start_time": "2021-04-30T23:55:16.040458",
          "status": "completed"
        },
        "tags": [],
        "id": "rocky-homework"
      },
      "source": [
        "# Splitting: Configuração dos parametros de particionamento do dataset de treinamento (Holdout)\n",
        "from sklearn.model_selection import train_test_split\n",
        "test_size = 0.3\n",
        "train_X, test_X, train_y, test_y = train_test_split(X, y, test_size = test_size, random_state = 0, stratify = y)"
      ],
      "id": "rocky-homework",
      "execution_count": 10,
      "outputs": []
    },
    {
      "cell_type": "code",
      "metadata": {
        "execution": {
          "iopub.execute_input": "2021-04-30T23:55:16.295786Z",
          "iopub.status.busy": "2021-04-30T23:55:16.294742Z",
          "iopub.status.idle": "2021-04-30T23:55:16.305299Z",
          "shell.execute_reply": "2021-04-30T23:55:16.305789Z"
        },
        "papermill": {
          "duration": 0.092384,
          "end_time": "2021-04-30T23:55:16.305981",
          "exception": false,
          "start_time": "2021-04-30T23:55:16.213597",
          "status": "completed"
        },
        "tags": [],
        "id": "lovely-expression"
      },
      "source": [
        "# Scaling: Transformação da magnitude do dataset de treinamento (MinMaxScaler)\n",
        "from sklearn.preprocessing import MinMaxScaler\n",
        "sc = MinMaxScaler()\n",
        "train_X = sc.fit_transform(train_X)\n",
        "test_X = sc.transform(test_X)"
      ],
      "id": "lovely-expression",
      "execution_count": 11,
      "outputs": []
    },
    {
      "cell_type": "code",
      "metadata": {
        "execution": {
          "iopub.execute_input": "2021-04-30T23:55:16.464557Z",
          "iopub.status.busy": "2021-04-30T23:55:16.463864Z",
          "iopub.status.idle": "2021-04-30T23:55:16.470448Z",
          "shell.execute_reply": "2021-04-30T23:55:16.469779Z"
        },
        "papermill": {
          "duration": 0.088296,
          "end_time": "2021-04-30T23:55:16.470721",
          "exception": false,
          "start_time": "2021-04-30T23:55:16.382425",
          "status": "completed"
        },
        "tags": [],
        "id": "unlikely-moderator",
        "colab": {
          "base_uri": "https://localhost:8080/"
        },
        "outputId": "473efbd9-3e6f-4f79-da93-9ed026dfee67"
      },
      "source": [
        "# Modelo: Criação do modelo (Decision Tree Regressor)\n",
        "from sklearn.tree import DecisionTreeRegressor\n",
        "model = DecisionTreeRegressor(random_state=1)\n",
        "model.fit(train_X, train_y)"
      ],
      "id": "unlikely-moderator",
      "execution_count": 12,
      "outputs": [
        {
          "output_type": "execute_result",
          "data": {
            "text/plain": [
              "DecisionTreeRegressor(ccp_alpha=0.0, criterion='mse', max_depth=None,\n",
              "                      max_features=None, max_leaf_nodes=None,\n",
              "                      min_impurity_decrease=0.0, min_impurity_split=None,\n",
              "                      min_samples_leaf=1, min_samples_split=2,\n",
              "                      min_weight_fraction_leaf=0.0, presort='deprecated',\n",
              "                      random_state=1, splitter='best')"
            ]
          },
          "metadata": {
            "tags": []
          },
          "execution_count": 12
        }
      ]
    },
    {
      "cell_type": "code",
      "metadata": {
        "execution": {
          "iopub.execute_input": "2021-04-30T23:55:16.634140Z",
          "iopub.status.busy": "2021-04-30T23:55:16.633121Z",
          "iopub.status.idle": "2021-04-30T23:55:16.638625Z",
          "shell.execute_reply": "2021-04-30T23:55:16.639288Z"
        },
        "papermill": {
          "duration": 0.090482,
          "end_time": "2021-04-30T23:55:16.639482",
          "exception": false,
          "start_time": "2021-04-30T23:55:16.549000",
          "status": "completed"
        },
        "tags": [],
        "id": "quantitative-expression"
      },
      "source": [
        "# Teste: Avaliação do modelo (Accuracy, F1, Jaccard)\n",
        "from sklearn.metrics import accuracy_score, f1_score, jaccard_score\n",
        "test_predictions = model.predict(test_X)\n",
        "scores = [accuracy_score(test_y, test_predictions)]\n",
        "scores.append(f1_score(test_y, test_predictions, average='macro'))\n",
        "scores.append(jaccard_score(test_y, test_predictions, average='macro'))"
      ],
      "id": "quantitative-expression",
      "execution_count": 13,
      "outputs": []
    },
    {
      "cell_type": "code",
      "metadata": {
        "execution": {
          "iopub.execute_input": "2021-04-30T23:55:16.801420Z",
          "iopub.status.busy": "2021-04-30T23:55:16.800718Z",
          "iopub.status.idle": "2021-04-30T23:55:16.808639Z",
          "shell.execute_reply": "2021-04-30T23:55:16.807965Z"
        },
        "papermill": {
          "duration": 0.089625,
          "end_time": "2021-04-30T23:55:16.808848",
          "exception": false,
          "start_time": "2021-04-30T23:55:16.719223",
          "status": "completed"
        },
        "tags": [],
        "id": "entitled-insulin",
        "colab": {
          "base_uri": "https://localhost:8080/"
        },
        "outputId": "c412d0af-9072-4210-e292-fd8f48d592e7"
      },
      "source": [
        "# Visualiação da qualidade do modelo\n",
        "print('Accuracy: %.3f, F1-score: %0.3f, Jaccard-score: %0.3f' % (scores[0], scores[1], scores[2]))"
      ],
      "id": "entitled-insulin",
      "execution_count": 14,
      "outputs": [
        {
          "output_type": "stream",
          "text": [
            "Accuracy: 0.944, F1-score: 0.944, Jaccard-score: 0.897\n"
          ],
          "name": "stdout"
        }
      ]
    },
    {
      "cell_type": "markdown",
      "metadata": {
        "papermill": {
          "duration": 0.079649,
          "end_time": "2021-04-30T23:55:16.970780",
          "exception": false,
          "start_time": "2021-04-30T23:55:16.891131",
          "status": "completed"
        },
        "tags": [],
        "id": "korean-showcase"
      },
      "source": [
        "### Scaling: StandardScaler"
      ],
      "id": "korean-showcase"
    },
    {
      "cell_type": "code",
      "metadata": {
        "execution": {
          "iopub.execute_input": "2021-04-30T23:55:17.143217Z",
          "iopub.status.busy": "2021-04-30T23:55:17.142498Z",
          "iopub.status.idle": "2021-04-30T23:55:17.146074Z",
          "shell.execute_reply": "2021-04-30T23:55:17.145483Z"
        },
        "papermill": {
          "duration": 0.095357,
          "end_time": "2021-04-30T23:55:17.146228",
          "exception": false,
          "start_time": "2021-04-30T23:55:17.050871",
          "status": "completed"
        },
        "tags": [],
        "id": "intellectual-trinidad"
      },
      "source": [
        "# Splitting: Configuração dos parametros de particionamento do dataset de treinamento (Holdout)\n",
        "from sklearn.model_selection import train_test_split\n",
        "test_size = 0.3\n",
        "train_X, test_X, train_y, test_y = train_test_split(X, y, test_size = test_size, random_state = 0, stratify = y)"
      ],
      "id": "intellectual-trinidad",
      "execution_count": 15,
      "outputs": []
    },
    {
      "cell_type": "code",
      "metadata": {
        "execution": {
          "iopub.execute_input": "2021-04-30T23:55:17.321589Z",
          "iopub.status.busy": "2021-04-30T23:55:17.316864Z",
          "iopub.status.idle": "2021-04-30T23:55:17.325536Z",
          "shell.execute_reply": "2021-04-30T23:55:17.324841Z"
        },
        "papermill": {
          "duration": 0.098946,
          "end_time": "2021-04-30T23:55:17.325713",
          "exception": false,
          "start_time": "2021-04-30T23:55:17.226767",
          "status": "completed"
        },
        "tags": [],
        "id": "olive-sympathy"
      },
      "source": [
        "# Scaling: Transformação da magnitude do dataset de treinamento (StandardScaler)\n",
        "from sklearn.preprocessing import StandardScaler\n",
        "sc = StandardScaler()\n",
        "train_X = sc.fit_transform(train_X)\n",
        "test_X = sc.transform(test_X)"
      ],
      "id": "olive-sympathy",
      "execution_count": 16,
      "outputs": []
    },
    {
      "cell_type": "code",
      "metadata": {
        "execution": {
          "iopub.execute_input": "2021-04-30T23:55:17.494873Z",
          "iopub.status.busy": "2021-04-30T23:55:17.494150Z",
          "iopub.status.idle": "2021-04-30T23:55:17.500402Z",
          "shell.execute_reply": "2021-04-30T23:55:17.499796Z"
        },
        "papermill": {
          "duration": 0.094849,
          "end_time": "2021-04-30T23:55:17.500549",
          "exception": false,
          "start_time": "2021-04-30T23:55:17.405700",
          "status": "completed"
        },
        "tags": [],
        "id": "unknown-banner",
        "colab": {
          "base_uri": "https://localhost:8080/"
        },
        "outputId": "7c52dcaa-c547-43aa-8406-ec3989afd343"
      },
      "source": [
        "# Modelo: Criação do modelo (Decision Tree Regressor)\n",
        "from sklearn.tree import DecisionTreeRegressor\n",
        "model = DecisionTreeRegressor(random_state=1)\n",
        "model.fit(train_X, train_y)"
      ],
      "id": "unknown-banner",
      "execution_count": 17,
      "outputs": [
        {
          "output_type": "execute_result",
          "data": {
            "text/plain": [
              "DecisionTreeRegressor(ccp_alpha=0.0, criterion='mse', max_depth=None,\n",
              "                      max_features=None, max_leaf_nodes=None,\n",
              "                      min_impurity_decrease=0.0, min_impurity_split=None,\n",
              "                      min_samples_leaf=1, min_samples_split=2,\n",
              "                      min_weight_fraction_leaf=0.0, presort='deprecated',\n",
              "                      random_state=1, splitter='best')"
            ]
          },
          "metadata": {
            "tags": []
          },
          "execution_count": 17
        }
      ]
    },
    {
      "cell_type": "code",
      "metadata": {
        "execution": {
          "iopub.execute_input": "2021-04-30T23:55:17.665333Z",
          "iopub.status.busy": "2021-04-30T23:55:17.663459Z",
          "iopub.status.idle": "2021-04-30T23:55:17.671514Z",
          "shell.execute_reply": "2021-04-30T23:55:17.670974Z"
        },
        "papermill": {
          "duration": 0.092401,
          "end_time": "2021-04-30T23:55:17.671686",
          "exception": false,
          "start_time": "2021-04-30T23:55:17.579285",
          "status": "completed"
        },
        "tags": [],
        "id": "pretty-agreement"
      },
      "source": [
        "# Teste: Avaliação do modelo (Accuracy, F1, Jaccard)\n",
        "from sklearn.metrics import accuracy_score, f1_score, jaccard_score\n",
        "test_predictions = model.predict(test_X)\n",
        "scores = [accuracy_score(test_y, test_predictions)]\n",
        "scores.append(f1_score(test_y, test_predictions, average='macro'))\n",
        "scores.append(jaccard_score(test_y, test_predictions, average='macro'))"
      ],
      "id": "pretty-agreement",
      "execution_count": 18,
      "outputs": []
    },
    {
      "cell_type": "code",
      "metadata": {
        "execution": {
          "iopub.execute_input": "2021-04-30T23:55:17.835495Z",
          "iopub.status.busy": "2021-04-30T23:55:17.834626Z",
          "iopub.status.idle": "2021-04-30T23:55:17.839252Z",
          "shell.execute_reply": "2021-04-30T23:55:17.838521Z"
        },
        "papermill": {
          "duration": 0.088545,
          "end_time": "2021-04-30T23:55:17.839412",
          "exception": false,
          "start_time": "2021-04-30T23:55:17.750867",
          "status": "completed"
        },
        "tags": [],
        "id": "considerable-alberta",
        "colab": {
          "base_uri": "https://localhost:8080/"
        },
        "outputId": "d81677a6-bf9a-453f-a9cd-d2ad04a4e683"
      },
      "source": [
        "# Visualiação da qualidade do modelo\n",
        "print('Accuracy: %.3f, F1-score: %0.3f, Jaccard-score: %0.3f' % (scores[0], scores[1], scores[2]))"
      ],
      "id": "considerable-alberta",
      "execution_count": 19,
      "outputs": [
        {
          "output_type": "stream",
          "text": [
            "Accuracy: 0.944, F1-score: 0.944, Jaccard-score: 0.897\n"
          ],
          "name": "stdout"
        }
      ]
    },
    {
      "cell_type": "markdown",
      "metadata": {
        "papermill": {
          "duration": 0.07962,
          "end_time": "2021-04-30T23:55:17.999535",
          "exception": false,
          "start_time": "2021-04-30T23:55:17.919915",
          "status": "completed"
        },
        "tags": [],
        "id": "hindu-mount"
      },
      "source": [
        "## Experimento 2\n",
        "Parâmetros do experimento:\n",
        "* Objetivo: Verificar a influência do Splitting do dataset na qualidade do modelo\n",
        "* Scaling: None\n",
        "* Splitting: Holdout 70% treinamento 30% teste, K-Fold (10 partições), Leave-One-Out\n",
        "* Treinamento: Decision Tree Regression\n",
        "* Avaliação: Accuracy score"
      ],
      "id": "hindu-mount"
    },
    {
      "cell_type": "markdown",
      "metadata": {
        "papermill": {
          "duration": 0.079818,
          "end_time": "2021-04-30T23:55:18.159098",
          "exception": false,
          "start_time": "2021-04-30T23:55:18.079280",
          "status": "completed"
        },
        "tags": [],
        "id": "transsexual-venice"
      },
      "source": [
        "### Splitting: Holdout"
      ],
      "id": "transsexual-venice"
    },
    {
      "cell_type": "code",
      "metadata": {
        "execution": {
          "iopub.execute_input": "2021-04-30T23:55:18.325132Z",
          "iopub.status.busy": "2021-04-30T23:55:18.324416Z",
          "iopub.status.idle": "2021-04-30T23:55:18.327772Z",
          "shell.execute_reply": "2021-04-30T23:55:18.327093Z"
        },
        "papermill": {
          "duration": 0.087313,
          "end_time": "2021-04-30T23:55:18.327916",
          "exception": false,
          "start_time": "2021-04-30T23:55:18.240603",
          "status": "completed"
        },
        "tags": [],
        "id": "lyric-crime"
      },
      "source": [
        "# Scaling: Nesse experimento não efetuaremos o scaling (None)."
      ],
      "id": "lyric-crime",
      "execution_count": 20,
      "outputs": []
    },
    {
      "cell_type": "code",
      "metadata": {
        "execution": {
          "iopub.execute_input": "2021-04-30T23:55:18.493978Z",
          "iopub.status.busy": "2021-04-30T23:55:18.493140Z",
          "iopub.status.idle": "2021-04-30T23:55:18.498354Z",
          "shell.execute_reply": "2021-04-30T23:55:18.497744Z"
        },
        "papermill": {
          "duration": 0.09121,
          "end_time": "2021-04-30T23:55:18.498512",
          "exception": false,
          "start_time": "2021-04-30T23:55:18.407302",
          "status": "completed"
        },
        "tags": [],
        "id": "structural-while"
      },
      "source": [
        "# Splitting: Configuração dos parametros de particionamento do dataset de treinamento (Holdout)\n",
        "from sklearn.model_selection import train_test_split\n",
        "test_size = 0.3\n",
        "train_X, test_X, train_y, test_y = train_test_split(X, y, test_size = test_size, random_state = 0, stratify = y)"
      ],
      "id": "structural-while",
      "execution_count": 21,
      "outputs": []
    },
    {
      "cell_type": "code",
      "metadata": {
        "execution": {
          "iopub.execute_input": "2021-04-30T23:55:18.669878Z",
          "iopub.status.busy": "2021-04-30T23:55:18.669168Z",
          "iopub.status.idle": "2021-04-30T23:55:18.674781Z",
          "shell.execute_reply": "2021-04-30T23:55:18.674232Z"
        },
        "papermill": {
          "duration": 0.097202,
          "end_time": "2021-04-30T23:55:18.674933",
          "exception": false,
          "start_time": "2021-04-30T23:55:18.577731",
          "status": "completed"
        },
        "tags": [],
        "id": "orange-caution",
        "colab": {
          "base_uri": "https://localhost:8080/"
        },
        "outputId": "5264ee00-079d-4159-b454-5d967e0fbfe4"
      },
      "source": [
        "# Modelo: Criação do modelo (Decision Tree Regressor)\n",
        "from sklearn.tree import DecisionTreeRegressor\n",
        "model = DecisionTreeRegressor(random_state=1)\n",
        "model.fit(train_X, train_y)"
      ],
      "id": "orange-caution",
      "execution_count": 22,
      "outputs": [
        {
          "output_type": "execute_result",
          "data": {
            "text/plain": [
              "DecisionTreeRegressor(ccp_alpha=0.0, criterion='mse', max_depth=None,\n",
              "                      max_features=None, max_leaf_nodes=None,\n",
              "                      min_impurity_decrease=0.0, min_impurity_split=None,\n",
              "                      min_samples_leaf=1, min_samples_split=2,\n",
              "                      min_weight_fraction_leaf=0.0, presort='deprecated',\n",
              "                      random_state=1, splitter='best')"
            ]
          },
          "metadata": {
            "tags": []
          },
          "execution_count": 22
        }
      ]
    },
    {
      "cell_type": "code",
      "metadata": {
        "execution": {
          "iopub.execute_input": "2021-04-30T23:55:18.844993Z",
          "iopub.status.busy": "2021-04-30T23:55:18.843803Z",
          "iopub.status.idle": "2021-04-30T23:55:18.846997Z",
          "shell.execute_reply": "2021-04-30T23:55:18.846355Z"
        },
        "papermill": {
          "duration": 0.091559,
          "end_time": "2021-04-30T23:55:18.847150",
          "exception": false,
          "start_time": "2021-04-30T23:55:18.755591",
          "status": "completed"
        },
        "tags": [],
        "id": "arabic-orlando"
      },
      "source": [
        "# Teste: Avaliação do modelo (Accuracy)\n",
        "from sklearn.metrics import accuracy_score\n",
        "test_predictions = model.predict(test_X)\n",
        "scores = accuracy_score(test_y, test_predictions)"
      ],
      "id": "arabic-orlando",
      "execution_count": 23,
      "outputs": []
    },
    {
      "cell_type": "code",
      "metadata": {
        "execution": {
          "iopub.execute_input": "2021-04-30T23:55:19.015064Z",
          "iopub.status.busy": "2021-04-30T23:55:19.014070Z",
          "iopub.status.idle": "2021-04-30T23:55:19.018205Z",
          "shell.execute_reply": "2021-04-30T23:55:19.017497Z"
        },
        "papermill": {
          "duration": 0.090702,
          "end_time": "2021-04-30T23:55:19.018358",
          "exception": false,
          "start_time": "2021-04-30T23:55:18.927656",
          "status": "completed"
        },
        "tags": [],
        "id": "cellular-therapy",
        "colab": {
          "base_uri": "https://localhost:8080/"
        },
        "outputId": "b96cf9e2-e0a4-46ed-c9b1-37c86c1f9672"
      },
      "source": [
        "# Visualiação da qualidade do modelo\n",
        "print('Accuracy: %.3f' % scores)"
      ],
      "id": "cellular-therapy",
      "execution_count": 24,
      "outputs": [
        {
          "output_type": "stream",
          "text": [
            "Accuracy: 0.944\n"
          ],
          "name": "stdout"
        }
      ]
    },
    {
      "cell_type": "markdown",
      "metadata": {
        "papermill": {
          "duration": 0.080358,
          "end_time": "2021-04-30T23:55:19.182072",
          "exception": false,
          "start_time": "2021-04-30T23:55:19.101714",
          "status": "completed"
        },
        "tags": [],
        "id": "corresponding-metropolitan"
      },
      "source": [
        "### Splitting: K-Fold"
      ],
      "id": "corresponding-metropolitan"
    },
    {
      "cell_type": "code",
      "metadata": {
        "execution": {
          "iopub.execute_input": "2021-04-30T23:55:19.351192Z",
          "iopub.status.busy": "2021-04-30T23:55:19.350317Z",
          "iopub.status.idle": "2021-04-30T23:55:19.353891Z",
          "shell.execute_reply": "2021-04-30T23:55:19.353250Z"
        },
        "papermill": {
          "duration": 0.090128,
          "end_time": "2021-04-30T23:55:19.354034",
          "exception": false,
          "start_time": "2021-04-30T23:55:19.263906",
          "status": "completed"
        },
        "tags": [],
        "id": "fuzzy-calgary"
      },
      "source": [
        "# Scaling: Nesse experimento não efetuaremos o scaling (None)."
      ],
      "id": "fuzzy-calgary",
      "execution_count": 25,
      "outputs": []
    },
    {
      "cell_type": "code",
      "metadata": {
        "execution": {
          "iopub.execute_input": "2021-04-30T23:55:19.522277Z",
          "iopub.status.busy": "2021-04-30T23:55:19.521177Z",
          "iopub.status.idle": "2021-04-30T23:55:19.525114Z",
          "shell.execute_reply": "2021-04-30T23:55:19.524404Z"
        },
        "papermill": {
          "duration": 0.090737,
          "end_time": "2021-04-30T23:55:19.525285",
          "exception": false,
          "start_time": "2021-04-30T23:55:19.434548",
          "status": "completed"
        },
        "tags": [],
        "id": "enhanced-orange"
      },
      "source": [
        "# Splitting: Configuração dos parametros de particionamento do dataset de treinamento (K-Fold)\n",
        "from sklearn.model_selection import KFold\n",
        "kf = KFold(n_splits=10, random_state=0, shuffle=True)"
      ],
      "id": "enhanced-orange",
      "execution_count": 26,
      "outputs": []
    },
    {
      "cell_type": "code",
      "metadata": {
        "execution": {
          "iopub.execute_input": "2021-04-30T23:55:19.693935Z",
          "iopub.status.busy": "2021-04-30T23:55:19.693187Z",
          "iopub.status.idle": "2021-04-30T23:55:19.696899Z",
          "shell.execute_reply": "2021-04-30T23:55:19.696299Z"
        },
        "papermill": {
          "duration": 0.088991,
          "end_time": "2021-04-30T23:55:19.697099",
          "exception": false,
          "start_time": "2021-04-30T23:55:19.608108",
          "status": "completed"
        },
        "tags": [],
        "id": "impressed-oasis"
      },
      "source": [
        "# Modelo: Criação do modelo (Decision Tree Regressor)\n",
        "from sklearn.tree import DecisionTreeRegressor\n",
        "model = DecisionTreeRegressor(random_state=0)"
      ],
      "id": "impressed-oasis",
      "execution_count": 27,
      "outputs": []
    },
    {
      "cell_type": "code",
      "metadata": {
        "execution": {
          "iopub.execute_input": "2021-04-30T23:55:19.867834Z",
          "iopub.status.busy": "2021-04-30T23:55:19.867101Z",
          "iopub.status.idle": "2021-04-30T23:55:22.147961Z",
          "shell.execute_reply": "2021-04-30T23:55:22.147045Z"
        },
        "papermill": {
          "duration": 2.36923,
          "end_time": "2021-04-30T23:55:22.148184",
          "exception": false,
          "start_time": "2021-04-30T23:55:19.778954",
          "status": "completed"
        },
        "tags": [],
        "id": "bored-lambda"
      },
      "source": [
        "# Teste: Avaliação do modelo (Accuracy)\n",
        "from sklearn.model_selection import cross_val_score\n",
        "scores = cross_val_score(model, X, y, scoring ='accuracy', cv=kf, n_jobs=-1)"
      ],
      "id": "bored-lambda",
      "execution_count": 28,
      "outputs": []
    },
    {
      "cell_type": "code",
      "metadata": {
        "execution": {
          "iopub.execute_input": "2021-04-30T23:55:22.326768Z",
          "iopub.status.busy": "2021-04-30T23:55:22.326078Z",
          "iopub.status.idle": "2021-04-30T23:55:22.332527Z",
          "shell.execute_reply": "2021-04-30T23:55:22.333211Z"
        },
        "papermill": {
          "duration": 0.092209,
          "end_time": "2021-04-30T23:55:22.333403",
          "exception": false,
          "start_time": "2021-04-30T23:55:22.241194",
          "status": "completed"
        },
        "tags": [],
        "id": "aquatic-shopping",
        "colab": {
          "base_uri": "https://localhost:8080/"
        },
        "outputId": "851e5621-cee5-455a-a4f1-9d551683b89c"
      },
      "source": [
        "# Visualiação da qualidade do modelo\n",
        "from numpy import mean, std\n",
        "print('Accuracy: %.3f (%.3f)' % (mean(scores), std(scores)))"
      ],
      "id": "aquatic-shopping",
      "execution_count": 29,
      "outputs": [
        {
          "output_type": "stream",
          "text": [
            "Accuracy: 0.917 (0.083)\n"
          ],
          "name": "stdout"
        }
      ]
    },
    {
      "cell_type": "markdown",
      "metadata": {
        "papermill": {
          "duration": 0.081984,
          "end_time": "2021-04-30T23:55:22.499182",
          "exception": false,
          "start_time": "2021-04-30T23:55:22.417198",
          "status": "completed"
        },
        "tags": [],
        "id": "sharp-detection"
      },
      "source": [
        "### Splitting: Leave-One-Out"
      ],
      "id": "sharp-detection"
    },
    {
      "cell_type": "code",
      "metadata": {
        "execution": {
          "iopub.execute_input": "2021-04-30T23:55:22.667149Z",
          "iopub.status.busy": "2021-04-30T23:55:22.666142Z",
          "iopub.status.idle": "2021-04-30T23:55:22.669733Z",
          "shell.execute_reply": "2021-04-30T23:55:22.670257Z"
        },
        "papermill": {
          "duration": 0.089135,
          "end_time": "2021-04-30T23:55:22.670436",
          "exception": false,
          "start_time": "2021-04-30T23:55:22.581301",
          "status": "completed"
        },
        "tags": [],
        "id": "outside-roads"
      },
      "source": [
        "# Scaling: Nesse experimento não efetuaremos o scaling (None)."
      ],
      "id": "outside-roads",
      "execution_count": 30,
      "outputs": []
    },
    {
      "cell_type": "code",
      "metadata": {
        "execution": {
          "iopub.execute_input": "2021-04-30T23:55:22.839145Z",
          "iopub.status.busy": "2021-04-30T23:55:22.838436Z",
          "iopub.status.idle": "2021-04-30T23:55:22.842222Z",
          "shell.execute_reply": "2021-04-30T23:55:22.842753Z"
        },
        "papermill": {
          "duration": 0.090513,
          "end_time": "2021-04-30T23:55:22.842964",
          "exception": false,
          "start_time": "2021-04-30T23:55:22.752451",
          "status": "completed"
        },
        "tags": [],
        "id": "latter-consent"
      },
      "source": [
        "# Splitting: Configuração dos parametros de particionamento do dataset de treinamento (Leave-One-Out)\n",
        "from sklearn.model_selection import LeaveOneOut\n",
        "loo = LeaveOneOut()"
      ],
      "id": "latter-consent",
      "execution_count": 31,
      "outputs": []
    },
    {
      "cell_type": "code",
      "metadata": {
        "execution": {
          "iopub.execute_input": "2021-04-30T23:55:23.011967Z",
          "iopub.status.busy": "2021-04-30T23:55:23.011219Z",
          "iopub.status.idle": "2021-04-30T23:55:23.014959Z",
          "shell.execute_reply": "2021-04-30T23:55:23.015432Z"
        },
        "papermill": {
          "duration": 0.090293,
          "end_time": "2021-04-30T23:55:23.015628",
          "exception": false,
          "start_time": "2021-04-30T23:55:22.925335",
          "status": "completed"
        },
        "tags": [],
        "id": "smoking-option"
      },
      "source": [
        "# Modelo: Criação do modelo (Decision Tree Regressor)\n",
        "from sklearn.tree import DecisionTreeRegressor\n",
        "model = DecisionTreeRegressor(random_state=0)"
      ],
      "id": "smoking-option",
      "execution_count": 32,
      "outputs": []
    },
    {
      "cell_type": "code",
      "metadata": {
        "execution": {
          "iopub.execute_input": "2021-04-30T23:55:23.185521Z",
          "iopub.status.busy": "2021-04-30T23:55:23.184735Z",
          "iopub.status.idle": "2021-04-30T23:55:23.533515Z",
          "shell.execute_reply": "2021-04-30T23:55:23.532696Z"
        },
        "papermill": {
          "duration": 0.435163,
          "end_time": "2021-04-30T23:55:23.533705",
          "exception": false,
          "start_time": "2021-04-30T23:55:23.098542",
          "status": "completed"
        },
        "tags": [],
        "id": "extraordinary-attitude"
      },
      "source": [
        "# Teste: Avaliação do modelo (Accuracy)\n",
        "from sklearn.model_selection import cross_val_score\n",
        "scores = cross_val_score(model, X, y, scoring ='accuracy', cv=loo, n_jobs=-1)"
      ],
      "id": "extraordinary-attitude",
      "execution_count": 33,
      "outputs": []
    },
    {
      "cell_type": "code",
      "metadata": {
        "execution": {
          "iopub.execute_input": "2021-04-30T23:55:23.706555Z",
          "iopub.status.busy": "2021-04-30T23:55:23.705736Z",
          "iopub.status.idle": "2021-04-30T23:55:23.709047Z",
          "shell.execute_reply": "2021-04-30T23:55:23.709523Z"
        },
        "papermill": {
          "duration": 0.093338,
          "end_time": "2021-04-30T23:55:23.709725",
          "exception": false,
          "start_time": "2021-04-30T23:55:23.616387",
          "status": "completed"
        },
        "tags": [],
        "id": "national-durham",
        "colab": {
          "base_uri": "https://localhost:8080/"
        },
        "outputId": "c3aeb023-9d70-4577-f0b9-3f7ec0b65289"
      },
      "source": [
        "# Visualiação da qualidade do modelo\n",
        "from numpy import mean, std\n",
        "print('Accuracy: %.3f (%.3f)' % (mean(scores), std(scores)))"
      ],
      "id": "national-durham",
      "execution_count": 34,
      "outputs": [
        {
          "output_type": "stream",
          "text": [
            "Accuracy: 0.917 (0.276)\n"
          ],
          "name": "stdout"
        }
      ]
    },
    {
      "cell_type": "markdown",
      "metadata": {
        "papermill": {
          "duration": 0.081837,
          "end_time": "2021-04-30T23:55:23.874269",
          "exception": false,
          "start_time": "2021-04-30T23:55:23.792432",
          "status": "completed"
        },
        "tags": [],
        "id": "organizational-diagram"
      },
      "source": [
        "## Experimento 3\n",
        "Parâmetros do experimento:\n",
        "* Objetivo: Verificar a influência do classifidor na qualidade do modelo\n",
        "* Scaling: None\n",
        "* Splitting: K-Fold (10 splits)\n",
        "* Treinamento: Decision Tree Regression, SVM (linear), SVM (rbs), Random Forest, Logistic Regression, K-Neighbor, Multi-layer Perceptron e Naive Bayes\n",
        "* Testes: Accuracy score"
      ],
      "id": "organizational-diagram"
    },
    {
      "cell_type": "markdown",
      "metadata": {
        "papermill": {
          "duration": 0.082797,
          "end_time": "2021-04-30T23:55:24.039299",
          "exception": false,
          "start_time": "2021-04-30T23:55:23.956502",
          "status": "completed"
        },
        "tags": [],
        "id": "honest-superintendent"
      },
      "source": [
        "#### Classifier: Decision Tree Regressor"
      ],
      "id": "honest-superintendent"
    },
    {
      "cell_type": "code",
      "metadata": {
        "execution": {
          "iopub.execute_input": "2021-04-30T23:55:24.213278Z",
          "iopub.status.busy": "2021-04-30T23:55:24.212348Z",
          "iopub.status.idle": "2021-04-30T23:55:24.215433Z",
          "shell.execute_reply": "2021-04-30T23:55:24.214780Z"
        },
        "papermill": {
          "duration": 0.089836,
          "end_time": "2021-04-30T23:55:24.215588",
          "exception": false,
          "start_time": "2021-04-30T23:55:24.125752",
          "status": "completed"
        },
        "tags": [],
        "id": "familiar-david"
      },
      "source": [
        "# Scaling: Nesse experimento não efetuaremos o scaling (None)."
      ],
      "id": "familiar-david",
      "execution_count": 35,
      "outputs": []
    },
    {
      "cell_type": "code",
      "metadata": {
        "execution": {
          "iopub.execute_input": "2021-04-30T23:55:24.390547Z",
          "iopub.status.busy": "2021-04-30T23:55:24.389814Z",
          "iopub.status.idle": "2021-04-30T23:55:24.393740Z",
          "shell.execute_reply": "2021-04-30T23:55:24.393124Z"
        },
        "papermill": {
          "duration": 0.094544,
          "end_time": "2021-04-30T23:55:24.393896",
          "exception": false,
          "start_time": "2021-04-30T23:55:24.299352",
          "status": "completed"
        },
        "tags": [],
        "id": "figured-activity"
      },
      "source": [
        "# Splitting: Configuração dos parametros de particionamento do dataset de treinamento (K-Fold)\n",
        "from sklearn.model_selection import KFold\n",
        "kf = KFold(n_splits=10, random_state=0, shuffle=True)"
      ],
      "id": "figured-activity",
      "execution_count": 36,
      "outputs": []
    },
    {
      "cell_type": "code",
      "metadata": {
        "execution": {
          "iopub.execute_input": "2021-04-30T23:55:24.565595Z",
          "iopub.status.busy": "2021-04-30T23:55:24.564920Z",
          "iopub.status.idle": "2021-04-30T23:55:24.567704Z",
          "shell.execute_reply": "2021-04-30T23:55:24.568210Z"
        },
        "papermill": {
          "duration": 0.090488,
          "end_time": "2021-04-30T23:55:24.568383",
          "exception": false,
          "start_time": "2021-04-30T23:55:24.477895",
          "status": "completed"
        },
        "tags": [],
        "id": "unnecessary-conducting"
      },
      "source": [
        "# Modelo: Criação do modelo (Decision Tree Regressor)\n",
        "from sklearn.tree import DecisionTreeRegressor\n",
        "model = DecisionTreeRegressor(random_state=0)"
      ],
      "id": "unnecessary-conducting",
      "execution_count": 37,
      "outputs": []
    },
    {
      "cell_type": "code",
      "metadata": {
        "execution": {
          "iopub.execute_input": "2021-04-30T23:55:24.741134Z",
          "iopub.status.busy": "2021-04-30T23:55:24.740390Z",
          "iopub.status.idle": "2021-04-30T23:55:24.796640Z",
          "shell.execute_reply": "2021-04-30T23:55:24.797228Z"
        },
        "papermill": {
          "duration": 0.1453,
          "end_time": "2021-04-30T23:55:24.797404",
          "exception": false,
          "start_time": "2021-04-30T23:55:24.652104",
          "status": "completed"
        },
        "tags": [],
        "id": "according-constraint"
      },
      "source": [
        "# Teste: Avaliação do modelo (Accuracy)\n",
        "from sklearn.model_selection import cross_val_score\n",
        "scores = cross_val_score(model, X, y, scoring ='accuracy', cv=kf, n_jobs=-1)"
      ],
      "id": "according-constraint",
      "execution_count": 38,
      "outputs": []
    },
    {
      "cell_type": "code",
      "metadata": {
        "execution": {
          "iopub.execute_input": "2021-04-30T23:55:24.970415Z",
          "iopub.status.busy": "2021-04-30T23:55:24.969545Z",
          "iopub.status.idle": "2021-04-30T23:55:24.972852Z",
          "shell.execute_reply": "2021-04-30T23:55:24.973509Z"
        },
        "papermill": {
          "duration": 0.092573,
          "end_time": "2021-04-30T23:55:24.973744",
          "exception": false,
          "start_time": "2021-04-30T23:55:24.881171",
          "status": "completed"
        },
        "tags": [],
        "id": "noticed-research",
        "colab": {
          "base_uri": "https://localhost:8080/"
        },
        "outputId": "4d094acd-f23f-409d-cba5-e9385336fe87"
      },
      "source": [
        "# Visualiação da qualidade do modelo\n",
        "from numpy import mean, std\n",
        "print('Accuracy: %.3f (%.3f)' % (mean(scores)*100, std(scores)*100))"
      ],
      "id": "noticed-research",
      "execution_count": 39,
      "outputs": [
        {
          "output_type": "stream",
          "text": [
            "Accuracy: 91.667 (8.333)\n"
          ],
          "name": "stdout"
        }
      ]
    },
    {
      "cell_type": "markdown",
      "metadata": {
        "papermill": {
          "duration": 0.083409,
          "end_time": "2021-04-30T23:55:25.143036",
          "exception": false,
          "start_time": "2021-04-30T23:55:25.059627",
          "status": "completed"
        },
        "tags": [],
        "id": "hourly-ordering"
      },
      "source": [
        "### Classifier: Support Vector Classification (Linear)"
      ],
      "id": "hourly-ordering"
    },
    {
      "cell_type": "code",
      "metadata": {
        "execution": {
          "iopub.execute_input": "2021-04-30T23:55:25.314497Z",
          "iopub.status.busy": "2021-04-30T23:55:25.313820Z",
          "iopub.status.idle": "2021-04-30T23:55:25.317053Z",
          "shell.execute_reply": "2021-04-30T23:55:25.317527Z"
        },
        "papermill": {
          "duration": 0.091013,
          "end_time": "2021-04-30T23:55:25.317745",
          "exception": false,
          "start_time": "2021-04-30T23:55:25.226732",
          "status": "completed"
        },
        "tags": [],
        "id": "continuous-decade"
      },
      "source": [
        "# Scaling: Nesse experimento não efetuaremos o scaling (None)."
      ],
      "id": "continuous-decade",
      "execution_count": 40,
      "outputs": []
    },
    {
      "cell_type": "code",
      "metadata": {
        "execution": {
          "iopub.execute_input": "2021-04-30T23:55:25.487978Z",
          "iopub.status.busy": "2021-04-30T23:55:25.486980Z",
          "iopub.status.idle": "2021-04-30T23:55:25.491491Z",
          "shell.execute_reply": "2021-04-30T23:55:25.491971Z"
        },
        "papermill": {
          "duration": 0.091135,
          "end_time": "2021-04-30T23:55:25.492149",
          "exception": false,
          "start_time": "2021-04-30T23:55:25.401014",
          "status": "completed"
        },
        "tags": [],
        "id": "entire-jefferson"
      },
      "source": [
        "# Splitting: Configuração dos parametros de particionamento do dataset de treinamento (K-Fold)\n",
        "from sklearn.model_selection import KFold\n",
        "kf = KFold(n_splits=10, random_state=0, shuffle=True)"
      ],
      "id": "entire-jefferson",
      "execution_count": 41,
      "outputs": []
    },
    {
      "cell_type": "code",
      "metadata": {
        "execution": {
          "iopub.execute_input": "2021-04-30T23:55:25.661940Z",
          "iopub.status.busy": "2021-04-30T23:55:25.660935Z",
          "iopub.status.idle": "2021-04-30T23:55:25.665425Z",
          "shell.execute_reply": "2021-04-30T23:55:25.665893Z"
        },
        "papermill": {
          "duration": 0.09104,
          "end_time": "2021-04-30T23:55:25.666073",
          "exception": false,
          "start_time": "2021-04-30T23:55:25.575033",
          "status": "completed"
        },
        "tags": [],
        "id": "patient-serial"
      },
      "source": [
        "# Modelo: Criação do modelo (Support Vector Machine - Linear)\n",
        "from sklearn.svm import SVC\n",
        "model = SVC(kernel=\"linear\", C=0.025)"
      ],
      "id": "patient-serial",
      "execution_count": 42,
      "outputs": []
    },
    {
      "cell_type": "code",
      "metadata": {
        "execution": {
          "iopub.execute_input": "2021-04-30T23:55:25.836496Z",
          "iopub.status.busy": "2021-04-30T23:55:25.835503Z",
          "iopub.status.idle": "2021-04-30T23:55:25.897350Z",
          "shell.execute_reply": "2021-04-30T23:55:25.898032Z"
        },
        "papermill": {
          "duration": 0.149,
          "end_time": "2021-04-30T23:55:25.898258",
          "exception": false,
          "start_time": "2021-04-30T23:55:25.749258",
          "status": "completed"
        },
        "tags": [],
        "id": "military-baghdad"
      },
      "source": [
        "# Teste: Avaliação do modelo (Accuracy)\n",
        "from sklearn.model_selection import cross_val_score\n",
        "scores = cross_val_score(model, X, y, scoring ='accuracy', cv=kf, n_jobs=-1)"
      ],
      "id": "military-baghdad",
      "execution_count": 43,
      "outputs": []
    },
    {
      "cell_type": "code",
      "metadata": {
        "execution": {
          "iopub.execute_input": "2021-04-30T23:55:26.130362Z",
          "iopub.status.busy": "2021-04-30T23:55:26.129655Z",
          "iopub.status.idle": "2021-04-30T23:55:26.133360Z",
          "shell.execute_reply": "2021-04-30T23:55:26.132739Z"
        },
        "papermill": {
          "duration": 0.151594,
          "end_time": "2021-04-30T23:55:26.133500",
          "exception": false,
          "start_time": "2021-04-30T23:55:25.981906",
          "status": "completed"
        },
        "tags": [],
        "id": "taken-bride",
        "colab": {
          "base_uri": "https://localhost:8080/"
        },
        "outputId": "eb97a7b2-bbfe-435c-d43b-2728b57a341a"
      },
      "source": [
        "# Visualiação da qualidade do modelo\n",
        "from numpy import mean, std\n",
        "print('Accuracy: %.3f (%.3f)' % (mean(scores), std(scores)))"
      ],
      "id": "taken-bride",
      "execution_count": 44,
      "outputs": [
        {
          "output_type": "stream",
          "text": [
            "Accuracy: 0.925 (0.058)\n"
          ],
          "name": "stdout"
        }
      ]
    },
    {
      "cell_type": "markdown",
      "metadata": {
        "papermill": {
          "duration": 0.084019,
          "end_time": "2021-04-30T23:55:26.302879",
          "exception": false,
          "start_time": "2021-04-30T23:55:26.218860",
          "status": "completed"
        },
        "tags": [],
        "id": "executed-chapter"
      },
      "source": [
        "### Classifier: Support Vector Classification (Radial Basis Funtion)"
      ],
      "id": "executed-chapter"
    },
    {
      "cell_type": "code",
      "metadata": {
        "execution": {
          "iopub.execute_input": "2021-04-30T23:55:26.478300Z",
          "iopub.status.busy": "2021-04-30T23:55:26.477582Z",
          "iopub.status.idle": "2021-04-30T23:55:26.481099Z",
          "shell.execute_reply": "2021-04-30T23:55:26.480413Z"
        },
        "papermill": {
          "duration": 0.092229,
          "end_time": "2021-04-30T23:55:26.481261",
          "exception": false,
          "start_time": "2021-04-30T23:55:26.389032",
          "status": "completed"
        },
        "tags": [],
        "id": "backed-dublin"
      },
      "source": [
        "# Scaling: Nesse experimento não efetuaremos o scaling (None)."
      ],
      "id": "backed-dublin",
      "execution_count": 45,
      "outputs": []
    },
    {
      "cell_type": "code",
      "metadata": {
        "execution": {
          "iopub.execute_input": "2021-04-30T23:55:26.661037Z",
          "iopub.status.busy": "2021-04-30T23:55:26.660283Z",
          "iopub.status.idle": "2021-04-30T23:55:26.662958Z",
          "shell.execute_reply": "2021-04-30T23:55:26.663453Z"
        },
        "papermill": {
          "duration": 0.095316,
          "end_time": "2021-04-30T23:55:26.663643",
          "exception": false,
          "start_time": "2021-04-30T23:55:26.568327",
          "status": "completed"
        },
        "tags": [],
        "id": "fourth-minneapolis"
      },
      "source": [
        "# Splitting: Configuração dos parametros de particionamento do dataset de treinamento (K-Fold)\n",
        "from sklearn.model_selection import KFold\n",
        "kf = KFold(n_splits=10, random_state=0, shuffle=True)"
      ],
      "id": "fourth-minneapolis",
      "execution_count": 46,
      "outputs": []
    },
    {
      "cell_type": "code",
      "metadata": {
        "execution": {
          "iopub.execute_input": "2021-04-30T23:55:26.842131Z",
          "iopub.status.busy": "2021-04-30T23:55:26.841416Z",
          "iopub.status.idle": "2021-04-30T23:55:26.845375Z",
          "shell.execute_reply": "2021-04-30T23:55:26.844568Z"
        },
        "papermill": {
          "duration": 0.094649,
          "end_time": "2021-04-30T23:55:26.845539",
          "exception": false,
          "start_time": "2021-04-30T23:55:26.750890",
          "status": "completed"
        },
        "tags": [],
        "id": "functional-marshall"
      },
      "source": [
        "# Modelo: Criação do modelo (Support Vector Machine - Radial Basis Funcion)\n",
        "from sklearn.svm import SVC\n",
        "model = SVC(kernel=\"rbf\")"
      ],
      "id": "functional-marshall",
      "execution_count": 47,
      "outputs": []
    },
    {
      "cell_type": "code",
      "metadata": {
        "execution": {
          "iopub.execute_input": "2021-04-30T23:55:27.024078Z",
          "iopub.status.busy": "2021-04-30T23:55:27.023375Z",
          "iopub.status.idle": "2021-04-30T23:55:27.087088Z",
          "shell.execute_reply": "2021-04-30T23:55:27.086418Z"
        },
        "papermill": {
          "duration": 0.155651,
          "end_time": "2021-04-30T23:55:27.087253",
          "exception": false,
          "start_time": "2021-04-30T23:55:26.931602",
          "status": "completed"
        },
        "tags": [],
        "id": "alleged-blanket"
      },
      "source": [
        "# Teste: Avaliação do modelo (Accuracy)\n",
        "from sklearn.model_selection import cross_val_score\n",
        "scores = cross_val_score(model, X, y, scoring ='accuracy', cv=kf, n_jobs=-1)"
      ],
      "id": "alleged-blanket",
      "execution_count": 48,
      "outputs": []
    },
    {
      "cell_type": "code",
      "metadata": {
        "execution": {
          "iopub.execute_input": "2021-04-30T23:55:27.268682Z",
          "iopub.status.busy": "2021-04-30T23:55:27.267492Z",
          "iopub.status.idle": "2021-04-30T23:55:27.271855Z",
          "shell.execute_reply": "2021-04-30T23:55:27.272793Z"
        },
        "papermill": {
          "duration": 0.096501,
          "end_time": "2021-04-30T23:55:27.273037",
          "exception": false,
          "start_time": "2021-04-30T23:55:27.176536",
          "status": "completed"
        },
        "tags": [],
        "id": "hindu-score",
        "colab": {
          "base_uri": "https://localhost:8080/"
        },
        "outputId": "25dacd8a-49e9-4d54-bbfc-3b6227500091"
      },
      "source": [
        "# Visualiação da qualidade do modelo\n",
        "from numpy import mean, std\n",
        "print('Accuracy: %.3f (%.3f)' % (mean(scores), std(scores)))"
      ],
      "id": "hindu-score",
      "execution_count": 49,
      "outputs": [
        {
          "output_type": "stream",
          "text": [
            "Accuracy: 0.967 (0.041)\n"
          ],
          "name": "stdout"
        }
      ]
    },
    {
      "cell_type": "markdown",
      "metadata": {
        "papermill": {
          "duration": 0.084702,
          "end_time": "2021-04-30T23:55:27.446424",
          "exception": false,
          "start_time": "2021-04-30T23:55:27.361722",
          "status": "completed"
        },
        "tags": [],
        "id": "hollywood-third"
      },
      "source": [
        "### Classifier: Random Forest Classifier"
      ],
      "id": "hollywood-third"
    },
    {
      "cell_type": "code",
      "metadata": {
        "execution": {
          "iopub.execute_input": "2021-04-30T23:55:27.622976Z",
          "iopub.status.busy": "2021-04-30T23:55:27.621983Z",
          "iopub.status.idle": "2021-04-30T23:55:27.627212Z",
          "shell.execute_reply": "2021-04-30T23:55:27.626406Z"
        },
        "papermill": {
          "duration": 0.094107,
          "end_time": "2021-04-30T23:55:27.627367",
          "exception": false,
          "start_time": "2021-04-30T23:55:27.533260",
          "status": "completed"
        },
        "tags": [],
        "id": "vulnerable-junior"
      },
      "source": [
        "# Scaling: Nesse experimento não efetuaremos o scaling (None)."
      ],
      "id": "vulnerable-junior",
      "execution_count": 50,
      "outputs": []
    },
    {
      "cell_type": "code",
      "metadata": {
        "execution": {
          "iopub.execute_input": "2021-04-30T23:55:27.806626Z",
          "iopub.status.busy": "2021-04-30T23:55:27.805912Z",
          "iopub.status.idle": "2021-04-30T23:55:27.808420Z",
          "shell.execute_reply": "2021-04-30T23:55:27.809491Z"
        },
        "papermill": {
          "duration": 0.095453,
          "end_time": "2021-04-30T23:55:27.809706",
          "exception": false,
          "start_time": "2021-04-30T23:55:27.714253",
          "status": "completed"
        },
        "tags": [],
        "id": "respected-afghanistan"
      },
      "source": [
        "# Splitting: Configuração dos parametros de particionamento do dataset de treinamento (K-Fold)\n",
        "from sklearn.model_selection import KFold\n",
        "kf = KFold(n_splits=10, random_state=0, shuffle=True)"
      ],
      "id": "respected-afghanistan",
      "execution_count": 51,
      "outputs": []
    },
    {
      "cell_type": "code",
      "metadata": {
        "execution": {
          "iopub.execute_input": "2021-04-30T23:55:27.988656Z",
          "iopub.status.busy": "2021-04-30T23:55:27.987977Z",
          "iopub.status.idle": "2021-04-30T23:55:28.025603Z",
          "shell.execute_reply": "2021-04-30T23:55:28.025011Z"
        },
        "papermill": {
          "duration": 0.129034,
          "end_time": "2021-04-30T23:55:28.025784",
          "exception": false,
          "start_time": "2021-04-30T23:55:27.896750",
          "status": "completed"
        },
        "tags": [],
        "id": "worthy-portsmouth"
      },
      "source": [
        "# Modelo: Criação do modelo (Random Forest Classifier)\n",
        "from sklearn.ensemble import RandomForestClassifier\n",
        "model = RandomForestClassifier(n_estimators=5)"
      ],
      "id": "worthy-portsmouth",
      "execution_count": 52,
      "outputs": []
    },
    {
      "cell_type": "code",
      "metadata": {
        "execution": {
          "iopub.execute_input": "2021-04-30T23:55:28.210718Z",
          "iopub.status.busy": "2021-04-30T23:55:28.209974Z",
          "iopub.status.idle": "2021-04-30T23:55:28.323830Z",
          "shell.execute_reply": "2021-04-30T23:55:28.323089Z"
        },
        "papermill": {
          "duration": 0.209838,
          "end_time": "2021-04-30T23:55:28.324011",
          "exception": false,
          "start_time": "2021-04-30T23:55:28.114173",
          "status": "completed"
        },
        "tags": [],
        "id": "improved-figure"
      },
      "source": [
        "# Teste: Avaliação do modelo (Accuracy)\n",
        "from sklearn.model_selection import cross_val_score\n",
        "scores = cross_val_score(model, X, y, scoring ='accuracy', cv=kf, n_jobs=-1)"
      ],
      "id": "improved-figure",
      "execution_count": 53,
      "outputs": []
    },
    {
      "cell_type": "code",
      "metadata": {
        "execution": {
          "iopub.execute_input": "2021-04-30T23:55:28.508925Z",
          "iopub.status.busy": "2021-04-30T23:55:28.508005Z",
          "iopub.status.idle": "2021-04-30T23:55:28.512328Z",
          "shell.execute_reply": "2021-04-30T23:55:28.511512Z"
        },
        "papermill": {
          "duration": 0.096628,
          "end_time": "2021-04-30T23:55:28.512535",
          "exception": false,
          "start_time": "2021-04-30T23:55:28.415907",
          "status": "completed"
        },
        "tags": [],
        "id": "desperate-avatar",
        "colab": {
          "base_uri": "https://localhost:8080/"
        },
        "outputId": "2d138dee-9f2c-428c-816d-3eba1e9a004a"
      },
      "source": [
        "# Visualiação da qualidade do modelo\n",
        "from numpy import mean, std\n",
        "print('Accuracy: %.3f (%.3f)' % (mean(scores), std(scores)))"
      ],
      "id": "desperate-avatar",
      "execution_count": 54,
      "outputs": [
        {
          "output_type": "stream",
          "text": [
            "Accuracy: 0.950 (0.076)\n"
          ],
          "name": "stdout"
        }
      ]
    },
    {
      "cell_type": "markdown",
      "metadata": {
        "papermill": {
          "duration": 0.086361,
          "end_time": "2021-04-30T23:55:28.688340",
          "exception": false,
          "start_time": "2021-04-30T23:55:28.601979",
          "status": "completed"
        },
        "tags": [],
        "id": "instant-least"
      },
      "source": [
        "### Classifier: Logistic Regression"
      ],
      "id": "instant-least"
    },
    {
      "cell_type": "code",
      "metadata": {
        "execution": {
          "iopub.execute_input": "2021-04-30T23:55:28.867860Z",
          "iopub.status.busy": "2021-04-30T23:55:28.867153Z",
          "iopub.status.idle": "2021-04-30T23:55:28.870445Z",
          "shell.execute_reply": "2021-04-30T23:55:28.869789Z"
        },
        "papermill": {
          "duration": 0.094111,
          "end_time": "2021-04-30T23:55:28.870589",
          "exception": false,
          "start_time": "2021-04-30T23:55:28.776478",
          "status": "completed"
        },
        "tags": [],
        "id": "naughty-original"
      },
      "source": [
        "# Scaling: Nesse experimento não efetuaremos o scaling (None)."
      ],
      "id": "naughty-original",
      "execution_count": 55,
      "outputs": []
    },
    {
      "cell_type": "code",
      "metadata": {
        "execution": {
          "iopub.execute_input": "2021-04-30T23:55:29.052492Z",
          "iopub.status.busy": "2021-04-30T23:55:29.051806Z",
          "iopub.status.idle": "2021-04-30T23:55:29.056210Z",
          "shell.execute_reply": "2021-04-30T23:55:29.056759Z"
        },
        "papermill": {
          "duration": 0.098485,
          "end_time": "2021-04-30T23:55:29.056945",
          "exception": false,
          "start_time": "2021-04-30T23:55:28.958460",
          "status": "completed"
        },
        "tags": [],
        "id": "union-bhutan"
      },
      "source": [
        "# Splitting: Configuração dos parametros de particionamento do dataset de treinamento (K-Fold)\n",
        "from sklearn.model_selection import KFold\n",
        "kf = KFold(n_splits=10, random_state=0, shuffle=True)"
      ],
      "id": "union-bhutan",
      "execution_count": 56,
      "outputs": []
    },
    {
      "cell_type": "code",
      "metadata": {
        "execution": {
          "iopub.execute_input": "2021-04-30T23:55:29.236033Z",
          "iopub.status.busy": "2021-04-30T23:55:29.235246Z",
          "iopub.status.idle": "2021-04-30T23:55:29.240404Z",
          "shell.execute_reply": "2021-04-30T23:55:29.239793Z"
        },
        "papermill": {
          "duration": 0.095439,
          "end_time": "2021-04-30T23:55:29.240550",
          "exception": false,
          "start_time": "2021-04-30T23:55:29.145111",
          "status": "completed"
        },
        "tags": [],
        "id": "interpreted-mongolia"
      },
      "source": [
        "# Modelo: Criação do modelo (Logistic Regression)\n",
        "from sklearn.linear_model import LogisticRegression\n",
        "model = LogisticRegression()"
      ],
      "id": "interpreted-mongolia",
      "execution_count": 57,
      "outputs": []
    },
    {
      "cell_type": "code",
      "metadata": {
        "execution": {
          "iopub.execute_input": "2021-04-30T23:55:29.422260Z",
          "iopub.status.busy": "2021-04-30T23:55:29.421547Z",
          "iopub.status.idle": "2021-04-30T23:55:29.622389Z",
          "shell.execute_reply": "2021-04-30T23:55:29.621721Z"
        },
        "papermill": {
          "duration": 0.292861,
          "end_time": "2021-04-30T23:55:29.622551",
          "exception": false,
          "start_time": "2021-04-30T23:55:29.329690",
          "status": "completed"
        },
        "tags": [],
        "id": "perceived-faculty"
      },
      "source": [
        "# Teste: Avaliação do modelo (Accuracy)\n",
        "from sklearn.model_selection import cross_val_score\n",
        "scores = cross_val_score(model, X, y, scoring ='accuracy', cv=kf, n_jobs=-1)"
      ],
      "id": "perceived-faculty",
      "execution_count": 58,
      "outputs": []
    },
    {
      "cell_type": "code",
      "metadata": {
        "execution": {
          "iopub.execute_input": "2021-04-30T23:55:29.805446Z",
          "iopub.status.busy": "2021-04-30T23:55:29.804627Z",
          "iopub.status.idle": "2021-04-30T23:55:29.809634Z",
          "shell.execute_reply": "2021-04-30T23:55:29.809065Z"
        },
        "papermill": {
          "duration": 0.097531,
          "end_time": "2021-04-30T23:55:29.809825",
          "exception": false,
          "start_time": "2021-04-30T23:55:29.712294",
          "status": "completed"
        },
        "tags": [],
        "id": "accessible-night",
        "colab": {
          "base_uri": "https://localhost:8080/"
        },
        "outputId": "5758cb6e-7f0f-4d91-bdd8-e078bccc2d05"
      },
      "source": [
        "# Visualiação da qualidade do modelo\n",
        "from numpy import mean, std\n",
        "print('Accuracy: %.3f (%.3f)' % (mean(scores), std(scores)))"
      ],
      "id": "accessible-night",
      "execution_count": 59,
      "outputs": [
        {
          "output_type": "stream",
          "text": [
            "Accuracy: 0.967 (0.041)\n"
          ],
          "name": "stdout"
        }
      ]
    },
    {
      "cell_type": "markdown",
      "metadata": {
        "papermill": {
          "duration": 0.087815,
          "end_time": "2021-04-30T23:55:29.984788",
          "exception": false,
          "start_time": "2021-04-30T23:55:29.896973",
          "status": "completed"
        },
        "tags": [],
        "id": "apart-madness"
      },
      "source": [
        "### Classifier: K-Neighbors Classifier"
      ],
      "id": "apart-madness"
    },
    {
      "cell_type": "code",
      "metadata": {
        "execution": {
          "iopub.execute_input": "2021-04-30T23:55:30.171900Z",
          "iopub.status.busy": "2021-04-30T23:55:30.171163Z",
          "iopub.status.idle": "2021-04-30T23:55:30.175315Z",
          "shell.execute_reply": "2021-04-30T23:55:30.174582Z"
        },
        "papermill": {
          "duration": 0.099323,
          "end_time": "2021-04-30T23:55:30.175463",
          "exception": false,
          "start_time": "2021-04-30T23:55:30.076140",
          "status": "completed"
        },
        "tags": [],
        "id": "difficult-february"
      },
      "source": [
        "# Scaling: Nesse experimento não efetuaremos o scaling (None)."
      ],
      "id": "difficult-february",
      "execution_count": 60,
      "outputs": []
    },
    {
      "cell_type": "code",
      "metadata": {
        "execution": {
          "iopub.execute_input": "2021-04-30T23:55:30.355829Z",
          "iopub.status.busy": "2021-04-30T23:55:30.355071Z",
          "iopub.status.idle": "2021-04-30T23:55:30.360535Z",
          "shell.execute_reply": "2021-04-30T23:55:30.361240Z"
        },
        "papermill": {
          "duration": 0.09657,
          "end_time": "2021-04-30T23:55:30.361444",
          "exception": false,
          "start_time": "2021-04-30T23:55:30.264874",
          "status": "completed"
        },
        "tags": [],
        "id": "environmental-caribbean"
      },
      "source": [
        "# Splitting: Configuração dos parametros de particionamento do dataset de treinamento (K-Fold)\n",
        "from sklearn.model_selection import KFold\n",
        "kf = KFold(n_splits=10, random_state=0, shuffle=True)"
      ],
      "id": "environmental-caribbean",
      "execution_count": 61,
      "outputs": []
    },
    {
      "cell_type": "code",
      "metadata": {
        "execution": {
          "iopub.execute_input": "2021-04-30T23:55:30.544297Z",
          "iopub.status.busy": "2021-04-30T23:55:30.543618Z",
          "iopub.status.idle": "2021-04-30T23:55:30.545901Z",
          "shell.execute_reply": "2021-04-30T23:55:30.546369Z"
        },
        "papermill": {
          "duration": 0.096433,
          "end_time": "2021-04-30T23:55:30.546551",
          "exception": false,
          "start_time": "2021-04-30T23:55:30.450118",
          "status": "completed"
        },
        "tags": [],
        "id": "designing-korean"
      },
      "source": [
        "# Modelo: Criação do modelo (K-Neighbors Classifier)\n",
        "from sklearn.neighbors import KNeighborsClassifier\n",
        "model = KNeighborsClassifier(n_neighbors=10)"
      ],
      "id": "designing-korean",
      "execution_count": 62,
      "outputs": []
    },
    {
      "cell_type": "code",
      "metadata": {
        "execution": {
          "iopub.execute_input": "2021-04-30T23:55:30.728015Z",
          "iopub.status.busy": "2021-04-30T23:55:30.727280Z",
          "iopub.status.idle": "2021-04-30T23:55:30.788371Z",
          "shell.execute_reply": "2021-04-30T23:55:30.787613Z"
        },
        "papermill": {
          "duration": 0.153291,
          "end_time": "2021-04-30T23:55:30.788520",
          "exception": false,
          "start_time": "2021-04-30T23:55:30.635229",
          "status": "completed"
        },
        "tags": [],
        "id": "equipped-contributor"
      },
      "source": [
        "# Teste: Avaliação do modelo (Accuracy)\n",
        "from sklearn.model_selection import cross_val_score\n",
        "scores = cross_val_score(model, X, y, scoring ='accuracy', cv=kf, n_jobs=-1)"
      ],
      "id": "equipped-contributor",
      "execution_count": 63,
      "outputs": []
    },
    {
      "cell_type": "code",
      "metadata": {
        "execution": {
          "iopub.execute_input": "2021-04-30T23:55:30.975930Z",
          "iopub.status.busy": "2021-04-30T23:55:30.975224Z",
          "iopub.status.idle": "2021-04-30T23:55:30.978413Z",
          "shell.execute_reply": "2021-04-30T23:55:30.979147Z"
        },
        "papermill": {
          "duration": 0.09939,
          "end_time": "2021-04-30T23:55:30.979384",
          "exception": false,
          "start_time": "2021-04-30T23:55:30.879994",
          "status": "completed"
        },
        "tags": [],
        "id": "wireless-climate",
        "colab": {
          "base_uri": "https://localhost:8080/"
        },
        "outputId": "1fa4dfaf-f71b-4188-bdf3-76c5db5afa82"
      },
      "source": [
        "# Visualiação da qualidade do modelo\n",
        "from numpy import mean, std\n",
        "print('Accuracy: %.3f (%.3f)' % (mean(scores), std(scores)))"
      ],
      "id": "wireless-climate",
      "execution_count": 64,
      "outputs": [
        {
          "output_type": "stream",
          "text": [
            "Accuracy: 0.967 (0.041)\n"
          ],
          "name": "stdout"
        }
      ]
    },
    {
      "cell_type": "markdown",
      "metadata": {
        "papermill": {
          "duration": 0.093076,
          "end_time": "2021-04-30T23:55:31.164976",
          "exception": false,
          "start_time": "2021-04-30T23:55:31.071900",
          "status": "completed"
        },
        "tags": [],
        "id": "subsequent-dining"
      },
      "source": [
        "### Classifier: Multi-layer Perceptron Classifier"
      ],
      "id": "subsequent-dining"
    },
    {
      "cell_type": "code",
      "metadata": {
        "execution": {
          "iopub.execute_input": "2021-04-30T23:55:31.365462Z",
          "iopub.status.busy": "2021-04-30T23:55:31.364723Z",
          "iopub.status.idle": "2021-04-30T23:55:31.367873Z",
          "shell.execute_reply": "2021-04-30T23:55:31.368365Z"
        },
        "papermill": {
          "duration": 0.102664,
          "end_time": "2021-04-30T23:55:31.368540",
          "exception": false,
          "start_time": "2021-04-30T23:55:31.265876",
          "status": "completed"
        },
        "tags": [],
        "id": "spanish-display"
      },
      "source": [
        "# Scaling: Nesse experimento não efetuaremos o scaling (None)."
      ],
      "id": "spanish-display",
      "execution_count": 65,
      "outputs": []
    },
    {
      "cell_type": "code",
      "metadata": {
        "execution": {
          "iopub.execute_input": "2021-04-30T23:55:31.552497Z",
          "iopub.status.busy": "2021-04-30T23:55:31.551780Z",
          "iopub.status.idle": "2021-04-30T23:55:31.557916Z",
          "shell.execute_reply": "2021-04-30T23:55:31.557215Z"
        },
        "papermill": {
          "duration": 0.100291,
          "end_time": "2021-04-30T23:55:31.558105",
          "exception": false,
          "start_time": "2021-04-30T23:55:31.457814",
          "status": "completed"
        },
        "tags": [],
        "id": "gentle-protest"
      },
      "source": [
        "# Splitting: Configuração dos parametros de particionamento do dataset de treinamento (K-Fold)\n",
        "from sklearn.model_selection import KFold\n",
        "kf = KFold(n_splits=10, random_state=0, shuffle=True)"
      ],
      "id": "gentle-protest",
      "execution_count": 66,
      "outputs": []
    },
    {
      "cell_type": "code",
      "metadata": {
        "execution": {
          "iopub.execute_input": "2021-04-30T23:55:31.744030Z",
          "iopub.status.busy": "2021-04-30T23:55:31.743180Z",
          "iopub.status.idle": "2021-04-30T23:55:31.756307Z",
          "shell.execute_reply": "2021-04-30T23:55:31.756889Z"
        },
        "papermill": {
          "duration": 0.108848,
          "end_time": "2021-04-30T23:55:31.757076",
          "exception": false,
          "start_time": "2021-04-30T23:55:31.648228",
          "status": "completed"
        },
        "tags": [],
        "id": "engaging-fusion"
      },
      "source": [
        "# Modelo: Criação do modelo (Multi-layer Perceptron Classifier)\n",
        "from sklearn.neural_network import MLPClassifier\n",
        "model = MLPClassifier(alpha=1, max_iter=1000)"
      ],
      "id": "engaging-fusion",
      "execution_count": 67,
      "outputs": []
    },
    {
      "cell_type": "code",
      "metadata": {
        "execution": {
          "iopub.execute_input": "2021-04-30T23:55:31.942191Z",
          "iopub.status.busy": "2021-04-30T23:55:31.941129Z",
          "iopub.status.idle": "2021-04-30T23:55:33.547113Z",
          "shell.execute_reply": "2021-04-30T23:55:33.546525Z"
        },
        "papermill": {
          "duration": 1.701005,
          "end_time": "2021-04-30T23:55:33.547287",
          "exception": false,
          "start_time": "2021-04-30T23:55:31.846282",
          "status": "completed"
        },
        "tags": [],
        "id": "moderate-twelve"
      },
      "source": [
        "# Evaluate the model (Accuracy)\n",
        "from sklearn.model_selection import cross_val_score\n",
        "scores = cross_val_score(model, X, y, scoring ='accuracy', cv=kf, n_jobs=-1)"
      ],
      "id": "moderate-twelve",
      "execution_count": 68,
      "outputs": []
    },
    {
      "cell_type": "code",
      "metadata": {
        "execution": {
          "iopub.execute_input": "2021-04-30T23:55:33.732467Z",
          "iopub.status.busy": "2021-04-30T23:55:33.731789Z",
          "iopub.status.idle": "2021-04-30T23:55:33.735588Z",
          "shell.execute_reply": "2021-04-30T23:55:33.734991Z"
        },
        "papermill": {
          "duration": 0.098198,
          "end_time": "2021-04-30T23:55:33.735743",
          "exception": false,
          "start_time": "2021-04-30T23:55:33.637545",
          "status": "completed"
        },
        "tags": [],
        "id": "peripheral-proposal",
        "colab": {
          "base_uri": "https://localhost:8080/"
        },
        "outputId": "7a1301fe-6df8-4d67-9dd6-b25b3b550505"
      },
      "source": [
        "# Visualiação da qualidade do modelo\n",
        "from numpy import mean, std\n",
        "print('Accuracy: %.3f (%.3f)' % (mean(scores), std(scores)))"
      ],
      "id": "peripheral-proposal",
      "execution_count": 69,
      "outputs": [
        {
          "output_type": "stream",
          "text": [
            "Accuracy: 0.975 (0.038)\n"
          ],
          "name": "stdout"
        }
      ]
    },
    {
      "cell_type": "markdown",
      "metadata": {
        "papermill": {
          "duration": 0.09152,
          "end_time": "2021-04-30T23:55:33.916770",
          "exception": false,
          "start_time": "2021-04-30T23:55:33.825250",
          "status": "completed"
        },
        "tags": [],
        "id": "presidential-traffic"
      },
      "source": [
        "### Classifier: Naive Bayes Classifier\n"
      ],
      "id": "presidential-traffic"
    },
    {
      "cell_type": "code",
      "metadata": {
        "execution": {
          "iopub.execute_input": "2021-04-30T23:55:34.113620Z",
          "iopub.status.busy": "2021-04-30T23:55:34.112952Z",
          "iopub.status.idle": "2021-04-30T23:55:34.116157Z",
          "shell.execute_reply": "2021-04-30T23:55:34.116628Z"
        },
        "papermill": {
          "duration": 0.107297,
          "end_time": "2021-04-30T23:55:34.116844",
          "exception": false,
          "start_time": "2021-04-30T23:55:34.009547",
          "status": "completed"
        },
        "tags": [],
        "id": "remarkable-tension"
      },
      "source": [
        "# Scaling: Nesse experimento não efetuaremos o scaling (None)."
      ],
      "id": "remarkable-tension",
      "execution_count": 70,
      "outputs": []
    },
    {
      "cell_type": "code",
      "metadata": {
        "execution": {
          "iopub.execute_input": "2021-04-30T23:55:34.301307Z",
          "iopub.status.busy": "2021-04-30T23:55:34.300591Z",
          "iopub.status.idle": "2021-04-30T23:55:34.303917Z",
          "shell.execute_reply": "2021-04-30T23:55:34.304398Z"
        },
        "papermill": {
          "duration": 0.098582,
          "end_time": "2021-04-30T23:55:34.304714",
          "exception": false,
          "start_time": "2021-04-30T23:55:34.206132",
          "status": "completed"
        },
        "tags": [],
        "id": "embedded-northeast"
      },
      "source": [
        "# Splitting: Configuração dos parametros de particionamento do dataset de treinamento (K-Fold)\n",
        "from sklearn.model_selection import KFold\n",
        "kf = KFold(n_splits=10, random_state=0, shuffle=True)"
      ],
      "id": "embedded-northeast",
      "execution_count": 71,
      "outputs": []
    },
    {
      "cell_type": "code",
      "metadata": {
        "execution": {
          "iopub.execute_input": "2021-04-30T23:55:34.500405Z",
          "iopub.status.busy": "2021-04-30T23:55:34.499490Z",
          "iopub.status.idle": "2021-04-30T23:55:34.506099Z",
          "shell.execute_reply": "2021-04-30T23:55:34.505453Z"
        },
        "papermill": {
          "duration": 0.106472,
          "end_time": "2021-04-30T23:55:34.506249",
          "exception": false,
          "start_time": "2021-04-30T23:55:34.399777",
          "status": "completed"
        },
        "tags": [],
        "id": "superb-humanity"
      },
      "source": [
        "# Modelo: Criação do modelo (Naive Bayes Classifier)\n",
        "from sklearn.naive_bayes import GaussianNB\n",
        "model = GaussianNB()"
      ],
      "id": "superb-humanity",
      "execution_count": 72,
      "outputs": []
    },
    {
      "cell_type": "code",
      "metadata": {
        "execution": {
          "iopub.execute_input": "2021-04-30T23:55:34.695919Z",
          "iopub.status.busy": "2021-04-30T23:55:34.695099Z",
          "iopub.status.idle": "2021-04-30T23:55:34.747610Z",
          "shell.execute_reply": "2021-04-30T23:55:34.746743Z"
        },
        "papermill": {
          "duration": 0.15016,
          "end_time": "2021-04-30T23:55:34.747874",
          "exception": false,
          "start_time": "2021-04-30T23:55:34.597714",
          "status": "completed"
        },
        "tags": [],
        "id": "steady-surname"
      },
      "source": [
        "# Evaluate the model (Accuracy)\n",
        "from sklearn.model_selection import cross_val_score\n",
        "scores = cross_val_score(model, X, y, scoring ='accuracy', cv=kf, n_jobs=-1)"
      ],
      "id": "steady-surname",
      "execution_count": 73,
      "outputs": []
    },
    {
      "cell_type": "code",
      "metadata": {
        "execution": {
          "iopub.execute_input": "2021-04-30T23:55:34.938640Z",
          "iopub.status.busy": "2021-04-30T23:55:34.937223Z",
          "iopub.status.idle": "2021-04-30T23:55:34.941966Z",
          "shell.execute_reply": "2021-04-30T23:55:34.941322Z"
        },
        "papermill": {
          "duration": 0.100574,
          "end_time": "2021-04-30T23:55:34.942109",
          "exception": false,
          "start_time": "2021-04-30T23:55:34.841535",
          "status": "completed"
        },
        "tags": [],
        "id": "southeast-stress",
        "colab": {
          "base_uri": "https://localhost:8080/"
        },
        "outputId": "0a416732-9d9b-4a16-aa6e-9d7b03c97f75"
      },
      "source": [
        "# Visualiação da qualidade do modelo\n",
        "from numpy import mean, std\n",
        "print('Accuracy: %.3f (%.3f)' % (mean(scores), std(scores)))"
      ],
      "id": "southeast-stress",
      "execution_count": 74,
      "outputs": [
        {
          "output_type": "stream",
          "text": [
            "Accuracy: 0.950 (0.055)\n"
          ],
          "name": "stdout"
        }
      ]
    },
    {
      "cell_type": "markdown",
      "metadata": {
        "papermill": {
          "duration": 0.099359,
          "end_time": "2021-04-30T23:55:35.135003",
          "exception": false,
          "start_time": "2021-04-30T23:55:35.035644",
          "status": "completed"
        },
        "tags": [],
        "id": "functioning-bottom"
      },
      "source": [
        "# Resultado\n",
        "No experimento 1, verificamos que não usar técnicas de Scaling, fixado os outros parâmetros, não alterou a qualidade da saída do modelo para nenhuma das técnicas estatísticas utilizadas. O que, a princípio, pode estar ligado ao baixo desvio-padrão das features.\n",
        "\n",
        "Já no experimento 2, fixando todos os parametros e variando o tipo de Splitting, foi verificada uma diferença de aproximadamente 3% entre o melhor resultado (Holdout) e as outras duas outras técnicas (K-Fold com 10 partições e Leave-One-Out).\n",
        "\n",
        "Por fim, no experimento 3, com a configuração dos parâmetros fixas, com a variação dos algoritmos de classificação, observamos uma diferença de aproximadamente 6% entre o pior modelo (Decision Tree Regressor), que teve acurácia de 91,7%, com desvio padrão de 8,3%, e o melhor modelo (Multi-layer Perceptron Classifier), com 97,5% e desvio padrão de 3,8%."
      ],
      "id": "functioning-bottom"
    },
    {
      "cell_type": "markdown",
      "metadata": {
        "papermill": {
          "duration": 0.091042,
          "end_time": "2021-04-30T23:55:35.321929",
          "exception": false,
          "start_time": "2021-04-30T23:55:35.230887",
          "status": "completed"
        },
        "tags": [],
        "id": "dressed-squad"
      },
      "source": [
        "# Validação\n",
        "A partir do resultado dos experimentos, foi decidido selecionar a seguinte configuração para a contrução do modelo final, para prever as saídas dos dados de teste que serão enviados para avaliação:\n",
        "\n",
        "* Algoritmo Classificador: Multi-layer Perceptron Classifier\n",
        "* Scaling: none\n",
        "* Splitting: K-Fold (10 splits)\n",
        "* Avaliação: Kaggle\n",
        "\n",
        "Abaixo está o código completo do modelo que gera o arquivo para submissão no Kaggle."
      ],
      "id": "dressed-squad"
    },
    {
      "cell_type": "markdown",
      "metadata": {
        "papermill": {
          "duration": 0.092878,
          "end_time": "2021-04-30T23:55:35.509851",
          "exception": false,
          "start_time": "2021-04-30T23:55:35.416973",
          "status": "completed"
        },
        "tags": [],
        "id": "received-stationery"
      },
      "source": [
        "## Ler dataset de treinamento (train_Iris)"
      ],
      "id": "received-stationery"
    },
    {
      "cell_type": "code",
      "metadata": {
        "execution": {
          "iopub.execute_input": "2021-04-30T23:55:35.705867Z",
          "iopub.status.busy": "2021-04-30T23:55:35.705061Z",
          "iopub.status.idle": "2021-04-30T23:55:35.726390Z",
          "shell.execute_reply": "2021-04-30T23:55:35.725165Z"
        },
        "papermill": {
          "duration": 0.120346,
          "end_time": "2021-04-30T23:55:35.726565",
          "exception": false,
          "start_time": "2021-04-30T23:55:35.606219",
          "status": "completed"
        },
        "tags": [],
        "id": "alive-prospect",
        "colab": {
          "base_uri": "https://localhost:8080/",
          "height": 204
        },
        "outputId": "439141fd-dc50-43f4-ae75-76bf1e609ea3"
      },
      "source": [
        "# Leitura do dataset de treinamento\n",
        "import pandas as pd\n",
        "iris_data = pd.read_csv('https://raw.githubusercontent.com/xmrcl0/SME0829/main/project1/data/train_Iris.csv')\n",
        "\n",
        "\n",
        "# Visualiação das colunas do dataset para a escolha das features e labels\n",
        "iris_data.head()"
      ],
      "id": "alive-prospect",
      "execution_count": 75,
      "outputs": [
        {
          "output_type": "execute_result",
          "data": {
            "text/html": [
              "<div>\n",
              "<style scoped>\n",
              "    .dataframe tbody tr th:only-of-type {\n",
              "        vertical-align: middle;\n",
              "    }\n",
              "\n",
              "    .dataframe tbody tr th {\n",
              "        vertical-align: top;\n",
              "    }\n",
              "\n",
              "    .dataframe thead th {\n",
              "        text-align: right;\n",
              "    }\n",
              "</style>\n",
              "<table border=\"1\" class=\"dataframe\">\n",
              "  <thead>\n",
              "    <tr style=\"text-align: right;\">\n",
              "      <th></th>\n",
              "      <th>Id</th>\n",
              "      <th>SepalLengthCm</th>\n",
              "      <th>SepalWidthCm</th>\n",
              "      <th>PetalLengthCm</th>\n",
              "      <th>PetalWidthCm</th>\n",
              "      <th>Species</th>\n",
              "    </tr>\n",
              "  </thead>\n",
              "  <tbody>\n",
              "    <tr>\n",
              "      <th>0</th>\n",
              "      <td>59</td>\n",
              "      <td>6.6</td>\n",
              "      <td>2.9</td>\n",
              "      <td>4.6</td>\n",
              "      <td>1.3</td>\n",
              "      <td>Iris-versicolor</td>\n",
              "    </tr>\n",
              "    <tr>\n",
              "      <th>1</th>\n",
              "      <td>98</td>\n",
              "      <td>6.2</td>\n",
              "      <td>2.9</td>\n",
              "      <td>4.3</td>\n",
              "      <td>1.3</td>\n",
              "      <td>Iris-versicolor</td>\n",
              "    </tr>\n",
              "    <tr>\n",
              "      <th>2</th>\n",
              "      <td>130</td>\n",
              "      <td>7.2</td>\n",
              "      <td>3.0</td>\n",
              "      <td>5.8</td>\n",
              "      <td>1.6</td>\n",
              "      <td>Iris-virginica</td>\n",
              "    </tr>\n",
              "    <tr>\n",
              "      <th>3</th>\n",
              "      <td>115</td>\n",
              "      <td>5.8</td>\n",
              "      <td>2.8</td>\n",
              "      <td>5.1</td>\n",
              "      <td>2.4</td>\n",
              "      <td>Iris-virginica</td>\n",
              "    </tr>\n",
              "    <tr>\n",
              "      <th>4</th>\n",
              "      <td>147</td>\n",
              "      <td>6.3</td>\n",
              "      <td>2.5</td>\n",
              "      <td>5.0</td>\n",
              "      <td>1.9</td>\n",
              "      <td>Iris-virginica</td>\n",
              "    </tr>\n",
              "  </tbody>\n",
              "</table>\n",
              "</div>"
            ],
            "text/plain": [
              "    Id  SepalLengthCm  ...  PetalWidthCm          Species\n",
              "0   59            6.6  ...           1.3  Iris-versicolor\n",
              "1   98            6.2  ...           1.3  Iris-versicolor\n",
              "2  130            7.2  ...           1.6   Iris-virginica\n",
              "3  115            5.8  ...           2.4   Iris-virginica\n",
              "4  147            6.3  ...           1.9   Iris-virginica\n",
              "\n",
              "[5 rows x 6 columns]"
            ]
          },
          "metadata": {
            "tags": []
          },
          "execution_count": 75
        }
      ]
    },
    {
      "cell_type": "markdown",
      "metadata": {
        "papermill": {
          "duration": 0.095871,
          "end_time": "2021-04-30T23:55:35.918863",
          "exception": false,
          "start_time": "2021-04-30T23:55:35.822992",
          "status": "completed"
        },
        "tags": [],
        "id": "about-fever"
      },
      "source": [
        "## Ler dataset de teste (test_Iris)"
      ],
      "id": "about-fever"
    },
    {
      "cell_type": "code",
      "metadata": {
        "execution": {
          "iopub.execute_input": "2021-04-30T23:55:36.116322Z",
          "iopub.status.busy": "2021-04-30T23:55:36.115594Z",
          "iopub.status.idle": "2021-04-30T23:55:36.138511Z",
          "shell.execute_reply": "2021-04-30T23:55:36.137766Z"
        },
        "papermill": {
          "duration": 0.121845,
          "end_time": "2021-04-30T23:55:36.138699",
          "exception": false,
          "start_time": "2021-04-30T23:55:36.016854",
          "status": "completed"
        },
        "tags": [],
        "id": "boolean-aruba",
        "colab": {
          "base_uri": "https://localhost:8080/",
          "height": 204
        },
        "outputId": "55a3cd80-f61a-43ad-e32f-c3eeb524ddc4"
      },
      "source": [
        "# Leitura do dataset de teste\n",
        "iris_test = pd.read_csv('https://raw.githubusercontent.com/xmrcl0/SME0829/main/project1/data/test_Iris.csv')\n",
        " \n",
        "# Visualiação das colunas do dataset para a escolha das features e labels\n",
        "iris_test.head()"
      ],
      "id": "boolean-aruba",
      "execution_count": 76,
      "outputs": [
        {
          "output_type": "execute_result",
          "data": {
            "text/html": [
              "<div>\n",
              "<style scoped>\n",
              "    .dataframe tbody tr th:only-of-type {\n",
              "        vertical-align: middle;\n",
              "    }\n",
              "\n",
              "    .dataframe tbody tr th {\n",
              "        vertical-align: top;\n",
              "    }\n",
              "\n",
              "    .dataframe thead th {\n",
              "        text-align: right;\n",
              "    }\n",
              "</style>\n",
              "<table border=\"1\" class=\"dataframe\">\n",
              "  <thead>\n",
              "    <tr style=\"text-align: right;\">\n",
              "      <th></th>\n",
              "      <th>Id</th>\n",
              "      <th>SepalLengthCm</th>\n",
              "      <th>SepalWidthCm</th>\n",
              "      <th>PetalLengthCm</th>\n",
              "      <th>PetalWidthCm</th>\n",
              "    </tr>\n",
              "  </thead>\n",
              "  <tbody>\n",
              "    <tr>\n",
              "      <th>0</th>\n",
              "      <td>88</td>\n",
              "      <td>6.3</td>\n",
              "      <td>2.3</td>\n",
              "      <td>4.4</td>\n",
              "      <td>1.3</td>\n",
              "    </tr>\n",
              "    <tr>\n",
              "      <th>1</th>\n",
              "      <td>112</td>\n",
              "      <td>6.4</td>\n",
              "      <td>2.7</td>\n",
              "      <td>5.3</td>\n",
              "      <td>1.9</td>\n",
              "    </tr>\n",
              "    <tr>\n",
              "      <th>2</th>\n",
              "      <td>11</td>\n",
              "      <td>5.4</td>\n",
              "      <td>3.7</td>\n",
              "      <td>1.5</td>\n",
              "      <td>0.2</td>\n",
              "    </tr>\n",
              "    <tr>\n",
              "      <th>3</th>\n",
              "      <td>92</td>\n",
              "      <td>6.1</td>\n",
              "      <td>3.0</td>\n",
              "      <td>4.6</td>\n",
              "      <td>1.4</td>\n",
              "    </tr>\n",
              "    <tr>\n",
              "      <th>4</th>\n",
              "      <td>50</td>\n",
              "      <td>5.0</td>\n",
              "      <td>3.3</td>\n",
              "      <td>1.4</td>\n",
              "      <td>0.2</td>\n",
              "    </tr>\n",
              "  </tbody>\n",
              "</table>\n",
              "</div>"
            ],
            "text/plain": [
              "    Id  SepalLengthCm  SepalWidthCm  PetalLengthCm  PetalWidthCm\n",
              "0   88            6.3           2.3            4.4           1.3\n",
              "1  112            6.4           2.7            5.3           1.9\n",
              "2   11            5.4           3.7            1.5           0.2\n",
              "3   92            6.1           3.0            4.6           1.4\n",
              "4   50            5.0           3.3            1.4           0.2"
            ]
          },
          "metadata": {
            "tags": []
          },
          "execution_count": 76
        }
      ]
    },
    {
      "cell_type": "markdown",
      "metadata": {
        "papermill": {
          "duration": 0.09395,
          "end_time": "2021-04-30T23:55:36.329260",
          "exception": false,
          "start_time": "2021-04-30T23:55:36.235310",
          "status": "completed"
        },
        "tags": [],
        "id": "iraqi-grant"
      },
      "source": [
        "## Separar features e labels"
      ],
      "id": "iraqi-grant"
    },
    {
      "cell_type": "code",
      "metadata": {
        "execution": {
          "iopub.execute_input": "2021-04-30T23:55:36.521478Z",
          "iopub.status.busy": "2021-04-30T23:55:36.520810Z",
          "iopub.status.idle": "2021-04-30T23:55:36.536738Z",
          "shell.execute_reply": "2021-04-30T23:55:36.536081Z"
        },
        "papermill": {
          "duration": 0.110937,
          "end_time": "2021-04-30T23:55:36.536881",
          "exception": false,
          "start_time": "2021-04-30T23:55:36.425944",
          "status": "completed"
        },
        "tags": [],
        "id": "funny-gnome",
        "colab": {
          "base_uri": "https://localhost:8080/",
          "height": 204
        },
        "outputId": "90fb4c82-cdb7-4f08-f9c4-c18a24e819a6"
      },
      "source": [
        "# Seleção das colunas de entrada para o modelo (features do dataset treinamento)\n",
        "iris_features = ['SepalLengthCm', 'SepalWidthCm', 'PetalLengthCm', 'PetalWidthCm']\n",
        "X = iris_data[iris_features]\n",
        "\n",
        "# Visualização das features\n",
        "X.head()"
      ],
      "id": "funny-gnome",
      "execution_count": 77,
      "outputs": [
        {
          "output_type": "execute_result",
          "data": {
            "text/html": [
              "<div>\n",
              "<style scoped>\n",
              "    .dataframe tbody tr th:only-of-type {\n",
              "        vertical-align: middle;\n",
              "    }\n",
              "\n",
              "    .dataframe tbody tr th {\n",
              "        vertical-align: top;\n",
              "    }\n",
              "\n",
              "    .dataframe thead th {\n",
              "        text-align: right;\n",
              "    }\n",
              "</style>\n",
              "<table border=\"1\" class=\"dataframe\">\n",
              "  <thead>\n",
              "    <tr style=\"text-align: right;\">\n",
              "      <th></th>\n",
              "      <th>SepalLengthCm</th>\n",
              "      <th>SepalWidthCm</th>\n",
              "      <th>PetalLengthCm</th>\n",
              "      <th>PetalWidthCm</th>\n",
              "    </tr>\n",
              "  </thead>\n",
              "  <tbody>\n",
              "    <tr>\n",
              "      <th>0</th>\n",
              "      <td>6.6</td>\n",
              "      <td>2.9</td>\n",
              "      <td>4.6</td>\n",
              "      <td>1.3</td>\n",
              "    </tr>\n",
              "    <tr>\n",
              "      <th>1</th>\n",
              "      <td>6.2</td>\n",
              "      <td>2.9</td>\n",
              "      <td>4.3</td>\n",
              "      <td>1.3</td>\n",
              "    </tr>\n",
              "    <tr>\n",
              "      <th>2</th>\n",
              "      <td>7.2</td>\n",
              "      <td>3.0</td>\n",
              "      <td>5.8</td>\n",
              "      <td>1.6</td>\n",
              "    </tr>\n",
              "    <tr>\n",
              "      <th>3</th>\n",
              "      <td>5.8</td>\n",
              "      <td>2.8</td>\n",
              "      <td>5.1</td>\n",
              "      <td>2.4</td>\n",
              "    </tr>\n",
              "    <tr>\n",
              "      <th>4</th>\n",
              "      <td>6.3</td>\n",
              "      <td>2.5</td>\n",
              "      <td>5.0</td>\n",
              "      <td>1.9</td>\n",
              "    </tr>\n",
              "  </tbody>\n",
              "</table>\n",
              "</div>"
            ],
            "text/plain": [
              "   SepalLengthCm  SepalWidthCm  PetalLengthCm  PetalWidthCm\n",
              "0            6.6           2.9            4.6           1.3\n",
              "1            6.2           2.9            4.3           1.3\n",
              "2            7.2           3.0            5.8           1.6\n",
              "3            5.8           2.8            5.1           2.4\n",
              "4            6.3           2.5            5.0           1.9"
            ]
          },
          "metadata": {
            "tags": []
          },
          "execution_count": 77
        }
      ]
    },
    {
      "cell_type": "code",
      "metadata": {
        "execution": {
          "iopub.execute_input": "2021-04-30T23:55:36.731011Z",
          "iopub.status.busy": "2021-04-30T23:55:36.730261Z",
          "iopub.status.idle": "2021-04-30T23:55:36.745795Z",
          "shell.execute_reply": "2021-04-30T23:55:36.745228Z"
        },
        "papermill": {
          "duration": 0.113068,
          "end_time": "2021-04-30T23:55:36.745984",
          "exception": false,
          "start_time": "2021-04-30T23:55:36.632916",
          "status": "completed"
        },
        "tags": [],
        "id": "taken-experience",
        "colab": {
          "base_uri": "https://localhost:8080/",
          "height": 204
        },
        "outputId": "40fd9553-ff72-476d-c55a-d2173a146fd1"
      },
      "source": [
        "# Seleção das colunas de entrada para o modelo (features do dataset test)\n",
        "iris_features = ['SepalLengthCm', 'SepalWidthCm', 'PetalLengthCm', 'PetalWidthCm']\n",
        "iris_test_X = iris_test[iris_features]\n",
        "\n",
        "# Visualização das features\n",
        "iris_test_X.head()"
      ],
      "id": "taken-experience",
      "execution_count": 78,
      "outputs": [
        {
          "output_type": "execute_result",
          "data": {
            "text/html": [
              "<div>\n",
              "<style scoped>\n",
              "    .dataframe tbody tr th:only-of-type {\n",
              "        vertical-align: middle;\n",
              "    }\n",
              "\n",
              "    .dataframe tbody tr th {\n",
              "        vertical-align: top;\n",
              "    }\n",
              "\n",
              "    .dataframe thead th {\n",
              "        text-align: right;\n",
              "    }\n",
              "</style>\n",
              "<table border=\"1\" class=\"dataframe\">\n",
              "  <thead>\n",
              "    <tr style=\"text-align: right;\">\n",
              "      <th></th>\n",
              "      <th>SepalLengthCm</th>\n",
              "      <th>SepalWidthCm</th>\n",
              "      <th>PetalLengthCm</th>\n",
              "      <th>PetalWidthCm</th>\n",
              "    </tr>\n",
              "  </thead>\n",
              "  <tbody>\n",
              "    <tr>\n",
              "      <th>0</th>\n",
              "      <td>6.3</td>\n",
              "      <td>2.3</td>\n",
              "      <td>4.4</td>\n",
              "      <td>1.3</td>\n",
              "    </tr>\n",
              "    <tr>\n",
              "      <th>1</th>\n",
              "      <td>6.4</td>\n",
              "      <td>2.7</td>\n",
              "      <td>5.3</td>\n",
              "      <td>1.9</td>\n",
              "    </tr>\n",
              "    <tr>\n",
              "      <th>2</th>\n",
              "      <td>5.4</td>\n",
              "      <td>3.7</td>\n",
              "      <td>1.5</td>\n",
              "      <td>0.2</td>\n",
              "    </tr>\n",
              "    <tr>\n",
              "      <th>3</th>\n",
              "      <td>6.1</td>\n",
              "      <td>3.0</td>\n",
              "      <td>4.6</td>\n",
              "      <td>1.4</td>\n",
              "    </tr>\n",
              "    <tr>\n",
              "      <th>4</th>\n",
              "      <td>5.0</td>\n",
              "      <td>3.3</td>\n",
              "      <td>1.4</td>\n",
              "      <td>0.2</td>\n",
              "    </tr>\n",
              "  </tbody>\n",
              "</table>\n",
              "</div>"
            ],
            "text/plain": [
              "   SepalLengthCm  SepalWidthCm  PetalLengthCm  PetalWidthCm\n",
              "0            6.3           2.3            4.4           1.3\n",
              "1            6.4           2.7            5.3           1.9\n",
              "2            5.4           3.7            1.5           0.2\n",
              "3            6.1           3.0            4.6           1.4\n",
              "4            5.0           3.3            1.4           0.2"
            ]
          },
          "metadata": {
            "tags": []
          },
          "execution_count": 78
        }
      ]
    },
    {
      "cell_type": "code",
      "metadata": {
        "execution": {
          "iopub.execute_input": "2021-04-30T23:55:36.938893Z",
          "iopub.status.busy": "2021-04-30T23:55:36.937990Z",
          "iopub.status.idle": "2021-04-30T23:55:36.943235Z",
          "shell.execute_reply": "2021-04-30T23:55:36.942513Z"
        },
        "papermill": {
          "duration": 0.104332,
          "end_time": "2021-04-30T23:55:36.943386",
          "exception": false,
          "start_time": "2021-04-30T23:55:36.839054",
          "status": "completed"
        },
        "tags": [],
        "id": "differential-piano",
        "colab": {
          "base_uri": "https://localhost:8080/"
        },
        "outputId": "807d0b75-8f97-40b4-a0e2-6ffd914e7fee"
      },
      "source": [
        "# Seleção da coluna alvo (prediction target ou label)\n",
        "y = iris_data.Species\n",
        "\n",
        "# Visualização das labels\n",
        "y.head()"
      ],
      "id": "differential-piano",
      "execution_count": 79,
      "outputs": [
        {
          "output_type": "execute_result",
          "data": {
            "text/plain": [
              "0    Iris-versicolor\n",
              "1    Iris-versicolor\n",
              "2     Iris-virginica\n",
              "3     Iris-virginica\n",
              "4     Iris-virginica\n",
              "Name: Species, dtype: object"
            ]
          },
          "metadata": {
            "tags": []
          },
          "execution_count": 79
        }
      ]
    },
    {
      "cell_type": "code",
      "metadata": {
        "execution": {
          "iopub.execute_input": "2021-04-30T23:55:37.144181Z",
          "iopub.status.busy": "2021-04-30T23:55:37.143468Z",
          "iopub.status.idle": "2021-04-30T23:55:37.152583Z",
          "shell.execute_reply": "2021-04-30T23:55:37.151901Z"
        },
        "papermill": {
          "duration": 0.113547,
          "end_time": "2021-04-30T23:55:37.152793",
          "exception": false,
          "start_time": "2021-04-30T23:55:37.039246",
          "status": "completed"
        },
        "tags": [],
        "id": "confirmed-interface",
        "colab": {
          "base_uri": "https://localhost:8080/"
        },
        "outputId": "2f3f3f6e-2328-4e74-ce39-30cf320e3028"
      },
      "source": [
        "# Transformação do vetor labels de string em número\n",
        "from sklearn import preprocessing\n",
        "le = preprocessing.LabelEncoder()\n",
        "le.fit(y)\n",
        "list(le.classes_)\n",
        "y = le.transform(iris_data.Species)\n",
        "y"
      ],
      "id": "confirmed-interface",
      "execution_count": 80,
      "outputs": [
        {
          "output_type": "execute_result",
          "data": {
            "text/plain": [
              "array([1, 1, 2, 2, 2, 0, 2, 2, 2, 2, 0, 0, 1, 0, 1, 0, 1, 1, 2, 2, 1, 2,\n",
              "       1, 1, 1, 0, 0, 1, 0, 2, 0, 0, 2, 1, 2, 0, 2, 0, 1, 1, 0, 2, 2, 2,\n",
              "       2, 2, 0, 1, 2, 1, 0, 2, 1, 1, 0, 0, 0, 1, 2, 2, 1, 0, 0, 0, 2, 2,\n",
              "       1, 1, 2, 2, 2, 2, 1, 0, 0, 1, 0, 0, 2, 1, 0, 0, 0, 1, 0, 1, 0, 1,\n",
              "       2, 0, 1, 1, 2, 0, 2, 0, 1, 1, 2, 2, 0, 1, 2, 2, 1, 1, 2, 0, 2, 0,\n",
              "       0, 1, 0, 2, 2, 2, 1, 0, 2, 0])"
            ]
          },
          "metadata": {
            "tags": []
          },
          "execution_count": 80
        }
      ]
    },
    {
      "cell_type": "markdown",
      "metadata": {
        "papermill": {
          "duration": 0.094307,
          "end_time": "2021-04-30T23:55:37.345903",
          "exception": false,
          "start_time": "2021-04-30T23:55:37.251596",
          "status": "completed"
        },
        "tags": [],
        "id": "careful-missile"
      },
      "source": [
        "## Scaling"
      ],
      "id": "careful-missile"
    },
    {
      "cell_type": "code",
      "metadata": {
        "execution": {
          "iopub.execute_input": "2021-04-30T23:55:37.542484Z",
          "iopub.status.busy": "2021-04-30T23:55:37.541536Z",
          "iopub.status.idle": "2021-04-30T23:55:37.544739Z",
          "shell.execute_reply": "2021-04-30T23:55:37.545268Z"
        },
        "papermill": {
          "duration": 0.102474,
          "end_time": "2021-04-30T23:55:37.545457",
          "exception": false,
          "start_time": "2021-04-30T23:55:37.442983",
          "status": "completed"
        },
        "tags": [],
        "id": "still-wages"
      },
      "source": [
        "# Scaling: None\n",
        "# Como não identificamos melhorias nos resultados do modelo, no experimento 1,\n",
        "# não utilizaremos scaling para a construçaõ do modelo. Entretanto, deve-se\n",
        "# observar que o scaling não influenciou no classificador DecisionTree, mas\n",
        "# pode influenciar em outros classificadores."
      ],
      "id": "still-wages",
      "execution_count": 81,
      "outputs": []
    },
    {
      "cell_type": "markdown",
      "metadata": {
        "papermill": {
          "duration": 0.094846,
          "end_time": "2021-04-30T23:55:37.740629",
          "exception": false,
          "start_time": "2021-04-30T23:55:37.645783",
          "status": "completed"
        },
        "tags": [],
        "id": "sized-nancy"
      },
      "source": [
        "## Splitting"
      ],
      "id": "sized-nancy"
    },
    {
      "cell_type": "code",
      "metadata": {
        "execution": {
          "iopub.execute_input": "2021-04-30T23:55:37.932428Z",
          "iopub.status.busy": "2021-04-30T23:55:37.931738Z",
          "iopub.status.idle": "2021-04-30T23:55:37.935627Z",
          "shell.execute_reply": "2021-04-30T23:55:37.936174Z"
        },
        "papermill": {
          "duration": 0.101535,
          "end_time": "2021-04-30T23:55:37.936375",
          "exception": false,
          "start_time": "2021-04-30T23:55:37.834840",
          "status": "completed"
        },
        "tags": [],
        "id": "likely-shooting"
      },
      "source": [
        "# Splitting: K-Fold (10 partições)\n",
        "from sklearn.model_selection import KFold\n",
        "kf = KFold(n_splits=10, random_state=0, shuffle=True)"
      ],
      "id": "likely-shooting",
      "execution_count": 82,
      "outputs": []
    },
    {
      "cell_type": "markdown",
      "metadata": {
        "papermill": {
          "duration": 0.096515,
          "end_time": "2021-04-30T23:55:38.128860",
          "exception": false,
          "start_time": "2021-04-30T23:55:38.032345",
          "status": "completed"
        },
        "tags": [],
        "id": "capital-column"
      },
      "source": [
        "## Treinamento"
      ],
      "id": "capital-column"
    },
    {
      "cell_type": "code",
      "metadata": {
        "execution": {
          "iopub.execute_input": "2021-04-30T23:55:38.327590Z",
          "iopub.status.busy": "2021-04-30T23:55:38.326842Z",
          "iopub.status.idle": "2021-04-30T23:55:42.452894Z",
          "shell.execute_reply": "2021-04-30T23:55:42.453566Z"
        },
        "papermill": {
          "duration": 4.225871,
          "end_time": "2021-04-30T23:55:42.453792",
          "exception": false,
          "start_time": "2021-04-30T23:55:38.227921",
          "status": "completed"
        },
        "tags": [],
        "id": "tired-population"
      },
      "source": [
        "# Criação do modelo (Multi-layer Perceptron Classifier)\n",
        "from sklearn.neural_network import MLPClassifier\n",
        "model = MLPClassifier(alpha=2, max_iter=1000)\n",
        "scores = []\n",
        "for train_index, test_index in kf.split(X):\n",
        "  train_X, test_X, train_y, test_y = X.iloc[train_index], X.iloc[test_index], y[train_index], y[test_index]\n",
        "  model.fit(train_X, train_y)\n",
        "  scores.append(model.score(test_X, test_y))"
      ],
      "id": "tired-population",
      "execution_count": 83,
      "outputs": []
    },
    {
      "cell_type": "code",
      "metadata": {
        "execution": {
          "iopub.execute_input": "2021-04-30T23:55:42.649180Z",
          "iopub.status.busy": "2021-04-30T23:55:42.648419Z",
          "iopub.status.idle": "2021-04-30T23:55:42.654371Z",
          "shell.execute_reply": "2021-04-30T23:55:42.653694Z"
        },
        "papermill": {
          "duration": 0.104746,
          "end_time": "2021-04-30T23:55:42.654520",
          "exception": false,
          "start_time": "2021-04-30T23:55:42.549774",
          "status": "completed"
        },
        "tags": [],
        "id": "reduced-scott",
        "colab": {
          "base_uri": "https://localhost:8080/"
        },
        "outputId": "530626c2-3380-4dde-9a69-8a231c4aaf79"
      },
      "source": [
        "# Show the score\n",
        "from numpy import mean, std\n",
        "print('Accuracy: %.3f (%.3f)' % (mean(scores), std(scores)))"
      ],
      "id": "reduced-scott",
      "execution_count": 84,
      "outputs": [
        {
          "output_type": "stream",
          "text": [
            "Accuracy: 0.983 (0.033)\n"
          ],
          "name": "stdout"
        }
      ]
    },
    {
      "cell_type": "markdown",
      "metadata": {
        "papermill": {
          "duration": 0.094887,
          "end_time": "2021-04-30T23:55:42.845118",
          "exception": false,
          "start_time": "2021-04-30T23:55:42.750231",
          "status": "completed"
        },
        "tags": [],
        "id": "talented-supervision"
      },
      "source": [
        "## Previsão das respostas (labels)"
      ],
      "id": "talented-supervision"
    },
    {
      "cell_type": "code",
      "metadata": {
        "execution": {
          "iopub.execute_input": "2021-04-30T23:55:43.040490Z",
          "iopub.status.busy": "2021-04-30T23:55:43.039463Z",
          "iopub.status.idle": "2021-04-30T23:55:43.048900Z",
          "shell.execute_reply": "2021-04-30T23:55:43.048358Z"
        },
        "papermill": {
          "duration": 0.10844,
          "end_time": "2021-04-30T23:55:43.049046",
          "exception": false,
          "start_time": "2021-04-30T23:55:42.940606",
          "status": "completed"
        },
        "tags": [],
        "id": "egyptian-aside",
        "colab": {
          "base_uri": "https://localhost:8080/"
        },
        "outputId": "3b8c553a-317e-44f1-9d90-14eafd0e0b11"
      },
      "source": [
        "# Previsão das labels para o dataset de validação\n",
        "pred_y = model.predict(iris_test_X)\n",
        "pred_y[:, None]"
      ],
      "id": "egyptian-aside",
      "execution_count": 85,
      "outputs": [
        {
          "output_type": "execute_result",
          "data": {
            "text/plain": [
              "array([[1],\n",
              "       [2],\n",
              "       [0],\n",
              "       [1],\n",
              "       [0],\n",
              "       [1],\n",
              "       [2],\n",
              "       [1],\n",
              "       [0],\n",
              "       [1],\n",
              "       [1],\n",
              "       [2],\n",
              "       [1],\n",
              "       [0],\n",
              "       [0],\n",
              "       [2],\n",
              "       [1],\n",
              "       [0],\n",
              "       [0],\n",
              "       [0],\n",
              "       [2],\n",
              "       [2],\n",
              "       [2],\n",
              "       [0],\n",
              "       [1],\n",
              "       [0],\n",
              "       [1],\n",
              "       [1],\n",
              "       [1],\n",
              "       [2]])"
            ]
          },
          "metadata": {
            "tags": []
          },
          "execution_count": 85
        }
      ]
    },
    {
      "cell_type": "code",
      "metadata": {
        "execution": {
          "iopub.execute_input": "2021-04-30T23:55:43.260481Z",
          "iopub.status.busy": "2021-04-30T23:55:43.259414Z",
          "iopub.status.idle": "2021-04-30T23:55:43.266653Z",
          "shell.execute_reply": "2021-04-30T23:55:43.265836Z"
        },
        "papermill": {
          "duration": 0.122947,
          "end_time": "2021-04-30T23:55:43.266908",
          "exception": false,
          "start_time": "2021-04-30T23:55:43.143961",
          "status": "completed"
        },
        "tags": [],
        "id": "overhead-worse",
        "colab": {
          "base_uri": "https://localhost:8080/"
        },
        "outputId": "f321f36f-80cd-4161-d620-ac357ab95b01"
      },
      "source": [
        "# Visualização dos nomes das espécies\n",
        "pred_y = le.inverse_transform(pred_y)\n",
        "pred_y[:, None]"
      ],
      "id": "overhead-worse",
      "execution_count": 86,
      "outputs": [
        {
          "output_type": "execute_result",
          "data": {
            "text/plain": [
              "array([['Iris-versicolor'],\n",
              "       ['Iris-virginica'],\n",
              "       ['Iris-setosa'],\n",
              "       ['Iris-versicolor'],\n",
              "       ['Iris-setosa'],\n",
              "       ['Iris-versicolor'],\n",
              "       ['Iris-virginica'],\n",
              "       ['Iris-versicolor'],\n",
              "       ['Iris-setosa'],\n",
              "       ['Iris-versicolor'],\n",
              "       ['Iris-versicolor'],\n",
              "       ['Iris-virginica'],\n",
              "       ['Iris-versicolor'],\n",
              "       ['Iris-setosa'],\n",
              "       ['Iris-setosa'],\n",
              "       ['Iris-virginica'],\n",
              "       ['Iris-versicolor'],\n",
              "       ['Iris-setosa'],\n",
              "       ['Iris-setosa'],\n",
              "       ['Iris-setosa'],\n",
              "       ['Iris-virginica'],\n",
              "       ['Iris-virginica'],\n",
              "       ['Iris-virginica'],\n",
              "       ['Iris-setosa'],\n",
              "       ['Iris-versicolor'],\n",
              "       ['Iris-setosa'],\n",
              "       ['Iris-versicolor'],\n",
              "       ['Iris-versicolor'],\n",
              "       ['Iris-versicolor'],\n",
              "       ['Iris-virginica']], dtype=object)"
            ]
          },
          "metadata": {
            "tags": []
          },
          "execution_count": 86
        }
      ]
    },
    {
      "cell_type": "code",
      "metadata": {
        "execution": {
          "iopub.execute_input": "2021-04-30T23:55:43.478303Z",
          "iopub.status.busy": "2021-04-30T23:55:43.477401Z",
          "iopub.status.idle": "2021-04-30T23:55:43.482557Z",
          "shell.execute_reply": "2021-04-30T23:55:43.482012Z"
        },
        "papermill": {
          "duration": 0.109267,
          "end_time": "2021-04-30T23:55:43.482746",
          "exception": false,
          "start_time": "2021-04-30T23:55:43.373479",
          "status": "completed"
        },
        "tags": [],
        "id": "introductory-grade"
      },
      "source": [
        "# Criação da tabela de predição com dataset \n",
        "df1 = pd.DataFrame(iris_test)\n",
        "df2 = pd.DataFrame({'Category': pred_y})\n",
        "predicted_table = pd.concat([df1, df2], axis=1)"
      ],
      "id": "introductory-grade",
      "execution_count": 87,
      "outputs": []
    },
    {
      "cell_type": "code",
      "metadata": {
        "execution": {
          "iopub.execute_input": "2021-04-30T23:55:43.704544Z",
          "iopub.status.busy": "2021-04-30T23:55:43.703838Z",
          "iopub.status.idle": "2021-04-30T23:55:43.709524Z",
          "shell.execute_reply": "2021-04-30T23:55:43.708982Z"
        },
        "papermill": {
          "duration": 0.128979,
          "end_time": "2021-04-30T23:55:43.709701",
          "exception": false,
          "start_time": "2021-04-30T23:55:43.580722",
          "status": "completed"
        },
        "tags": [],
        "id": "peaceful-carrier",
        "colab": {
          "base_uri": "https://localhost:8080/",
          "height": 979
        },
        "outputId": "6531c0c2-9b94-476d-df0e-6ee761b8181c"
      },
      "source": [
        "# Visualização da tabela predição com os dados de teste\n",
        "predicted_table"
      ],
      "id": "peaceful-carrier",
      "execution_count": 88,
      "outputs": [
        {
          "output_type": "execute_result",
          "data": {
            "text/html": [
              "<div>\n",
              "<style scoped>\n",
              "    .dataframe tbody tr th:only-of-type {\n",
              "        vertical-align: middle;\n",
              "    }\n",
              "\n",
              "    .dataframe tbody tr th {\n",
              "        vertical-align: top;\n",
              "    }\n",
              "\n",
              "    .dataframe thead th {\n",
              "        text-align: right;\n",
              "    }\n",
              "</style>\n",
              "<table border=\"1\" class=\"dataframe\">\n",
              "  <thead>\n",
              "    <tr style=\"text-align: right;\">\n",
              "      <th></th>\n",
              "      <th>Id</th>\n",
              "      <th>SepalLengthCm</th>\n",
              "      <th>SepalWidthCm</th>\n",
              "      <th>PetalLengthCm</th>\n",
              "      <th>PetalWidthCm</th>\n",
              "      <th>Category</th>\n",
              "    </tr>\n",
              "  </thead>\n",
              "  <tbody>\n",
              "    <tr>\n",
              "      <th>0</th>\n",
              "      <td>88</td>\n",
              "      <td>6.3</td>\n",
              "      <td>2.3</td>\n",
              "      <td>4.4</td>\n",
              "      <td>1.3</td>\n",
              "      <td>Iris-versicolor</td>\n",
              "    </tr>\n",
              "    <tr>\n",
              "      <th>1</th>\n",
              "      <td>112</td>\n",
              "      <td>6.4</td>\n",
              "      <td>2.7</td>\n",
              "      <td>5.3</td>\n",
              "      <td>1.9</td>\n",
              "      <td>Iris-virginica</td>\n",
              "    </tr>\n",
              "    <tr>\n",
              "      <th>2</th>\n",
              "      <td>11</td>\n",
              "      <td>5.4</td>\n",
              "      <td>3.7</td>\n",
              "      <td>1.5</td>\n",
              "      <td>0.2</td>\n",
              "      <td>Iris-setosa</td>\n",
              "    </tr>\n",
              "    <tr>\n",
              "      <th>3</th>\n",
              "      <td>92</td>\n",
              "      <td>6.1</td>\n",
              "      <td>3.0</td>\n",
              "      <td>4.6</td>\n",
              "      <td>1.4</td>\n",
              "      <td>Iris-versicolor</td>\n",
              "    </tr>\n",
              "    <tr>\n",
              "      <th>4</th>\n",
              "      <td>50</td>\n",
              "      <td>5.0</td>\n",
              "      <td>3.3</td>\n",
              "      <td>1.4</td>\n",
              "      <td>0.2</td>\n",
              "      <td>Iris-setosa</td>\n",
              "    </tr>\n",
              "    <tr>\n",
              "      <th>5</th>\n",
              "      <td>61</td>\n",
              "      <td>5.0</td>\n",
              "      <td>2.0</td>\n",
              "      <td>3.5</td>\n",
              "      <td>1.0</td>\n",
              "      <td>Iris-versicolor</td>\n",
              "    </tr>\n",
              "    <tr>\n",
              "      <th>6</th>\n",
              "      <td>73</td>\n",
              "      <td>6.3</td>\n",
              "      <td>2.5</td>\n",
              "      <td>4.9</td>\n",
              "      <td>1.5</td>\n",
              "      <td>Iris-virginica</td>\n",
              "    </tr>\n",
              "    <tr>\n",
              "      <th>7</th>\n",
              "      <td>68</td>\n",
              "      <td>5.8</td>\n",
              "      <td>2.7</td>\n",
              "      <td>4.1</td>\n",
              "      <td>1.0</td>\n",
              "      <td>Iris-versicolor</td>\n",
              "    </tr>\n",
              "    <tr>\n",
              "      <th>8</th>\n",
              "      <td>40</td>\n",
              "      <td>5.1</td>\n",
              "      <td>3.4</td>\n",
              "      <td>1.5</td>\n",
              "      <td>0.2</td>\n",
              "      <td>Iris-setosa</td>\n",
              "    </tr>\n",
              "    <tr>\n",
              "      <th>9</th>\n",
              "      <td>56</td>\n",
              "      <td>5.7</td>\n",
              "      <td>2.8</td>\n",
              "      <td>4.5</td>\n",
              "      <td>1.3</td>\n",
              "      <td>Iris-versicolor</td>\n",
              "    </tr>\n",
              "    <tr>\n",
              "      <th>10</th>\n",
              "      <td>67</td>\n",
              "      <td>5.6</td>\n",
              "      <td>3.0</td>\n",
              "      <td>4.5</td>\n",
              "      <td>1.5</td>\n",
              "      <td>Iris-versicolor</td>\n",
              "    </tr>\n",
              "    <tr>\n",
              "      <th>11</th>\n",
              "      <td>143</td>\n",
              "      <td>5.8</td>\n",
              "      <td>2.7</td>\n",
              "      <td>5.1</td>\n",
              "      <td>1.9</td>\n",
              "      <td>Iris-virginica</td>\n",
              "    </tr>\n",
              "    <tr>\n",
              "      <th>12</th>\n",
              "      <td>54</td>\n",
              "      <td>5.5</td>\n",
              "      <td>2.3</td>\n",
              "      <td>4.0</td>\n",
              "      <td>1.3</td>\n",
              "      <td>Iris-versicolor</td>\n",
              "    </tr>\n",
              "    <tr>\n",
              "      <th>13</th>\n",
              "      <td>2</td>\n",
              "      <td>4.9</td>\n",
              "      <td>3.0</td>\n",
              "      <td>1.4</td>\n",
              "      <td>0.2</td>\n",
              "      <td>Iris-setosa</td>\n",
              "    </tr>\n",
              "    <tr>\n",
              "      <th>14</th>\n",
              "      <td>20</td>\n",
              "      <td>5.1</td>\n",
              "      <td>3.8</td>\n",
              "      <td>1.5</td>\n",
              "      <td>0.3</td>\n",
              "      <td>Iris-setosa</td>\n",
              "    </tr>\n",
              "    <tr>\n",
              "      <th>15</th>\n",
              "      <td>113</td>\n",
              "      <td>6.8</td>\n",
              "      <td>3.0</td>\n",
              "      <td>5.5</td>\n",
              "      <td>2.1</td>\n",
              "      <td>Iris-virginica</td>\n",
              "    </tr>\n",
              "    <tr>\n",
              "      <th>16</th>\n",
              "      <td>86</td>\n",
              "      <td>6.0</td>\n",
              "      <td>3.4</td>\n",
              "      <td>4.5</td>\n",
              "      <td>1.6</td>\n",
              "      <td>Iris-versicolor</td>\n",
              "    </tr>\n",
              "    <tr>\n",
              "      <th>17</th>\n",
              "      <td>39</td>\n",
              "      <td>4.4</td>\n",
              "      <td>3.0</td>\n",
              "      <td>1.3</td>\n",
              "      <td>0.2</td>\n",
              "      <td>Iris-setosa</td>\n",
              "    </tr>\n",
              "    <tr>\n",
              "      <th>18</th>\n",
              "      <td>22</td>\n",
              "      <td>5.1</td>\n",
              "      <td>3.7</td>\n",
              "      <td>1.5</td>\n",
              "      <td>0.4</td>\n",
              "      <td>Iris-setosa</td>\n",
              "    </tr>\n",
              "    <tr>\n",
              "      <th>19</th>\n",
              "      <td>36</td>\n",
              "      <td>5.0</td>\n",
              "      <td>3.2</td>\n",
              "      <td>1.2</td>\n",
              "      <td>0.2</td>\n",
              "      <td>Iris-setosa</td>\n",
              "    </tr>\n",
              "    <tr>\n",
              "      <th>20</th>\n",
              "      <td>103</td>\n",
              "      <td>7.1</td>\n",
              "      <td>3.0</td>\n",
              "      <td>5.9</td>\n",
              "      <td>2.1</td>\n",
              "      <td>Iris-virginica</td>\n",
              "    </tr>\n",
              "    <tr>\n",
              "      <th>21</th>\n",
              "      <td>133</td>\n",
              "      <td>6.4</td>\n",
              "      <td>2.8</td>\n",
              "      <td>5.6</td>\n",
              "      <td>2.2</td>\n",
              "      <td>Iris-virginica</td>\n",
              "    </tr>\n",
              "    <tr>\n",
              "      <th>22</th>\n",
              "      <td>127</td>\n",
              "      <td>6.2</td>\n",
              "      <td>2.8</td>\n",
              "      <td>4.8</td>\n",
              "      <td>1.8</td>\n",
              "      <td>Iris-virginica</td>\n",
              "    </tr>\n",
              "    <tr>\n",
              "      <th>23</th>\n",
              "      <td>25</td>\n",
              "      <td>4.8</td>\n",
              "      <td>3.4</td>\n",
              "      <td>1.9</td>\n",
              "      <td>0.2</td>\n",
              "      <td>Iris-setosa</td>\n",
              "    </tr>\n",
              "    <tr>\n",
              "      <th>24</th>\n",
              "      <td>62</td>\n",
              "      <td>5.9</td>\n",
              "      <td>3.0</td>\n",
              "      <td>4.2</td>\n",
              "      <td>1.5</td>\n",
              "      <td>Iris-versicolor</td>\n",
              "    </tr>\n",
              "    <tr>\n",
              "      <th>25</th>\n",
              "      <td>3</td>\n",
              "      <td>4.7</td>\n",
              "      <td>3.2</td>\n",
              "      <td>1.3</td>\n",
              "      <td>0.2</td>\n",
              "      <td>Iris-setosa</td>\n",
              "    </tr>\n",
              "    <tr>\n",
              "      <th>26</th>\n",
              "      <td>96</td>\n",
              "      <td>5.7</td>\n",
              "      <td>3.0</td>\n",
              "      <td>4.2</td>\n",
              "      <td>1.2</td>\n",
              "      <td>Iris-versicolor</td>\n",
              "    </tr>\n",
              "    <tr>\n",
              "      <th>27</th>\n",
              "      <td>91</td>\n",
              "      <td>5.5</td>\n",
              "      <td>2.6</td>\n",
              "      <td>4.4</td>\n",
              "      <td>1.2</td>\n",
              "      <td>Iris-versicolor</td>\n",
              "    </tr>\n",
              "    <tr>\n",
              "      <th>28</th>\n",
              "      <td>77</td>\n",
              "      <td>6.8</td>\n",
              "      <td>2.8</td>\n",
              "      <td>4.8</td>\n",
              "      <td>1.4</td>\n",
              "      <td>Iris-versicolor</td>\n",
              "    </tr>\n",
              "    <tr>\n",
              "      <th>29</th>\n",
              "      <td>118</td>\n",
              "      <td>7.7</td>\n",
              "      <td>3.8</td>\n",
              "      <td>6.7</td>\n",
              "      <td>2.2</td>\n",
              "      <td>Iris-virginica</td>\n",
              "    </tr>\n",
              "  </tbody>\n",
              "</table>\n",
              "</div>"
            ],
            "text/plain": [
              "     Id  SepalLengthCm  ...  PetalWidthCm         Category\n",
              "0    88            6.3  ...           1.3  Iris-versicolor\n",
              "1   112            6.4  ...           1.9   Iris-virginica\n",
              "2    11            5.4  ...           0.2      Iris-setosa\n",
              "3    92            6.1  ...           1.4  Iris-versicolor\n",
              "4    50            5.0  ...           0.2      Iris-setosa\n",
              "5    61            5.0  ...           1.0  Iris-versicolor\n",
              "6    73            6.3  ...           1.5   Iris-virginica\n",
              "7    68            5.8  ...           1.0  Iris-versicolor\n",
              "8    40            5.1  ...           0.2      Iris-setosa\n",
              "9    56            5.7  ...           1.3  Iris-versicolor\n",
              "10   67            5.6  ...           1.5  Iris-versicolor\n",
              "11  143            5.8  ...           1.9   Iris-virginica\n",
              "12   54            5.5  ...           1.3  Iris-versicolor\n",
              "13    2            4.9  ...           0.2      Iris-setosa\n",
              "14   20            5.1  ...           0.3      Iris-setosa\n",
              "15  113            6.8  ...           2.1   Iris-virginica\n",
              "16   86            6.0  ...           1.6  Iris-versicolor\n",
              "17   39            4.4  ...           0.2      Iris-setosa\n",
              "18   22            5.1  ...           0.4      Iris-setosa\n",
              "19   36            5.0  ...           0.2      Iris-setosa\n",
              "20  103            7.1  ...           2.1   Iris-virginica\n",
              "21  133            6.4  ...           2.2   Iris-virginica\n",
              "22  127            6.2  ...           1.8   Iris-virginica\n",
              "23   25            4.8  ...           0.2      Iris-setosa\n",
              "24   62            5.9  ...           1.5  Iris-versicolor\n",
              "25    3            4.7  ...           0.2      Iris-setosa\n",
              "26   96            5.7  ...           1.2  Iris-versicolor\n",
              "27   91            5.5  ...           1.2  Iris-versicolor\n",
              "28   77            6.8  ...           1.4  Iris-versicolor\n",
              "29  118            7.7  ...           2.2   Iris-virginica\n",
              "\n",
              "[30 rows x 6 columns]"
            ]
          },
          "metadata": {
            "tags": []
          },
          "execution_count": 88
        }
      ]
    },
    {
      "cell_type": "code",
      "metadata": {
        "execution": {
          "iopub.execute_input": "2021-04-30T23:55:43.919317Z",
          "iopub.status.busy": "2021-04-30T23:55:43.918430Z",
          "iopub.status.idle": "2021-04-30T23:55:43.923591Z",
          "shell.execute_reply": "2021-04-30T23:55:43.922980Z"
        },
        "papermill": {
          "duration": 0.116241,
          "end_time": "2021-04-30T23:55:43.923761",
          "exception": false,
          "start_time": "2021-04-30T23:55:43.807520",
          "status": "completed"
        },
        "tags": [],
        "id": "ahead-offset",
        "colab": {
          "base_uri": "https://localhost:8080/",
          "height": 979
        },
        "outputId": "18d2c59f-004b-454a-e2f5-d3b9ba450e63"
      },
      "source": [
        "# Seleção das colunas Id e Category para submissão\n",
        "submission_features = ['Id', 'Category']\n",
        "submission_data = predicted_table[submission_features]\n",
        "submission_data"
      ],
      "id": "ahead-offset",
      "execution_count": 89,
      "outputs": [
        {
          "output_type": "execute_result",
          "data": {
            "text/html": [
              "<div>\n",
              "<style scoped>\n",
              "    .dataframe tbody tr th:only-of-type {\n",
              "        vertical-align: middle;\n",
              "    }\n",
              "\n",
              "    .dataframe tbody tr th {\n",
              "        vertical-align: top;\n",
              "    }\n",
              "\n",
              "    .dataframe thead th {\n",
              "        text-align: right;\n",
              "    }\n",
              "</style>\n",
              "<table border=\"1\" class=\"dataframe\">\n",
              "  <thead>\n",
              "    <tr style=\"text-align: right;\">\n",
              "      <th></th>\n",
              "      <th>Id</th>\n",
              "      <th>Category</th>\n",
              "    </tr>\n",
              "  </thead>\n",
              "  <tbody>\n",
              "    <tr>\n",
              "      <th>0</th>\n",
              "      <td>88</td>\n",
              "      <td>Iris-versicolor</td>\n",
              "    </tr>\n",
              "    <tr>\n",
              "      <th>1</th>\n",
              "      <td>112</td>\n",
              "      <td>Iris-virginica</td>\n",
              "    </tr>\n",
              "    <tr>\n",
              "      <th>2</th>\n",
              "      <td>11</td>\n",
              "      <td>Iris-setosa</td>\n",
              "    </tr>\n",
              "    <tr>\n",
              "      <th>3</th>\n",
              "      <td>92</td>\n",
              "      <td>Iris-versicolor</td>\n",
              "    </tr>\n",
              "    <tr>\n",
              "      <th>4</th>\n",
              "      <td>50</td>\n",
              "      <td>Iris-setosa</td>\n",
              "    </tr>\n",
              "    <tr>\n",
              "      <th>5</th>\n",
              "      <td>61</td>\n",
              "      <td>Iris-versicolor</td>\n",
              "    </tr>\n",
              "    <tr>\n",
              "      <th>6</th>\n",
              "      <td>73</td>\n",
              "      <td>Iris-virginica</td>\n",
              "    </tr>\n",
              "    <tr>\n",
              "      <th>7</th>\n",
              "      <td>68</td>\n",
              "      <td>Iris-versicolor</td>\n",
              "    </tr>\n",
              "    <tr>\n",
              "      <th>8</th>\n",
              "      <td>40</td>\n",
              "      <td>Iris-setosa</td>\n",
              "    </tr>\n",
              "    <tr>\n",
              "      <th>9</th>\n",
              "      <td>56</td>\n",
              "      <td>Iris-versicolor</td>\n",
              "    </tr>\n",
              "    <tr>\n",
              "      <th>10</th>\n",
              "      <td>67</td>\n",
              "      <td>Iris-versicolor</td>\n",
              "    </tr>\n",
              "    <tr>\n",
              "      <th>11</th>\n",
              "      <td>143</td>\n",
              "      <td>Iris-virginica</td>\n",
              "    </tr>\n",
              "    <tr>\n",
              "      <th>12</th>\n",
              "      <td>54</td>\n",
              "      <td>Iris-versicolor</td>\n",
              "    </tr>\n",
              "    <tr>\n",
              "      <th>13</th>\n",
              "      <td>2</td>\n",
              "      <td>Iris-setosa</td>\n",
              "    </tr>\n",
              "    <tr>\n",
              "      <th>14</th>\n",
              "      <td>20</td>\n",
              "      <td>Iris-setosa</td>\n",
              "    </tr>\n",
              "    <tr>\n",
              "      <th>15</th>\n",
              "      <td>113</td>\n",
              "      <td>Iris-virginica</td>\n",
              "    </tr>\n",
              "    <tr>\n",
              "      <th>16</th>\n",
              "      <td>86</td>\n",
              "      <td>Iris-versicolor</td>\n",
              "    </tr>\n",
              "    <tr>\n",
              "      <th>17</th>\n",
              "      <td>39</td>\n",
              "      <td>Iris-setosa</td>\n",
              "    </tr>\n",
              "    <tr>\n",
              "      <th>18</th>\n",
              "      <td>22</td>\n",
              "      <td>Iris-setosa</td>\n",
              "    </tr>\n",
              "    <tr>\n",
              "      <th>19</th>\n",
              "      <td>36</td>\n",
              "      <td>Iris-setosa</td>\n",
              "    </tr>\n",
              "    <tr>\n",
              "      <th>20</th>\n",
              "      <td>103</td>\n",
              "      <td>Iris-virginica</td>\n",
              "    </tr>\n",
              "    <tr>\n",
              "      <th>21</th>\n",
              "      <td>133</td>\n",
              "      <td>Iris-virginica</td>\n",
              "    </tr>\n",
              "    <tr>\n",
              "      <th>22</th>\n",
              "      <td>127</td>\n",
              "      <td>Iris-virginica</td>\n",
              "    </tr>\n",
              "    <tr>\n",
              "      <th>23</th>\n",
              "      <td>25</td>\n",
              "      <td>Iris-setosa</td>\n",
              "    </tr>\n",
              "    <tr>\n",
              "      <th>24</th>\n",
              "      <td>62</td>\n",
              "      <td>Iris-versicolor</td>\n",
              "    </tr>\n",
              "    <tr>\n",
              "      <th>25</th>\n",
              "      <td>3</td>\n",
              "      <td>Iris-setosa</td>\n",
              "    </tr>\n",
              "    <tr>\n",
              "      <th>26</th>\n",
              "      <td>96</td>\n",
              "      <td>Iris-versicolor</td>\n",
              "    </tr>\n",
              "    <tr>\n",
              "      <th>27</th>\n",
              "      <td>91</td>\n",
              "      <td>Iris-versicolor</td>\n",
              "    </tr>\n",
              "    <tr>\n",
              "      <th>28</th>\n",
              "      <td>77</td>\n",
              "      <td>Iris-versicolor</td>\n",
              "    </tr>\n",
              "    <tr>\n",
              "      <th>29</th>\n",
              "      <td>118</td>\n",
              "      <td>Iris-virginica</td>\n",
              "    </tr>\n",
              "  </tbody>\n",
              "</table>\n",
              "</div>"
            ],
            "text/plain": [
              "     Id         Category\n",
              "0    88  Iris-versicolor\n",
              "1   112   Iris-virginica\n",
              "2    11      Iris-setosa\n",
              "3    92  Iris-versicolor\n",
              "4    50      Iris-setosa\n",
              "5    61  Iris-versicolor\n",
              "6    73   Iris-virginica\n",
              "7    68  Iris-versicolor\n",
              "8    40      Iris-setosa\n",
              "9    56  Iris-versicolor\n",
              "10   67  Iris-versicolor\n",
              "11  143   Iris-virginica\n",
              "12   54  Iris-versicolor\n",
              "13    2      Iris-setosa\n",
              "14   20      Iris-setosa\n",
              "15  113   Iris-virginica\n",
              "16   86  Iris-versicolor\n",
              "17   39      Iris-setosa\n",
              "18   22      Iris-setosa\n",
              "19   36      Iris-setosa\n",
              "20  103   Iris-virginica\n",
              "21  133   Iris-virginica\n",
              "22  127   Iris-virginica\n",
              "23   25      Iris-setosa\n",
              "24   62  Iris-versicolor\n",
              "25    3      Iris-setosa\n",
              "26   96  Iris-versicolor\n",
              "27   91  Iris-versicolor\n",
              "28   77  Iris-versicolor\n",
              "29  118   Iris-virginica"
            ]
          },
          "metadata": {
            "tags": []
          },
          "execution_count": 89
        }
      ]
    },
    {
      "cell_type": "code",
      "metadata": {
        "execution": {
          "iopub.execute_input": "2021-04-30T23:55:44.132041Z",
          "iopub.status.busy": "2021-04-30T23:55:44.131280Z",
          "iopub.status.idle": "2021-04-30T23:55:44.139565Z",
          "shell.execute_reply": "2021-04-30T23:55:44.138818Z"
        },
        "papermill": {
          "duration": 0.116503,
          "end_time": "2021-04-30T23:55:44.139749",
          "exception": false,
          "start_time": "2021-04-30T23:55:44.023246",
          "status": "completed"
        },
        "tags": [],
        "id": "dynamic-techno"
      },
      "source": [
        "# Conversão e gravação dos valores previsto pelo modelo no arquivo csv\n",
        "pd.DataFrame(submission_data).to_csv(\"submission.csv\", index=False)"
      ],
      "id": "dynamic-techno",
      "execution_count": 90,
      "outputs": []
    },
    {
      "cell_type": "markdown",
      "metadata": {
        "papermill": {
          "duration": 0.09922,
          "end_time": "2021-04-30T23:55:44.337512",
          "exception": false,
          "start_time": "2021-04-30T23:55:44.238292",
          "status": "completed"
        },
        "tags": [],
        "id": "hybrid-intranet"
      },
      "source": [
        "## Avaliação\n",
        "Submeter o arquivo *submission.csv* avaliação na plataforma Kaggle."
      ],
      "id": "hybrid-intranet"
    },
    {
      "cell_type": "markdown",
      "metadata": {
        "papermill": {
          "duration": 0.099044,
          "end_time": "2021-04-30T23:55:44.538165",
          "exception": false,
          "start_time": "2021-04-30T23:55:44.439121",
          "status": "completed"
        },
        "tags": [],
        "id": "premium-particle"
      },
      "source": [
        "# Observações\n",
        "Este notebook foi construído no formato de relatório e possui uma série de redundâncias de código e comentários, com os objetivos de criar um resumo didático dos conceitos introdutórios de Aprendizado Supervisionado, estudados até o momento na disciplina SME0829, além de desenvolver a familidade com as ferramentas Google Colab, Kaggle, e com as bibliotecas Sckit-learn e Pandas da linguagem Python."
      ],
      "id": "premium-particle"
    }
  ]
}