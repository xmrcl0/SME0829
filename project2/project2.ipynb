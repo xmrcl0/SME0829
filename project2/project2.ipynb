{
  "nbformat": 4,
  "nbformat_minor": 5,
  "metadata": {
    "colab": {
      "name": "project2.ipynb",
      "provenance": [],
      "collapsed_sections": [
        "l6OqKHR6k99X",
        "fXWhOtep6tgO",
        "heP2wPuj7N9v"
      ],
      "toc_visible": true,
      "include_colab_link": true
    },
    "kernelspec": {
      "display_name": "Python 3",
      "language": "python",
      "name": "python3"
    },
    "language_info": {
      "codemirror_mode": {
        "name": "ipython",
        "version": 3
      },
      "file_extension": ".py",
      "mimetype": "text/x-python",
      "name": "python",
      "nbconvert_exporter": "python",
      "pygments_lexer": "ipython3",
      "version": "3.7.10"
    },
    "papermill": {
      "default_parameters": {},
      "duration": 44.264333,
      "end_time": "2021-04-30T23:55:46.418161",
      "environment_variables": {},
      "exception": null,
      "input_path": "__notebook__.ipynb",
      "output_path": "__notebook__.ipynb",
      "parameters": {},
      "start_time": "2021-04-30T23:55:02.153828",
      "version": "2.3.3"
    }
  },
  "cells": [
    {
      "cell_type": "markdown",
      "metadata": {
        "id": "view-in-github",
        "colab_type": "text"
      },
      "source": [
        "<a href=\"https://colab.research.google.com/github/xmrcl0/SME0829/blob/main/project2/project2.ipynb\" target=\"_parent\"><img src=\"https://colab.research.google.com/assets/colab-badge.svg\" alt=\"Open In Colab\"/></a>"
      ]
    },
    {
      "cell_type": "markdown",
      "metadata": {
        "id": "modified-protection"
      },
      "source": [
        "# Project 2 - Car Price Prediction"
      ],
      "id": "modified-protection"
    },
    {
      "cell_type": "code",
      "metadata": {
        "colab": {
          "base_uri": "https://localhost:8080/"
        },
        "id": "SNiKZWEAWkrc",
        "outputId": "7eb57dc0-ce7e-4f95-d341-9c32dc0a1bb2"
      },
      "source": [
        "import warnings\n",
        "warnings.filterwarnings('ignore')\n",
        "!pip install category_encoders\n",
        "!pip install catboost"
      ],
      "id": "SNiKZWEAWkrc",
      "execution_count": null,
      "outputs": [
        {
          "output_type": "stream",
          "text": [
            "Requirement already satisfied: category_encoders in /usr/local/lib/python3.7/dist-packages (2.2.2)\n",
            "Requirement already satisfied: scikit-learn>=0.20.0 in /usr/local/lib/python3.7/dist-packages (from category_encoders) (0.22.2.post1)\n",
            "Requirement already satisfied: scipy>=1.0.0 in /usr/local/lib/python3.7/dist-packages (from category_encoders) (1.4.1)\n",
            "Requirement already satisfied: statsmodels>=0.9.0 in /usr/local/lib/python3.7/dist-packages (from category_encoders) (0.10.2)\n",
            "Requirement already satisfied: patsy>=0.5.1 in /usr/local/lib/python3.7/dist-packages (from category_encoders) (0.5.1)\n",
            "Requirement already satisfied: pandas>=0.21.1 in /usr/local/lib/python3.7/dist-packages (from category_encoders) (1.1.5)\n",
            "Requirement already satisfied: numpy>=1.14.0 in /usr/local/lib/python3.7/dist-packages (from category_encoders) (1.19.5)\n",
            "Requirement already satisfied: joblib>=0.11 in /usr/local/lib/python3.7/dist-packages (from scikit-learn>=0.20.0->category_encoders) (1.0.1)\n",
            "Requirement already satisfied: six in /usr/local/lib/python3.7/dist-packages (from patsy>=0.5.1->category_encoders) (1.15.0)\n",
            "Requirement already satisfied: pytz>=2017.2 in /usr/local/lib/python3.7/dist-packages (from pandas>=0.21.1->category_encoders) (2018.9)\n",
            "Requirement already satisfied: python-dateutil>=2.7.3 in /usr/local/lib/python3.7/dist-packages (from pandas>=0.21.1->category_encoders) (2.8.1)\n",
            "Requirement already satisfied: catboost in /usr/local/lib/python3.7/dist-packages (0.25.1)\n",
            "Requirement already satisfied: graphviz in /usr/local/lib/python3.7/dist-packages (from catboost) (0.10.1)\n",
            "Requirement already satisfied: numpy>=1.16.0 in /usr/local/lib/python3.7/dist-packages (from catboost) (1.19.5)\n",
            "Requirement already satisfied: plotly in /usr/local/lib/python3.7/dist-packages (from catboost) (4.4.1)\n",
            "Requirement already satisfied: scipy in /usr/local/lib/python3.7/dist-packages (from catboost) (1.4.1)\n",
            "Requirement already satisfied: six in /usr/local/lib/python3.7/dist-packages (from catboost) (1.15.0)\n",
            "Requirement already satisfied: matplotlib in /usr/local/lib/python3.7/dist-packages (from catboost) (3.2.2)\n",
            "Requirement already satisfied: pandas>=0.24.0 in /usr/local/lib/python3.7/dist-packages (from catboost) (1.1.5)\n",
            "Requirement already satisfied: retrying>=1.3.3 in /usr/local/lib/python3.7/dist-packages (from plotly->catboost) (1.3.3)\n",
            "Requirement already satisfied: pyparsing!=2.0.4,!=2.1.2,!=2.1.6,>=2.0.1 in /usr/local/lib/python3.7/dist-packages (from matplotlib->catboost) (2.4.7)\n",
            "Requirement already satisfied: cycler>=0.10 in /usr/local/lib/python3.7/dist-packages (from matplotlib->catboost) (0.10.0)\n",
            "Requirement already satisfied: python-dateutil>=2.1 in /usr/local/lib/python3.7/dist-packages (from matplotlib->catboost) (2.8.1)\n",
            "Requirement already satisfied: kiwisolver>=1.0.1 in /usr/local/lib/python3.7/dist-packages (from matplotlib->catboost) (1.3.1)\n",
            "Requirement already satisfied: pytz>=2017.2 in /usr/local/lib/python3.7/dist-packages (from pandas>=0.24.0->catboost) (2018.9)\n"
          ],
          "name": "stdout"
        }
      ]
    },
    {
      "cell_type": "markdown",
      "metadata": {
        "id": "certified-circumstances"
      },
      "source": [
        "# Introdução\n",
        "Neste projeto, vamos construir um modelo capaz de sugerir o preço de venda de carros usados, a partir das características do veículo (marca e modelo, ano de fabricação, quilometros rodados, consumo de combustível, etc.). "
      ],
      "id": "certified-circumstances"
    },
    {
      "cell_type": "markdown",
      "metadata": {
        "id": "separated-detection"
      },
      "source": [
        "# Objetivo\n",
        "Construir um modelo estimador de preços de venda para carros usados, a partir de um dataset fornecido."
      ],
      "id": "separated-detection"
    },
    {
      "cell_type": "markdown",
      "metadata": {
        "id": "htJEPF8QhqVs"
      },
      "source": [
        "# Procedimento\n",
        "1. Análise exploratória dos dados\n",
        "2. Pré-processamento\n",
        "3. Feature engineering\n",
        "4. Modelagem\n",
        "  1. Experimento 1\n",
        "  2. Experimento 2\n",
        "  3. Experimento 3\n",
        "  4. Experimento 4\n",
        "5. Resultado\n",
        "6. Validação\n",
        "  1. Pré-processamento\n",
        "  2. Feature engineering\n",
        "  3. Predição\n",
        "7. Conclusão"
      ],
      "id": "htJEPF8QhqVs"
    },
    {
      "cell_type": "markdown",
      "metadata": {
        "id": "l6OqKHR6k99X"
      },
      "source": [
        "## Análise exploratória dos dados\n",
        "Análises detalhadas foram fornecidas (publicar no github pages)."
      ],
      "id": "l6OqKHR6k99X"
    },
    {
      "cell_type": "code",
      "metadata": {
        "id": "wound-casting"
      },
      "source": [
        "# Load train dataset\n",
        "import pandas as pd\n",
        "df = pd.read_csv('https://raw.githubusercontent.com/xmrcl0/SME0829/main/project2/data/train_car_details.csv')"
      ],
      "id": "wound-casting",
      "execution_count": null,
      "outputs": []
    },
    {
      "cell_type": "code",
      "metadata": {
        "id": "-7YI3PU0dHmR",
        "colab": {
          "base_uri": "https://localhost:8080/"
        },
        "outputId": "54bd3280-b6d8-4f56-9a48-67a04af2129d"
      },
      "source": [
        "# Show dataset head\n",
        "df.head()"
      ],
      "id": "-7YI3PU0dHmR",
      "execution_count": null,
      "outputs": [
        {
          "output_type": "execute_result",
          "data": {
            "text/html": [
              "<div>\n",
              "<style scoped>\n",
              "    .dataframe tbody tr th:only-of-type {\n",
              "        vertical-align: middle;\n",
              "    }\n",
              "\n",
              "    .dataframe tbody tr th {\n",
              "        vertical-align: top;\n",
              "    }\n",
              "\n",
              "    .dataframe thead th {\n",
              "        text-align: right;\n",
              "    }\n",
              "</style>\n",
              "<table border=\"1\" class=\"dataframe\">\n",
              "  <thead>\n",
              "    <tr style=\"text-align: right;\">\n",
              "      <th></th>\n",
              "      <th>Id</th>\n",
              "      <th>name</th>\n",
              "      <th>year</th>\n",
              "      <th>selling_price</th>\n",
              "      <th>km_driven</th>\n",
              "      <th>fuel</th>\n",
              "      <th>seller_type</th>\n",
              "      <th>transmission</th>\n",
              "      <th>owner</th>\n",
              "      <th>mileage</th>\n",
              "      <th>engine</th>\n",
              "      <th>max_power</th>\n",
              "      <th>torque</th>\n",
              "      <th>seats</th>\n",
              "    </tr>\n",
              "  </thead>\n",
              "  <tbody>\n",
              "    <tr>\n",
              "      <th>0</th>\n",
              "      <td>1</td>\n",
              "      <td>Hyundai Santro GLS I - Euro I</td>\n",
              "      <td>1999</td>\n",
              "      <td>80000</td>\n",
              "      <td>110000</td>\n",
              "      <td>Petrol</td>\n",
              "      <td>Individual</td>\n",
              "      <td>Manual</td>\n",
              "      <td>Second Owner</td>\n",
              "      <td>NaN</td>\n",
              "      <td>NaN</td>\n",
              "      <td>NaN</td>\n",
              "      <td>NaN</td>\n",
              "      <td>NaN</td>\n",
              "    </tr>\n",
              "    <tr>\n",
              "      <th>1</th>\n",
              "      <td>2</td>\n",
              "      <td>Maruti Ertiga VDI</td>\n",
              "      <td>2012</td>\n",
              "      <td>459999</td>\n",
              "      <td>87000</td>\n",
              "      <td>Diesel</td>\n",
              "      <td>Individual</td>\n",
              "      <td>Manual</td>\n",
              "      <td>First Owner</td>\n",
              "      <td>20.77 kmpl</td>\n",
              "      <td>1248 CC</td>\n",
              "      <td>88.76 bhp</td>\n",
              "      <td>200Nm@ 1750rpm</td>\n",
              "      <td>7.0</td>\n",
              "    </tr>\n",
              "    <tr>\n",
              "      <th>2</th>\n",
              "      <td>3</td>\n",
              "      <td>BMW 3 Series 320d Luxury Line</td>\n",
              "      <td>2010</td>\n",
              "      <td>1100000</td>\n",
              "      <td>102000</td>\n",
              "      <td>Diesel</td>\n",
              "      <td>Dealer</td>\n",
              "      <td>Automatic</td>\n",
              "      <td>First Owner</td>\n",
              "      <td>19.62 kmpl</td>\n",
              "      <td>1995 CC</td>\n",
              "      <td>187.74 bhp</td>\n",
              "      <td>400Nm@ 1750-2500rpm</td>\n",
              "      <td>5.0</td>\n",
              "    </tr>\n",
              "    <tr>\n",
              "      <th>3</th>\n",
              "      <td>4</td>\n",
              "      <td>Tata New Safari DICOR 2.2 EX 4x2</td>\n",
              "      <td>2009</td>\n",
              "      <td>229999</td>\n",
              "      <td>212000</td>\n",
              "      <td>Diesel</td>\n",
              "      <td>Individual</td>\n",
              "      <td>Manual</td>\n",
              "      <td>Third Owner</td>\n",
              "      <td>11.57 kmpl</td>\n",
              "      <td>2179 CC</td>\n",
              "      <td>138.1 bhp</td>\n",
              "      <td>320Nm@ 1700-2700rpm</td>\n",
              "      <td>7.0</td>\n",
              "    </tr>\n",
              "    <tr>\n",
              "      <th>4</th>\n",
              "      <td>5</td>\n",
              "      <td>Toyota Fortuner 3.0 Diesel</td>\n",
              "      <td>2010</td>\n",
              "      <td>800000</td>\n",
              "      <td>125000</td>\n",
              "      <td>Diesel</td>\n",
              "      <td>Individual</td>\n",
              "      <td>Manual</td>\n",
              "      <td>Second Owner</td>\n",
              "      <td>11.5 kmpl</td>\n",
              "      <td>2982 CC</td>\n",
              "      <td>171 bhp</td>\n",
              "      <td>343Nm@ 1400-3400rpm</td>\n",
              "      <td>7.0</td>\n",
              "    </tr>\n",
              "  </tbody>\n",
              "</table>\n",
              "</div>"
            ],
            "text/plain": [
              "   Id                              name  ...               torque  seats\n",
              "0   1     Hyundai Santro GLS I - Euro I  ...                  NaN    NaN\n",
              "1   2                 Maruti Ertiga VDI  ...       200Nm@ 1750rpm    7.0\n",
              "2   3     BMW 3 Series 320d Luxury Line  ...  400Nm@ 1750-2500rpm    5.0\n",
              "3   4  Tata New Safari DICOR 2.2 EX 4x2  ...  320Nm@ 1700-2700rpm    7.0\n",
              "4   5        Toyota Fortuner 3.0 Diesel  ...  343Nm@ 1400-3400rpm    7.0\n",
              "\n",
              "[5 rows x 14 columns]"
            ]
          },
          "metadata": {
            "tags": []
          },
          "execution_count": 1706
        }
      ]
    },
    {
      "cell_type": "code",
      "metadata": {
        "id": "YSksO12fpoUQ",
        "colab": {
          "base_uri": "https://localhost:8080/"
        },
        "outputId": "7b142f94-fec2-4360-9045-7fe56b576d6c"
      },
      "source": [
        "# Show data information\n",
        "df.info()"
      ],
      "id": "YSksO12fpoUQ",
      "execution_count": null,
      "outputs": [
        {
          "output_type": "stream",
          "text": [
            "<class 'pandas.core.frame.DataFrame'>\n",
            "RangeIndex: 5689 entries, 0 to 5688\n",
            "Data columns (total 14 columns):\n",
            " #   Column         Non-Null Count  Dtype  \n",
            "---  ------         --------------  -----  \n",
            " 0   Id             5689 non-null   int64  \n",
            " 1   name           5689 non-null   object \n",
            " 2   year           5689 non-null   int64  \n",
            " 3   selling_price  5689 non-null   int64  \n",
            " 4   km_driven      5689 non-null   int64  \n",
            " 5   fuel           5689 non-null   object \n",
            " 6   seller_type    5689 non-null   object \n",
            " 7   transmission   5689 non-null   object \n",
            " 8   owner          5689 non-null   object \n",
            " 9   mileage        5532 non-null   object \n",
            " 10  engine         5532 non-null   object \n",
            " 11  max_power      5538 non-null   object \n",
            " 12  torque         5531 non-null   object \n",
            " 13  seats          5532 non-null   float64\n",
            "dtypes: float64(1), int64(4), object(9)\n",
            "memory usage: 622.4+ KB\n"
          ],
          "name": "stdout"
        }
      ]
    },
    {
      "cell_type": "code",
      "metadata": {
        "id": "w1lNA8L-pGxB",
        "colab": {
          "base_uri": "https://localhost:8080/"
        },
        "outputId": "ac42e0e6-f52c-471b-bcb3-2b34cbd14b24"
      },
      "source": [
        "# Show simple statistics (numerical columns)\n",
        "df.describe()"
      ],
      "id": "w1lNA8L-pGxB",
      "execution_count": null,
      "outputs": [
        {
          "output_type": "execute_result",
          "data": {
            "text/html": [
              "<div>\n",
              "<style scoped>\n",
              "    .dataframe tbody tr th:only-of-type {\n",
              "        vertical-align: middle;\n",
              "    }\n",
              "\n",
              "    .dataframe tbody tr th {\n",
              "        vertical-align: top;\n",
              "    }\n",
              "\n",
              "    .dataframe thead th {\n",
              "        text-align: right;\n",
              "    }\n",
              "</style>\n",
              "<table border=\"1\" class=\"dataframe\">\n",
              "  <thead>\n",
              "    <tr style=\"text-align: right;\">\n",
              "      <th></th>\n",
              "      <th>Id</th>\n",
              "      <th>year</th>\n",
              "      <th>selling_price</th>\n",
              "      <th>km_driven</th>\n",
              "      <th>seats</th>\n",
              "    </tr>\n",
              "  </thead>\n",
              "  <tbody>\n",
              "    <tr>\n",
              "      <th>count</th>\n",
              "      <td>5689.000000</td>\n",
              "      <td>5689.000000</td>\n",
              "      <td>5.689000e+03</td>\n",
              "      <td>5.689000e+03</td>\n",
              "      <td>5532.000000</td>\n",
              "    </tr>\n",
              "    <tr>\n",
              "      <th>mean</th>\n",
              "      <td>2845.000000</td>\n",
              "      <td>2013.741607</td>\n",
              "      <td>6.277744e+05</td>\n",
              "      <td>6.987759e+04</td>\n",
              "      <td>5.422993</td>\n",
              "    </tr>\n",
              "    <tr>\n",
              "      <th>std</th>\n",
              "      <td>1642.417172</td>\n",
              "      <td>4.054875</td>\n",
              "      <td>7.784000e+05</td>\n",
              "      <td>5.124731e+04</td>\n",
              "      <td>0.961395</td>\n",
              "    </tr>\n",
              "    <tr>\n",
              "      <th>min</th>\n",
              "      <td>1.000000</td>\n",
              "      <td>1983.000000</td>\n",
              "      <td>2.999900e+04</td>\n",
              "      <td>1.000000e+00</td>\n",
              "      <td>2.000000</td>\n",
              "    </tr>\n",
              "    <tr>\n",
              "      <th>25%</th>\n",
              "      <td>1423.000000</td>\n",
              "      <td>2011.000000</td>\n",
              "      <td>2.500000e+05</td>\n",
              "      <td>3.500000e+04</td>\n",
              "      <td>5.000000</td>\n",
              "    </tr>\n",
              "    <tr>\n",
              "      <th>50%</th>\n",
              "      <td>2845.000000</td>\n",
              "      <td>2014.000000</td>\n",
              "      <td>4.500000e+05</td>\n",
              "      <td>6.000000e+04</td>\n",
              "      <td>5.000000</td>\n",
              "    </tr>\n",
              "    <tr>\n",
              "      <th>75%</th>\n",
              "      <td>4267.000000</td>\n",
              "      <td>2017.000000</td>\n",
              "      <td>6.670000e+05</td>\n",
              "      <td>9.800000e+04</td>\n",
              "      <td>5.000000</td>\n",
              "    </tr>\n",
              "    <tr>\n",
              "      <th>max</th>\n",
              "      <td>5689.000000</td>\n",
              "      <td>2020.000000</td>\n",
              "      <td>7.200000e+06</td>\n",
              "      <td>1.500000e+06</td>\n",
              "      <td>10.000000</td>\n",
              "    </tr>\n",
              "  </tbody>\n",
              "</table>\n",
              "</div>"
            ],
            "text/plain": [
              "                Id         year  selling_price     km_driven        seats\n",
              "count  5689.000000  5689.000000   5.689000e+03  5.689000e+03  5532.000000\n",
              "mean   2845.000000  2013.741607   6.277744e+05  6.987759e+04     5.422993\n",
              "std    1642.417172     4.054875   7.784000e+05  5.124731e+04     0.961395\n",
              "min       1.000000  1983.000000   2.999900e+04  1.000000e+00     2.000000\n",
              "25%    1423.000000  2011.000000   2.500000e+05  3.500000e+04     5.000000\n",
              "50%    2845.000000  2014.000000   4.500000e+05  6.000000e+04     5.000000\n",
              "75%    4267.000000  2017.000000   6.670000e+05  9.800000e+04     5.000000\n",
              "max    5689.000000  2020.000000   7.200000e+06  1.500000e+06    10.000000"
            ]
          },
          "metadata": {
            "tags": []
          },
          "execution_count": 1708
        }
      ]
    },
    {
      "cell_type": "code",
      "metadata": {
        "id": "SHD_-u9_iW6S",
        "colab": {
          "base_uri": "https://localhost:8080/"
        },
        "outputId": "4e5bb540-fbd9-4801-af5d-5b534c73eea1"
      },
      "source": [
        "# Search for duplicated lines\n",
        "df = df.drop(labels='Id', axis=1)\n",
        "len(df[df.duplicated()]) "
      ],
      "id": "SHD_-u9_iW6S",
      "execution_count": null,
      "outputs": [
        {
          "output_type": "execute_result",
          "data": {
            "text/plain": [
              "700"
            ]
          },
          "metadata": {
            "tags": []
          },
          "execution_count": 1709
        }
      ]
    },
    {
      "cell_type": "markdown",
      "metadata": {
        "id": "overhead-story"
      },
      "source": [
        "## Pré-processamento\n",
        "Durante a análise exploratória, foi verificado que a coluna torque possui valores com diferentes unidades (Nm e Kgm). Devido a isso, por simplicidade, a coluna não será usada. Dependendo do resultado obtido, vale a pena avaliar seu uso em um trabalho futuro."
      ],
      "id": "overhead-story"
    },
    {
      "cell_type": "code",
      "metadata": {
        "id": "rXtYoF_OsTM8",
        "colab": {
          "base_uri": "https://localhost:8080/",
          "height": 204
        },
        "outputId": "4da52718-b5da-447b-d382-3504be561ff6"
      },
      "source": [
        "# Show the training dataset\n",
        "df.head()"
      ],
      "id": "rXtYoF_OsTM8",
      "execution_count": null,
      "outputs": [
        {
          "output_type": "execute_result",
          "data": {
            "text/html": [
              "<div>\n",
              "<style scoped>\n",
              "    .dataframe tbody tr th:only-of-type {\n",
              "        vertical-align: middle;\n",
              "    }\n",
              "\n",
              "    .dataframe tbody tr th {\n",
              "        vertical-align: top;\n",
              "    }\n",
              "\n",
              "    .dataframe thead th {\n",
              "        text-align: right;\n",
              "    }\n",
              "</style>\n",
              "<table border=\"1\" class=\"dataframe\">\n",
              "  <thead>\n",
              "    <tr style=\"text-align: right;\">\n",
              "      <th></th>\n",
              "      <th>name</th>\n",
              "      <th>year</th>\n",
              "      <th>selling_price</th>\n",
              "      <th>km_driven</th>\n",
              "      <th>fuel</th>\n",
              "      <th>seller_type</th>\n",
              "      <th>transmission</th>\n",
              "      <th>owner</th>\n",
              "      <th>mileage</th>\n",
              "      <th>engine</th>\n",
              "      <th>max_power</th>\n",
              "      <th>torque</th>\n",
              "      <th>seats</th>\n",
              "    </tr>\n",
              "  </thead>\n",
              "  <tbody>\n",
              "    <tr>\n",
              "      <th>0</th>\n",
              "      <td>Hyundai Santro GLS I - Euro I</td>\n",
              "      <td>1999</td>\n",
              "      <td>80000</td>\n",
              "      <td>110000</td>\n",
              "      <td>Petrol</td>\n",
              "      <td>Individual</td>\n",
              "      <td>Manual</td>\n",
              "      <td>Second Owner</td>\n",
              "      <td>NaN</td>\n",
              "      <td>NaN</td>\n",
              "      <td>NaN</td>\n",
              "      <td>NaN</td>\n",
              "      <td>NaN</td>\n",
              "    </tr>\n",
              "    <tr>\n",
              "      <th>1</th>\n",
              "      <td>Maruti Ertiga VDI</td>\n",
              "      <td>2012</td>\n",
              "      <td>459999</td>\n",
              "      <td>87000</td>\n",
              "      <td>Diesel</td>\n",
              "      <td>Individual</td>\n",
              "      <td>Manual</td>\n",
              "      <td>First Owner</td>\n",
              "      <td>20.77 kmpl</td>\n",
              "      <td>1248 CC</td>\n",
              "      <td>88.76 bhp</td>\n",
              "      <td>200Nm@ 1750rpm</td>\n",
              "      <td>7.0</td>\n",
              "    </tr>\n",
              "    <tr>\n",
              "      <th>2</th>\n",
              "      <td>BMW 3 Series 320d Luxury Line</td>\n",
              "      <td>2010</td>\n",
              "      <td>1100000</td>\n",
              "      <td>102000</td>\n",
              "      <td>Diesel</td>\n",
              "      <td>Dealer</td>\n",
              "      <td>Automatic</td>\n",
              "      <td>First Owner</td>\n",
              "      <td>19.62 kmpl</td>\n",
              "      <td>1995 CC</td>\n",
              "      <td>187.74 bhp</td>\n",
              "      <td>400Nm@ 1750-2500rpm</td>\n",
              "      <td>5.0</td>\n",
              "    </tr>\n",
              "    <tr>\n",
              "      <th>3</th>\n",
              "      <td>Tata New Safari DICOR 2.2 EX 4x2</td>\n",
              "      <td>2009</td>\n",
              "      <td>229999</td>\n",
              "      <td>212000</td>\n",
              "      <td>Diesel</td>\n",
              "      <td>Individual</td>\n",
              "      <td>Manual</td>\n",
              "      <td>Third Owner</td>\n",
              "      <td>11.57 kmpl</td>\n",
              "      <td>2179 CC</td>\n",
              "      <td>138.1 bhp</td>\n",
              "      <td>320Nm@ 1700-2700rpm</td>\n",
              "      <td>7.0</td>\n",
              "    </tr>\n",
              "    <tr>\n",
              "      <th>4</th>\n",
              "      <td>Toyota Fortuner 3.0 Diesel</td>\n",
              "      <td>2010</td>\n",
              "      <td>800000</td>\n",
              "      <td>125000</td>\n",
              "      <td>Diesel</td>\n",
              "      <td>Individual</td>\n",
              "      <td>Manual</td>\n",
              "      <td>Second Owner</td>\n",
              "      <td>11.5 kmpl</td>\n",
              "      <td>2982 CC</td>\n",
              "      <td>171 bhp</td>\n",
              "      <td>343Nm@ 1400-3400rpm</td>\n",
              "      <td>7.0</td>\n",
              "    </tr>\n",
              "  </tbody>\n",
              "</table>\n",
              "</div>"
            ],
            "text/plain": [
              "                               name  year  ...               torque  seats\n",
              "0     Hyundai Santro GLS I - Euro I  1999  ...                  NaN    NaN\n",
              "1                 Maruti Ertiga VDI  2012  ...       200Nm@ 1750rpm    7.0\n",
              "2     BMW 3 Series 320d Luxury Line  2010  ...  400Nm@ 1750-2500rpm    5.0\n",
              "3  Tata New Safari DICOR 2.2 EX 4x2  2009  ...  320Nm@ 1700-2700rpm    7.0\n",
              "4        Toyota Fortuner 3.0 Diesel  2010  ...  343Nm@ 1400-3400rpm    7.0\n",
              "\n",
              "[5 rows x 13 columns]"
            ]
          },
          "metadata": {
            "tags": []
          },
          "execution_count": 1710
        }
      ]
    },
    {
      "cell_type": "code",
      "metadata": {
        "id": "X79XlcOTcWpl",
        "colab": {
          "base_uri": "https://localhost:8080/"
        },
        "outputId": "b4a6a9ef-f089-4f94-ce2f-f200eea93714"
      },
      "source": [
        "# Remove duplicated lines. (Un)comment this line to see the effect in R2 score\n",
        "#df = df.drop_duplicates()\n",
        "len(df[df.duplicated()]) "
      ],
      "id": "X79XlcOTcWpl",
      "execution_count": null,
      "outputs": [
        {
          "output_type": "execute_result",
          "data": {
            "text/plain": [
              "700"
            ]
          },
          "metadata": {
            "tags": []
          },
          "execution_count": 1711
        }
      ]
    },
    {
      "cell_type": "code",
      "metadata": {
        "id": "RsF19QnBoEkL",
        "colab": {
          "base_uri": "https://localhost:8080/",
          "height": 204
        },
        "outputId": "9029a63d-29af-4a6c-9b1d-d9099837955d"
      },
      "source": [
        "# Remove unit from the max_power feature\n",
        "df = df[df['max_power'].notna()]\n",
        "df['max_power'] = df['max_power'].apply(lambda power: pd.Series(power.split()[0]))\n",
        "df.head()"
      ],
      "id": "RsF19QnBoEkL",
      "execution_count": null,
      "outputs": [
        {
          "output_type": "execute_result",
          "data": {
            "text/html": [
              "<div>\n",
              "<style scoped>\n",
              "    .dataframe tbody tr th:only-of-type {\n",
              "        vertical-align: middle;\n",
              "    }\n",
              "\n",
              "    .dataframe tbody tr th {\n",
              "        vertical-align: top;\n",
              "    }\n",
              "\n",
              "    .dataframe thead th {\n",
              "        text-align: right;\n",
              "    }\n",
              "</style>\n",
              "<table border=\"1\" class=\"dataframe\">\n",
              "  <thead>\n",
              "    <tr style=\"text-align: right;\">\n",
              "      <th></th>\n",
              "      <th>name</th>\n",
              "      <th>year</th>\n",
              "      <th>selling_price</th>\n",
              "      <th>km_driven</th>\n",
              "      <th>fuel</th>\n",
              "      <th>seller_type</th>\n",
              "      <th>transmission</th>\n",
              "      <th>owner</th>\n",
              "      <th>mileage</th>\n",
              "      <th>engine</th>\n",
              "      <th>max_power</th>\n",
              "      <th>torque</th>\n",
              "      <th>seats</th>\n",
              "    </tr>\n",
              "  </thead>\n",
              "  <tbody>\n",
              "    <tr>\n",
              "      <th>1</th>\n",
              "      <td>Maruti Ertiga VDI</td>\n",
              "      <td>2012</td>\n",
              "      <td>459999</td>\n",
              "      <td>87000</td>\n",
              "      <td>Diesel</td>\n",
              "      <td>Individual</td>\n",
              "      <td>Manual</td>\n",
              "      <td>First Owner</td>\n",
              "      <td>20.77 kmpl</td>\n",
              "      <td>1248 CC</td>\n",
              "      <td>88.76</td>\n",
              "      <td>200Nm@ 1750rpm</td>\n",
              "      <td>7.0</td>\n",
              "    </tr>\n",
              "    <tr>\n",
              "      <th>2</th>\n",
              "      <td>BMW 3 Series 320d Luxury Line</td>\n",
              "      <td>2010</td>\n",
              "      <td>1100000</td>\n",
              "      <td>102000</td>\n",
              "      <td>Diesel</td>\n",
              "      <td>Dealer</td>\n",
              "      <td>Automatic</td>\n",
              "      <td>First Owner</td>\n",
              "      <td>19.62 kmpl</td>\n",
              "      <td>1995 CC</td>\n",
              "      <td>187.74</td>\n",
              "      <td>400Nm@ 1750-2500rpm</td>\n",
              "      <td>5.0</td>\n",
              "    </tr>\n",
              "    <tr>\n",
              "      <th>3</th>\n",
              "      <td>Tata New Safari DICOR 2.2 EX 4x2</td>\n",
              "      <td>2009</td>\n",
              "      <td>229999</td>\n",
              "      <td>212000</td>\n",
              "      <td>Diesel</td>\n",
              "      <td>Individual</td>\n",
              "      <td>Manual</td>\n",
              "      <td>Third Owner</td>\n",
              "      <td>11.57 kmpl</td>\n",
              "      <td>2179 CC</td>\n",
              "      <td>138.1</td>\n",
              "      <td>320Nm@ 1700-2700rpm</td>\n",
              "      <td>7.0</td>\n",
              "    </tr>\n",
              "    <tr>\n",
              "      <th>4</th>\n",
              "      <td>Toyota Fortuner 3.0 Diesel</td>\n",
              "      <td>2010</td>\n",
              "      <td>800000</td>\n",
              "      <td>125000</td>\n",
              "      <td>Diesel</td>\n",
              "      <td>Individual</td>\n",
              "      <td>Manual</td>\n",
              "      <td>Second Owner</td>\n",
              "      <td>11.5 kmpl</td>\n",
              "      <td>2982 CC</td>\n",
              "      <td>171</td>\n",
              "      <td>343Nm@ 1400-3400rpm</td>\n",
              "      <td>7.0</td>\n",
              "    </tr>\n",
              "    <tr>\n",
              "      <th>5</th>\n",
              "      <td>Maruti Alto LX</td>\n",
              "      <td>2010</td>\n",
              "      <td>180000</td>\n",
              "      <td>25000</td>\n",
              "      <td>Petrol</td>\n",
              "      <td>Individual</td>\n",
              "      <td>Manual</td>\n",
              "      <td>Second Owner</td>\n",
              "      <td>19.7 kmpl</td>\n",
              "      <td>796 CC</td>\n",
              "      <td>46.3</td>\n",
              "      <td>62Nm@ 3000rpm</td>\n",
              "      <td>5.0</td>\n",
              "    </tr>\n",
              "  </tbody>\n",
              "</table>\n",
              "</div>"
            ],
            "text/plain": [
              "                               name  year  ...               torque  seats\n",
              "1                 Maruti Ertiga VDI  2012  ...       200Nm@ 1750rpm    7.0\n",
              "2     BMW 3 Series 320d Luxury Line  2010  ...  400Nm@ 1750-2500rpm    5.0\n",
              "3  Tata New Safari DICOR 2.2 EX 4x2  2009  ...  320Nm@ 1700-2700rpm    7.0\n",
              "4        Toyota Fortuner 3.0 Diesel  2010  ...  343Nm@ 1400-3400rpm    7.0\n",
              "5                    Maruti Alto LX  2010  ...        62Nm@ 3000rpm    5.0\n",
              "\n",
              "[5 rows x 13 columns]"
            ]
          },
          "metadata": {
            "tags": []
          },
          "execution_count": 1712
        }
      ]
    },
    {
      "cell_type": "code",
      "metadata": {
        "id": "mFKdd3emqQe_",
        "colab": {
          "base_uri": "https://localhost:8080/",
          "height": 204
        },
        "outputId": "3350612e-d97e-4268-9e61-ed0b3794f22d"
      },
      "source": [
        "# Remove unit from the engine feature\n",
        "df = df[df['engine'].notna()]\n",
        "df['engine'] = df['engine'].apply(lambda power: pd.Series(power.split()[0]))\n",
        "df.head()"
      ],
      "id": "mFKdd3emqQe_",
      "execution_count": null,
      "outputs": [
        {
          "output_type": "execute_result",
          "data": {
            "text/html": [
              "<div>\n",
              "<style scoped>\n",
              "    .dataframe tbody tr th:only-of-type {\n",
              "        vertical-align: middle;\n",
              "    }\n",
              "\n",
              "    .dataframe tbody tr th {\n",
              "        vertical-align: top;\n",
              "    }\n",
              "\n",
              "    .dataframe thead th {\n",
              "        text-align: right;\n",
              "    }\n",
              "</style>\n",
              "<table border=\"1\" class=\"dataframe\">\n",
              "  <thead>\n",
              "    <tr style=\"text-align: right;\">\n",
              "      <th></th>\n",
              "      <th>name</th>\n",
              "      <th>year</th>\n",
              "      <th>selling_price</th>\n",
              "      <th>km_driven</th>\n",
              "      <th>fuel</th>\n",
              "      <th>seller_type</th>\n",
              "      <th>transmission</th>\n",
              "      <th>owner</th>\n",
              "      <th>mileage</th>\n",
              "      <th>engine</th>\n",
              "      <th>max_power</th>\n",
              "      <th>torque</th>\n",
              "      <th>seats</th>\n",
              "    </tr>\n",
              "  </thead>\n",
              "  <tbody>\n",
              "    <tr>\n",
              "      <th>1</th>\n",
              "      <td>Maruti Ertiga VDI</td>\n",
              "      <td>2012</td>\n",
              "      <td>459999</td>\n",
              "      <td>87000</td>\n",
              "      <td>Diesel</td>\n",
              "      <td>Individual</td>\n",
              "      <td>Manual</td>\n",
              "      <td>First Owner</td>\n",
              "      <td>20.77 kmpl</td>\n",
              "      <td>1248</td>\n",
              "      <td>88.76</td>\n",
              "      <td>200Nm@ 1750rpm</td>\n",
              "      <td>7.0</td>\n",
              "    </tr>\n",
              "    <tr>\n",
              "      <th>2</th>\n",
              "      <td>BMW 3 Series 320d Luxury Line</td>\n",
              "      <td>2010</td>\n",
              "      <td>1100000</td>\n",
              "      <td>102000</td>\n",
              "      <td>Diesel</td>\n",
              "      <td>Dealer</td>\n",
              "      <td>Automatic</td>\n",
              "      <td>First Owner</td>\n",
              "      <td>19.62 kmpl</td>\n",
              "      <td>1995</td>\n",
              "      <td>187.74</td>\n",
              "      <td>400Nm@ 1750-2500rpm</td>\n",
              "      <td>5.0</td>\n",
              "    </tr>\n",
              "    <tr>\n",
              "      <th>3</th>\n",
              "      <td>Tata New Safari DICOR 2.2 EX 4x2</td>\n",
              "      <td>2009</td>\n",
              "      <td>229999</td>\n",
              "      <td>212000</td>\n",
              "      <td>Diesel</td>\n",
              "      <td>Individual</td>\n",
              "      <td>Manual</td>\n",
              "      <td>Third Owner</td>\n",
              "      <td>11.57 kmpl</td>\n",
              "      <td>2179</td>\n",
              "      <td>138.1</td>\n",
              "      <td>320Nm@ 1700-2700rpm</td>\n",
              "      <td>7.0</td>\n",
              "    </tr>\n",
              "    <tr>\n",
              "      <th>4</th>\n",
              "      <td>Toyota Fortuner 3.0 Diesel</td>\n",
              "      <td>2010</td>\n",
              "      <td>800000</td>\n",
              "      <td>125000</td>\n",
              "      <td>Diesel</td>\n",
              "      <td>Individual</td>\n",
              "      <td>Manual</td>\n",
              "      <td>Second Owner</td>\n",
              "      <td>11.5 kmpl</td>\n",
              "      <td>2982</td>\n",
              "      <td>171</td>\n",
              "      <td>343Nm@ 1400-3400rpm</td>\n",
              "      <td>7.0</td>\n",
              "    </tr>\n",
              "    <tr>\n",
              "      <th>5</th>\n",
              "      <td>Maruti Alto LX</td>\n",
              "      <td>2010</td>\n",
              "      <td>180000</td>\n",
              "      <td>25000</td>\n",
              "      <td>Petrol</td>\n",
              "      <td>Individual</td>\n",
              "      <td>Manual</td>\n",
              "      <td>Second Owner</td>\n",
              "      <td>19.7 kmpl</td>\n",
              "      <td>796</td>\n",
              "      <td>46.3</td>\n",
              "      <td>62Nm@ 3000rpm</td>\n",
              "      <td>5.0</td>\n",
              "    </tr>\n",
              "  </tbody>\n",
              "</table>\n",
              "</div>"
            ],
            "text/plain": [
              "                               name  year  ...               torque  seats\n",
              "1                 Maruti Ertiga VDI  2012  ...       200Nm@ 1750rpm    7.0\n",
              "2     BMW 3 Series 320d Luxury Line  2010  ...  400Nm@ 1750-2500rpm    5.0\n",
              "3  Tata New Safari DICOR 2.2 EX 4x2  2009  ...  320Nm@ 1700-2700rpm    7.0\n",
              "4        Toyota Fortuner 3.0 Diesel  2010  ...  343Nm@ 1400-3400rpm    7.0\n",
              "5                    Maruti Alto LX  2010  ...        62Nm@ 3000rpm    5.0\n",
              "\n",
              "[5 rows x 13 columns]"
            ]
          },
          "metadata": {
            "tags": []
          },
          "execution_count": 1713
        }
      ]
    },
    {
      "cell_type": "code",
      "metadata": {
        "id": "yAjFpVHIqmTc",
        "colab": {
          "base_uri": "https://localhost:8080/",
          "height": 204
        },
        "outputId": "69594f26-721c-436a-f272-cffb084e3330"
      },
      "source": [
        "# Remove unit from the mileage feature\n",
        "df = df[df['mileage'].notna()]\n",
        "df['mileage'] = df['mileage'].apply(lambda power: pd.Series(power.split()[0]))\n",
        "df.head()"
      ],
      "id": "yAjFpVHIqmTc",
      "execution_count": null,
      "outputs": [
        {
          "output_type": "execute_result",
          "data": {
            "text/html": [
              "<div>\n",
              "<style scoped>\n",
              "    .dataframe tbody tr th:only-of-type {\n",
              "        vertical-align: middle;\n",
              "    }\n",
              "\n",
              "    .dataframe tbody tr th {\n",
              "        vertical-align: top;\n",
              "    }\n",
              "\n",
              "    .dataframe thead th {\n",
              "        text-align: right;\n",
              "    }\n",
              "</style>\n",
              "<table border=\"1\" class=\"dataframe\">\n",
              "  <thead>\n",
              "    <tr style=\"text-align: right;\">\n",
              "      <th></th>\n",
              "      <th>name</th>\n",
              "      <th>year</th>\n",
              "      <th>selling_price</th>\n",
              "      <th>km_driven</th>\n",
              "      <th>fuel</th>\n",
              "      <th>seller_type</th>\n",
              "      <th>transmission</th>\n",
              "      <th>owner</th>\n",
              "      <th>mileage</th>\n",
              "      <th>engine</th>\n",
              "      <th>max_power</th>\n",
              "      <th>torque</th>\n",
              "      <th>seats</th>\n",
              "    </tr>\n",
              "  </thead>\n",
              "  <tbody>\n",
              "    <tr>\n",
              "      <th>1</th>\n",
              "      <td>Maruti Ertiga VDI</td>\n",
              "      <td>2012</td>\n",
              "      <td>459999</td>\n",
              "      <td>87000</td>\n",
              "      <td>Diesel</td>\n",
              "      <td>Individual</td>\n",
              "      <td>Manual</td>\n",
              "      <td>First Owner</td>\n",
              "      <td>20.77</td>\n",
              "      <td>1248</td>\n",
              "      <td>88.76</td>\n",
              "      <td>200Nm@ 1750rpm</td>\n",
              "      <td>7.0</td>\n",
              "    </tr>\n",
              "    <tr>\n",
              "      <th>2</th>\n",
              "      <td>BMW 3 Series 320d Luxury Line</td>\n",
              "      <td>2010</td>\n",
              "      <td>1100000</td>\n",
              "      <td>102000</td>\n",
              "      <td>Diesel</td>\n",
              "      <td>Dealer</td>\n",
              "      <td>Automatic</td>\n",
              "      <td>First Owner</td>\n",
              "      <td>19.62</td>\n",
              "      <td>1995</td>\n",
              "      <td>187.74</td>\n",
              "      <td>400Nm@ 1750-2500rpm</td>\n",
              "      <td>5.0</td>\n",
              "    </tr>\n",
              "    <tr>\n",
              "      <th>3</th>\n",
              "      <td>Tata New Safari DICOR 2.2 EX 4x2</td>\n",
              "      <td>2009</td>\n",
              "      <td>229999</td>\n",
              "      <td>212000</td>\n",
              "      <td>Diesel</td>\n",
              "      <td>Individual</td>\n",
              "      <td>Manual</td>\n",
              "      <td>Third Owner</td>\n",
              "      <td>11.57</td>\n",
              "      <td>2179</td>\n",
              "      <td>138.1</td>\n",
              "      <td>320Nm@ 1700-2700rpm</td>\n",
              "      <td>7.0</td>\n",
              "    </tr>\n",
              "    <tr>\n",
              "      <th>4</th>\n",
              "      <td>Toyota Fortuner 3.0 Diesel</td>\n",
              "      <td>2010</td>\n",
              "      <td>800000</td>\n",
              "      <td>125000</td>\n",
              "      <td>Diesel</td>\n",
              "      <td>Individual</td>\n",
              "      <td>Manual</td>\n",
              "      <td>Second Owner</td>\n",
              "      <td>11.5</td>\n",
              "      <td>2982</td>\n",
              "      <td>171</td>\n",
              "      <td>343Nm@ 1400-3400rpm</td>\n",
              "      <td>7.0</td>\n",
              "    </tr>\n",
              "    <tr>\n",
              "      <th>5</th>\n",
              "      <td>Maruti Alto LX</td>\n",
              "      <td>2010</td>\n",
              "      <td>180000</td>\n",
              "      <td>25000</td>\n",
              "      <td>Petrol</td>\n",
              "      <td>Individual</td>\n",
              "      <td>Manual</td>\n",
              "      <td>Second Owner</td>\n",
              "      <td>19.7</td>\n",
              "      <td>796</td>\n",
              "      <td>46.3</td>\n",
              "      <td>62Nm@ 3000rpm</td>\n",
              "      <td>5.0</td>\n",
              "    </tr>\n",
              "  </tbody>\n",
              "</table>\n",
              "</div>"
            ],
            "text/plain": [
              "                               name  year  ...               torque  seats\n",
              "1                 Maruti Ertiga VDI  2012  ...       200Nm@ 1750rpm    7.0\n",
              "2     BMW 3 Series 320d Luxury Line  2010  ...  400Nm@ 1750-2500rpm    5.0\n",
              "3  Tata New Safari DICOR 2.2 EX 4x2  2009  ...  320Nm@ 1700-2700rpm    7.0\n",
              "4        Toyota Fortuner 3.0 Diesel  2010  ...  343Nm@ 1400-3400rpm    7.0\n",
              "5                    Maruti Alto LX  2010  ...        62Nm@ 3000rpm    5.0\n",
              "\n",
              "[5 rows x 13 columns]"
            ]
          },
          "metadata": {
            "tags": []
          },
          "execution_count": 1714
        }
      ]
    },
    {
      "cell_type": "code",
      "metadata": {
        "id": "uwm3_Oqrd-Zi",
        "colab": {
          "base_uri": "https://localhost:8080/",
          "height": 204
        },
        "outputId": "4a466740-941f-4b64-c8a3-b9589d62274a"
      },
      "source": [
        "# Remove rows with empty torque and after the entire column (it helps, believe)\n",
        "df = df[df['torque'].notna()]\n",
        "df = df.drop(labels='torque', axis=1)\n",
        "df.head()"
      ],
      "id": "uwm3_Oqrd-Zi",
      "execution_count": null,
      "outputs": [
        {
          "output_type": "execute_result",
          "data": {
            "text/html": [
              "<div>\n",
              "<style scoped>\n",
              "    .dataframe tbody tr th:only-of-type {\n",
              "        vertical-align: middle;\n",
              "    }\n",
              "\n",
              "    .dataframe tbody tr th {\n",
              "        vertical-align: top;\n",
              "    }\n",
              "\n",
              "    .dataframe thead th {\n",
              "        text-align: right;\n",
              "    }\n",
              "</style>\n",
              "<table border=\"1\" class=\"dataframe\">\n",
              "  <thead>\n",
              "    <tr style=\"text-align: right;\">\n",
              "      <th></th>\n",
              "      <th>name</th>\n",
              "      <th>year</th>\n",
              "      <th>selling_price</th>\n",
              "      <th>km_driven</th>\n",
              "      <th>fuel</th>\n",
              "      <th>seller_type</th>\n",
              "      <th>transmission</th>\n",
              "      <th>owner</th>\n",
              "      <th>mileage</th>\n",
              "      <th>engine</th>\n",
              "      <th>max_power</th>\n",
              "      <th>seats</th>\n",
              "    </tr>\n",
              "  </thead>\n",
              "  <tbody>\n",
              "    <tr>\n",
              "      <th>1</th>\n",
              "      <td>Maruti Ertiga VDI</td>\n",
              "      <td>2012</td>\n",
              "      <td>459999</td>\n",
              "      <td>87000</td>\n",
              "      <td>Diesel</td>\n",
              "      <td>Individual</td>\n",
              "      <td>Manual</td>\n",
              "      <td>First Owner</td>\n",
              "      <td>20.77</td>\n",
              "      <td>1248</td>\n",
              "      <td>88.76</td>\n",
              "      <td>7.0</td>\n",
              "    </tr>\n",
              "    <tr>\n",
              "      <th>2</th>\n",
              "      <td>BMW 3 Series 320d Luxury Line</td>\n",
              "      <td>2010</td>\n",
              "      <td>1100000</td>\n",
              "      <td>102000</td>\n",
              "      <td>Diesel</td>\n",
              "      <td>Dealer</td>\n",
              "      <td>Automatic</td>\n",
              "      <td>First Owner</td>\n",
              "      <td>19.62</td>\n",
              "      <td>1995</td>\n",
              "      <td>187.74</td>\n",
              "      <td>5.0</td>\n",
              "    </tr>\n",
              "    <tr>\n",
              "      <th>3</th>\n",
              "      <td>Tata New Safari DICOR 2.2 EX 4x2</td>\n",
              "      <td>2009</td>\n",
              "      <td>229999</td>\n",
              "      <td>212000</td>\n",
              "      <td>Diesel</td>\n",
              "      <td>Individual</td>\n",
              "      <td>Manual</td>\n",
              "      <td>Third Owner</td>\n",
              "      <td>11.57</td>\n",
              "      <td>2179</td>\n",
              "      <td>138.1</td>\n",
              "      <td>7.0</td>\n",
              "    </tr>\n",
              "    <tr>\n",
              "      <th>4</th>\n",
              "      <td>Toyota Fortuner 3.0 Diesel</td>\n",
              "      <td>2010</td>\n",
              "      <td>800000</td>\n",
              "      <td>125000</td>\n",
              "      <td>Diesel</td>\n",
              "      <td>Individual</td>\n",
              "      <td>Manual</td>\n",
              "      <td>Second Owner</td>\n",
              "      <td>11.5</td>\n",
              "      <td>2982</td>\n",
              "      <td>171</td>\n",
              "      <td>7.0</td>\n",
              "    </tr>\n",
              "    <tr>\n",
              "      <th>5</th>\n",
              "      <td>Maruti Alto LX</td>\n",
              "      <td>2010</td>\n",
              "      <td>180000</td>\n",
              "      <td>25000</td>\n",
              "      <td>Petrol</td>\n",
              "      <td>Individual</td>\n",
              "      <td>Manual</td>\n",
              "      <td>Second Owner</td>\n",
              "      <td>19.7</td>\n",
              "      <td>796</td>\n",
              "      <td>46.3</td>\n",
              "      <td>5.0</td>\n",
              "    </tr>\n",
              "  </tbody>\n",
              "</table>\n",
              "</div>"
            ],
            "text/plain": [
              "                               name  year  ...  max_power  seats\n",
              "1                 Maruti Ertiga VDI  2012  ...      88.76    7.0\n",
              "2     BMW 3 Series 320d Luxury Line  2010  ...     187.74    5.0\n",
              "3  Tata New Safari DICOR 2.2 EX 4x2  2009  ...      138.1    7.0\n",
              "4        Toyota Fortuner 3.0 Diesel  2010  ...        171    7.0\n",
              "5                    Maruti Alto LX  2010  ...       46.3    5.0\n",
              "\n",
              "[5 rows x 12 columns]"
            ]
          },
          "metadata": {
            "tags": []
          },
          "execution_count": 1715
        }
      ]
    },
    {
      "cell_type": "markdown",
      "metadata": {
        "id": "b_DCwqJDZOUc"
      },
      "source": [
        "## Featuring Engineering"
      ],
      "id": "b_DCwqJDZOUc"
    },
    {
      "cell_type": "code",
      "metadata": {
        "id": "efxYSQ39WF18",
        "colab": {
          "base_uri": "https://localhost:8080/",
          "height": 204
        },
        "outputId": "635c1fb0-acff-44ab-d935-3ef2c7c247f3"
      },
      "source": [
        "# Replace car's name column by the car's brand\n",
        "df['name'] = df['name'].apply(lambda name: pd.Series(name.split()[0]))\n",
        "df.rename(columns={'name':'brand'}, inplace=True)\n",
        "df.head()"
      ],
      "id": "efxYSQ39WF18",
      "execution_count": null,
      "outputs": [
        {
          "output_type": "execute_result",
          "data": {
            "text/html": [
              "<div>\n",
              "<style scoped>\n",
              "    .dataframe tbody tr th:only-of-type {\n",
              "        vertical-align: middle;\n",
              "    }\n",
              "\n",
              "    .dataframe tbody tr th {\n",
              "        vertical-align: top;\n",
              "    }\n",
              "\n",
              "    .dataframe thead th {\n",
              "        text-align: right;\n",
              "    }\n",
              "</style>\n",
              "<table border=\"1\" class=\"dataframe\">\n",
              "  <thead>\n",
              "    <tr style=\"text-align: right;\">\n",
              "      <th></th>\n",
              "      <th>brand</th>\n",
              "      <th>year</th>\n",
              "      <th>selling_price</th>\n",
              "      <th>km_driven</th>\n",
              "      <th>fuel</th>\n",
              "      <th>seller_type</th>\n",
              "      <th>transmission</th>\n",
              "      <th>owner</th>\n",
              "      <th>mileage</th>\n",
              "      <th>engine</th>\n",
              "      <th>max_power</th>\n",
              "      <th>seats</th>\n",
              "    </tr>\n",
              "  </thead>\n",
              "  <tbody>\n",
              "    <tr>\n",
              "      <th>1</th>\n",
              "      <td>Maruti</td>\n",
              "      <td>2012</td>\n",
              "      <td>459999</td>\n",
              "      <td>87000</td>\n",
              "      <td>Diesel</td>\n",
              "      <td>Individual</td>\n",
              "      <td>Manual</td>\n",
              "      <td>First Owner</td>\n",
              "      <td>20.77</td>\n",
              "      <td>1248</td>\n",
              "      <td>88.76</td>\n",
              "      <td>7.0</td>\n",
              "    </tr>\n",
              "    <tr>\n",
              "      <th>2</th>\n",
              "      <td>BMW</td>\n",
              "      <td>2010</td>\n",
              "      <td>1100000</td>\n",
              "      <td>102000</td>\n",
              "      <td>Diesel</td>\n",
              "      <td>Dealer</td>\n",
              "      <td>Automatic</td>\n",
              "      <td>First Owner</td>\n",
              "      <td>19.62</td>\n",
              "      <td>1995</td>\n",
              "      <td>187.74</td>\n",
              "      <td>5.0</td>\n",
              "    </tr>\n",
              "    <tr>\n",
              "      <th>3</th>\n",
              "      <td>Tata</td>\n",
              "      <td>2009</td>\n",
              "      <td>229999</td>\n",
              "      <td>212000</td>\n",
              "      <td>Diesel</td>\n",
              "      <td>Individual</td>\n",
              "      <td>Manual</td>\n",
              "      <td>Third Owner</td>\n",
              "      <td>11.57</td>\n",
              "      <td>2179</td>\n",
              "      <td>138.1</td>\n",
              "      <td>7.0</td>\n",
              "    </tr>\n",
              "    <tr>\n",
              "      <th>4</th>\n",
              "      <td>Toyota</td>\n",
              "      <td>2010</td>\n",
              "      <td>800000</td>\n",
              "      <td>125000</td>\n",
              "      <td>Diesel</td>\n",
              "      <td>Individual</td>\n",
              "      <td>Manual</td>\n",
              "      <td>Second Owner</td>\n",
              "      <td>11.5</td>\n",
              "      <td>2982</td>\n",
              "      <td>171</td>\n",
              "      <td>7.0</td>\n",
              "    </tr>\n",
              "    <tr>\n",
              "      <th>5</th>\n",
              "      <td>Maruti</td>\n",
              "      <td>2010</td>\n",
              "      <td>180000</td>\n",
              "      <td>25000</td>\n",
              "      <td>Petrol</td>\n",
              "      <td>Individual</td>\n",
              "      <td>Manual</td>\n",
              "      <td>Second Owner</td>\n",
              "      <td>19.7</td>\n",
              "      <td>796</td>\n",
              "      <td>46.3</td>\n",
              "      <td>5.0</td>\n",
              "    </tr>\n",
              "  </tbody>\n",
              "</table>\n",
              "</div>"
            ],
            "text/plain": [
              "    brand  year  selling_price  km_driven  ... mileage engine max_power seats\n",
              "1  Maruti  2012         459999      87000  ...   20.77   1248     88.76   7.0\n",
              "2     BMW  2010        1100000     102000  ...   19.62   1995    187.74   5.0\n",
              "3    Tata  2009         229999     212000  ...   11.57   2179     138.1   7.0\n",
              "4  Toyota  2010         800000     125000  ...    11.5   2982       171   7.0\n",
              "5  Maruti  2010         180000      25000  ...    19.7    796      46.3   5.0\n",
              "\n",
              "[5 rows x 12 columns]"
            ]
          },
          "metadata": {
            "tags": []
          },
          "execution_count": 1716
        }
      ]
    },
    {
      "cell_type": "code",
      "metadata": {
        "id": "4LH1H39TrXbI"
      },
      "source": [
        "# Save one copy of the enriched dataframe\n",
        "df1 = df"
      ],
      "id": "4LH1H39TrXbI",
      "execution_count": null,
      "outputs": []
    },
    {
      "cell_type": "code",
      "metadata": {
        "colab": {
          "base_uri": "https://localhost:8080/"
        },
        "id": "Gu506gCuw0Rw",
        "outputId": "584560ff-2b6d-48e2-a132-f9ffc67cefc9"
      },
      "source": [
        "len(df[df.duplicated()]) "
      ],
      "id": "Gu506gCuw0Rw",
      "execution_count": null,
      "outputs": [
        {
          "output_type": "execute_result",
          "data": {
            "text/plain": [
              "704"
            ]
          },
          "metadata": {
            "tags": []
          },
          "execution_count": 1718
        }
      ]
    },
    {
      "cell_type": "code",
      "metadata": {
        "colab": {
          "base_uri": "https://localhost:8080/"
        },
        "id": "TAfcuA_Gwm7L",
        "outputId": "8a0e6c18-2627-41c6-8062-b32ad5f3b1f7"
      },
      "source": [
        "# Remove duplicated lines. (Un)comment this line to see the effect in R2 score\n",
        "df = df.drop_duplicates()\n",
        "len(df[df.duplicated()]) "
      ],
      "id": "TAfcuA_Gwm7L",
      "execution_count": null,
      "outputs": [
        {
          "output_type": "execute_result",
          "data": {
            "text/plain": [
              "0"
            ]
          },
          "metadata": {
            "tags": []
          },
          "execution_count": 1719
        }
      ]
    },
    {
      "cell_type": "markdown",
      "metadata": {
        "id": "iQ1jRqGR-k-l"
      },
      "source": [
        "## Modelagem\n"
      ],
      "id": "iQ1jRqGR-k-l"
    },
    {
      "cell_type": "markdown",
      "metadata": {
        "id": "nrgeG13JfOh2"
      },
      "source": [
        "### Experimento 1\n",
        "* Objetivo: Verificar a performance do modelo, usando como parâmetros LabelEncoding, StandardScaler e CatboostRegressor.\n",
        "* Features: brand, fuel, seller_type, owner, seats\n",
        "* Encoder: LabelEncoding\n",
        "* Scaler: StandardScaler\n",
        "* Algoritm: CatBoostRegressor"
      ],
      "id": "nrgeG13JfOh2"
    },
    {
      "cell_type": "code",
      "metadata": {
        "id": "4mD-wj1OfOh-",
        "colab": {
          "base_uri": "https://localhost:8080/",
          "height": 204
        },
        "outputId": "0b5533c4-20e8-4323-94d2-4b5ccfec2dbb"
      },
      "source": [
        "# Create features dataframe\n",
        "features = ['brand', 'year', 'km_driven', 'fuel', 'seller_type', 'transmission', 'owner', 'mileage', 'engine', 'max_power', 'seats']\n",
        "X = df[features]\n",
        "X.head()"
      ],
      "id": "4mD-wj1OfOh-",
      "execution_count": null,
      "outputs": [
        {
          "output_type": "execute_result",
          "data": {
            "text/html": [
              "<div>\n",
              "<style scoped>\n",
              "    .dataframe tbody tr th:only-of-type {\n",
              "        vertical-align: middle;\n",
              "    }\n",
              "\n",
              "    .dataframe tbody tr th {\n",
              "        vertical-align: top;\n",
              "    }\n",
              "\n",
              "    .dataframe thead th {\n",
              "        text-align: right;\n",
              "    }\n",
              "</style>\n",
              "<table border=\"1\" class=\"dataframe\">\n",
              "  <thead>\n",
              "    <tr style=\"text-align: right;\">\n",
              "      <th></th>\n",
              "      <th>brand</th>\n",
              "      <th>year</th>\n",
              "      <th>km_driven</th>\n",
              "      <th>fuel</th>\n",
              "      <th>seller_type</th>\n",
              "      <th>transmission</th>\n",
              "      <th>owner</th>\n",
              "      <th>mileage</th>\n",
              "      <th>engine</th>\n",
              "      <th>max_power</th>\n",
              "      <th>seats</th>\n",
              "    </tr>\n",
              "  </thead>\n",
              "  <tbody>\n",
              "    <tr>\n",
              "      <th>1</th>\n",
              "      <td>Maruti</td>\n",
              "      <td>2012</td>\n",
              "      <td>87000</td>\n",
              "      <td>Diesel</td>\n",
              "      <td>Individual</td>\n",
              "      <td>Manual</td>\n",
              "      <td>First Owner</td>\n",
              "      <td>20.77</td>\n",
              "      <td>1248</td>\n",
              "      <td>88.76</td>\n",
              "      <td>7.0</td>\n",
              "    </tr>\n",
              "    <tr>\n",
              "      <th>2</th>\n",
              "      <td>BMW</td>\n",
              "      <td>2010</td>\n",
              "      <td>102000</td>\n",
              "      <td>Diesel</td>\n",
              "      <td>Dealer</td>\n",
              "      <td>Automatic</td>\n",
              "      <td>First Owner</td>\n",
              "      <td>19.62</td>\n",
              "      <td>1995</td>\n",
              "      <td>187.74</td>\n",
              "      <td>5.0</td>\n",
              "    </tr>\n",
              "    <tr>\n",
              "      <th>3</th>\n",
              "      <td>Tata</td>\n",
              "      <td>2009</td>\n",
              "      <td>212000</td>\n",
              "      <td>Diesel</td>\n",
              "      <td>Individual</td>\n",
              "      <td>Manual</td>\n",
              "      <td>Third Owner</td>\n",
              "      <td>11.57</td>\n",
              "      <td>2179</td>\n",
              "      <td>138.1</td>\n",
              "      <td>7.0</td>\n",
              "    </tr>\n",
              "    <tr>\n",
              "      <th>4</th>\n",
              "      <td>Toyota</td>\n",
              "      <td>2010</td>\n",
              "      <td>125000</td>\n",
              "      <td>Diesel</td>\n",
              "      <td>Individual</td>\n",
              "      <td>Manual</td>\n",
              "      <td>Second Owner</td>\n",
              "      <td>11.5</td>\n",
              "      <td>2982</td>\n",
              "      <td>171</td>\n",
              "      <td>7.0</td>\n",
              "    </tr>\n",
              "    <tr>\n",
              "      <th>5</th>\n",
              "      <td>Maruti</td>\n",
              "      <td>2010</td>\n",
              "      <td>25000</td>\n",
              "      <td>Petrol</td>\n",
              "      <td>Individual</td>\n",
              "      <td>Manual</td>\n",
              "      <td>Second Owner</td>\n",
              "      <td>19.7</td>\n",
              "      <td>796</td>\n",
              "      <td>46.3</td>\n",
              "      <td>5.0</td>\n",
              "    </tr>\n",
              "  </tbody>\n",
              "</table>\n",
              "</div>"
            ],
            "text/plain": [
              "    brand  year  km_driven    fuel  ... mileage engine max_power seats\n",
              "1  Maruti  2012      87000  Diesel  ...   20.77   1248     88.76   7.0\n",
              "2     BMW  2010     102000  Diesel  ...   19.62   1995    187.74   5.0\n",
              "3    Tata  2009     212000  Diesel  ...   11.57   2179     138.1   7.0\n",
              "4  Toyota  2010     125000  Diesel  ...    11.5   2982       171   7.0\n",
              "5  Maruti  2010      25000  Petrol  ...    19.7    796      46.3   5.0\n",
              "\n",
              "[5 rows x 11 columns]"
            ]
          },
          "metadata": {
            "tags": []
          },
          "execution_count": 1720
        }
      ]
    },
    {
      "cell_type": "code",
      "metadata": {
        "id": "9PX6p5HJfOiA",
        "colab": {
          "base_uri": "https://localhost:8080/",
          "height": 204
        },
        "outputId": "b897be3b-0d26-4c62-86b5-ddbff4605351"
      },
      "source": [
        "# Create labels dataframe\n",
        "label = ['selling_price']\n",
        "y = df[label]\n",
        "y.head()"
      ],
      "id": "9PX6p5HJfOiA",
      "execution_count": null,
      "outputs": [
        {
          "output_type": "execute_result",
          "data": {
            "text/html": [
              "<div>\n",
              "<style scoped>\n",
              "    .dataframe tbody tr th:only-of-type {\n",
              "        vertical-align: middle;\n",
              "    }\n",
              "\n",
              "    .dataframe tbody tr th {\n",
              "        vertical-align: top;\n",
              "    }\n",
              "\n",
              "    .dataframe thead th {\n",
              "        text-align: right;\n",
              "    }\n",
              "</style>\n",
              "<table border=\"1\" class=\"dataframe\">\n",
              "  <thead>\n",
              "    <tr style=\"text-align: right;\">\n",
              "      <th></th>\n",
              "      <th>selling_price</th>\n",
              "    </tr>\n",
              "  </thead>\n",
              "  <tbody>\n",
              "    <tr>\n",
              "      <th>1</th>\n",
              "      <td>459999</td>\n",
              "    </tr>\n",
              "    <tr>\n",
              "      <th>2</th>\n",
              "      <td>1100000</td>\n",
              "    </tr>\n",
              "    <tr>\n",
              "      <th>3</th>\n",
              "      <td>229999</td>\n",
              "    </tr>\n",
              "    <tr>\n",
              "      <th>4</th>\n",
              "      <td>800000</td>\n",
              "    </tr>\n",
              "    <tr>\n",
              "      <th>5</th>\n",
              "      <td>180000</td>\n",
              "    </tr>\n",
              "  </tbody>\n",
              "</table>\n",
              "</div>"
            ],
            "text/plain": [
              "   selling_price\n",
              "1         459999\n",
              "2        1100000\n",
              "3         229999\n",
              "4         800000\n",
              "5         180000"
            ]
          },
          "metadata": {
            "tags": []
          },
          "execution_count": 1721
        }
      ]
    },
    {
      "cell_type": "code",
      "metadata": {
        "id": "lTr1_bq1fOiB",
        "colab": {
          "base_uri": "https://localhost:8080/",
          "height": 204
        },
        "outputId": "864a2996-305b-4510-8b3b-242be648349b"
      },
      "source": [
        "# Run label encoding for all categorical features\n",
        "from sklearn.preprocessing import LabelEncoder\n",
        "features = ['brand', 'fuel', 'seller_type', 'owner', 'transmission', 'year']\n",
        "\n",
        "for feat in features:\n",
        "  X[feat] = LabelEncoder().fit_transform(X[feat].astype(str))\n",
        "\n",
        "X.head()"
      ],
      "id": "lTr1_bq1fOiB",
      "execution_count": null,
      "outputs": [
        {
          "output_type": "execute_result",
          "data": {
            "text/html": [
              "<div>\n",
              "<style scoped>\n",
              "    .dataframe tbody tr th:only-of-type {\n",
              "        vertical-align: middle;\n",
              "    }\n",
              "\n",
              "    .dataframe tbody tr th {\n",
              "        vertical-align: top;\n",
              "    }\n",
              "\n",
              "    .dataframe thead th {\n",
              "        text-align: right;\n",
              "    }\n",
              "</style>\n",
              "<table border=\"1\" class=\"dataframe\">\n",
              "  <thead>\n",
              "    <tr style=\"text-align: right;\">\n",
              "      <th></th>\n",
              "      <th>brand</th>\n",
              "      <th>year</th>\n",
              "      <th>km_driven</th>\n",
              "      <th>fuel</th>\n",
              "      <th>seller_type</th>\n",
              "      <th>transmission</th>\n",
              "      <th>owner</th>\n",
              "      <th>mileage</th>\n",
              "      <th>engine</th>\n",
              "      <th>max_power</th>\n",
              "      <th>seats</th>\n",
              "    </tr>\n",
              "  </thead>\n",
              "  <tbody>\n",
              "    <tr>\n",
              "      <th>1</th>\n",
              "      <td>20</td>\n",
              "      <td>18</td>\n",
              "      <td>87000</td>\n",
              "      <td>1</td>\n",
              "      <td>1</td>\n",
              "      <td>1</td>\n",
              "      <td>0</td>\n",
              "      <td>20.77</td>\n",
              "      <td>1248</td>\n",
              "      <td>88.76</td>\n",
              "      <td>7.0</td>\n",
              "    </tr>\n",
              "    <tr>\n",
              "      <th>2</th>\n",
              "      <td>3</td>\n",
              "      <td>16</td>\n",
              "      <td>102000</td>\n",
              "      <td>1</td>\n",
              "      <td>0</td>\n",
              "      <td>0</td>\n",
              "      <td>0</td>\n",
              "      <td>19.62</td>\n",
              "      <td>1995</td>\n",
              "      <td>187.74</td>\n",
              "      <td>5.0</td>\n",
              "    </tr>\n",
              "    <tr>\n",
              "      <th>3</th>\n",
              "      <td>26</td>\n",
              "      <td>15</td>\n",
              "      <td>212000</td>\n",
              "      <td>1</td>\n",
              "      <td>1</td>\n",
              "      <td>1</td>\n",
              "      <td>4</td>\n",
              "      <td>11.57</td>\n",
              "      <td>2179</td>\n",
              "      <td>138.1</td>\n",
              "      <td>7.0</td>\n",
              "    </tr>\n",
              "    <tr>\n",
              "      <th>4</th>\n",
              "      <td>27</td>\n",
              "      <td>16</td>\n",
              "      <td>125000</td>\n",
              "      <td>1</td>\n",
              "      <td>1</td>\n",
              "      <td>1</td>\n",
              "      <td>2</td>\n",
              "      <td>11.5</td>\n",
              "      <td>2982</td>\n",
              "      <td>171</td>\n",
              "      <td>7.0</td>\n",
              "    </tr>\n",
              "    <tr>\n",
              "      <th>5</th>\n",
              "      <td>20</td>\n",
              "      <td>16</td>\n",
              "      <td>25000</td>\n",
              "      <td>3</td>\n",
              "      <td>1</td>\n",
              "      <td>1</td>\n",
              "      <td>2</td>\n",
              "      <td>19.7</td>\n",
              "      <td>796</td>\n",
              "      <td>46.3</td>\n",
              "      <td>5.0</td>\n",
              "    </tr>\n",
              "  </tbody>\n",
              "</table>\n",
              "</div>"
            ],
            "text/plain": [
              "   brand  year  km_driven  fuel  ...  mileage  engine  max_power seats\n",
              "1     20    18      87000     1  ...    20.77    1248      88.76   7.0\n",
              "2      3    16     102000     1  ...    19.62    1995     187.74   5.0\n",
              "3     26    15     212000     1  ...    11.57    2179      138.1   7.0\n",
              "4     27    16     125000     1  ...     11.5    2982        171   7.0\n",
              "5     20    16      25000     3  ...     19.7     796       46.3   5.0\n",
              "\n",
              "[5 rows x 11 columns]"
            ]
          },
          "metadata": {
            "tags": []
          },
          "execution_count": 1722
        }
      ]
    },
    {
      "cell_type": "code",
      "metadata": {
        "id": "sEfcO0GWfOiC"
      },
      "source": [
        "# Scaling\n",
        "from sklearn.preprocessing import StandardScaler\n",
        "scaler = StandardScaler()\n",
        "X = scaler.fit_transform(X)"
      ],
      "id": "sEfcO0GWfOiC",
      "execution_count": null,
      "outputs": []
    },
    {
      "cell_type": "code",
      "metadata": {
        "id": "ld83bo3cfOiC"
      },
      "source": [
        "# Splitting\n",
        "from sklearn.model_selection import train_test_split\n",
        "test_size = 0.10\n",
        "X_train, X_test, y_train, y_test = train_test_split(X, y, test_size = test_size, random_state = 0)"
      ],
      "id": "ld83bo3cfOiC",
      "execution_count": null,
      "outputs": []
    },
    {
      "cell_type": "code",
      "metadata": {
        "id": "U19vv0DofOiD",
        "colab": {
          "base_uri": "https://localhost:8080/",
          "height": 297
        },
        "outputId": "65fdf163-fdb3-4eb6-e7bd-b3a16676ea78"
      },
      "source": [
        "y_train.describe()"
      ],
      "id": "U19vv0DofOiD",
      "execution_count": null,
      "outputs": [
        {
          "output_type": "execute_result",
          "data": {
            "text/html": [
              "<div>\n",
              "<style scoped>\n",
              "    .dataframe tbody tr th:only-of-type {\n",
              "        vertical-align: middle;\n",
              "    }\n",
              "\n",
              "    .dataframe tbody tr th {\n",
              "        vertical-align: top;\n",
              "    }\n",
              "\n",
              "    .dataframe thead th {\n",
              "        text-align: right;\n",
              "    }\n",
              "</style>\n",
              "<table border=\"1\" class=\"dataframe\">\n",
              "  <thead>\n",
              "    <tr style=\"text-align: right;\">\n",
              "      <th></th>\n",
              "      <th>selling_price</th>\n",
              "    </tr>\n",
              "  </thead>\n",
              "  <tbody>\n",
              "    <tr>\n",
              "      <th>count</th>\n",
              "      <td>4.344000e+03</td>\n",
              "    </tr>\n",
              "    <tr>\n",
              "      <th>mean</th>\n",
              "      <td>5.286893e+05</td>\n",
              "    </tr>\n",
              "    <tr>\n",
              "      <th>std</th>\n",
              "      <td>5.122169e+05</td>\n",
              "    </tr>\n",
              "    <tr>\n",
              "      <th>min</th>\n",
              "      <td>2.999900e+04</td>\n",
              "    </tr>\n",
              "    <tr>\n",
              "      <th>25%</th>\n",
              "      <td>2.500000e+05</td>\n",
              "    </tr>\n",
              "    <tr>\n",
              "      <th>50%</th>\n",
              "      <td>4.200000e+05</td>\n",
              "    </tr>\n",
              "    <tr>\n",
              "      <th>75%</th>\n",
              "      <td>6.490000e+05</td>\n",
              "    </tr>\n",
              "    <tr>\n",
              "      <th>max</th>\n",
              "      <td>7.200000e+06</td>\n",
              "    </tr>\n",
              "  </tbody>\n",
              "</table>\n",
              "</div>"
            ],
            "text/plain": [
              "       selling_price\n",
              "count   4.344000e+03\n",
              "mean    5.286893e+05\n",
              "std     5.122169e+05\n",
              "min     2.999900e+04\n",
              "25%     2.500000e+05\n",
              "50%     4.200000e+05\n",
              "75%     6.490000e+05\n",
              "max     7.200000e+06"
            ]
          },
          "metadata": {
            "tags": []
          },
          "execution_count": 1725
        }
      ]
    },
    {
      "cell_type": "code",
      "metadata": {
        "id": "cS64oWpxfOiD",
        "colab": {
          "base_uri": "https://localhost:8080/",
          "height": 297
        },
        "outputId": "26c13b6e-7530-48aa-95be-a400ca68e14d"
      },
      "source": [
        "y_test.describe()"
      ],
      "id": "cS64oWpxfOiD",
      "execution_count": null,
      "outputs": [
        {
          "output_type": "execute_result",
          "data": {
            "text/html": [
              "<div>\n",
              "<style scoped>\n",
              "    .dataframe tbody tr th:only-of-type {\n",
              "        vertical-align: middle;\n",
              "    }\n",
              "\n",
              "    .dataframe tbody tr th {\n",
              "        vertical-align: top;\n",
              "    }\n",
              "\n",
              "    .dataframe thead th {\n",
              "        text-align: right;\n",
              "    }\n",
              "</style>\n",
              "<table border=\"1\" class=\"dataframe\">\n",
              "  <thead>\n",
              "    <tr style=\"text-align: right;\">\n",
              "      <th></th>\n",
              "      <th>selling_price</th>\n",
              "    </tr>\n",
              "  </thead>\n",
              "  <tbody>\n",
              "    <tr>\n",
              "      <th>count</th>\n",
              "      <td>4.830000e+02</td>\n",
              "    </tr>\n",
              "    <tr>\n",
              "      <th>mean</th>\n",
              "      <td>5.105248e+05</td>\n",
              "    </tr>\n",
              "    <tr>\n",
              "      <th>std</th>\n",
              "      <td>4.668180e+05</td>\n",
              "    </tr>\n",
              "    <tr>\n",
              "      <th>min</th>\n",
              "      <td>4.500000e+04</td>\n",
              "    </tr>\n",
              "    <tr>\n",
              "      <th>25%</th>\n",
              "      <td>2.574995e+05</td>\n",
              "    </tr>\n",
              "    <tr>\n",
              "      <th>50%</th>\n",
              "      <td>4.200000e+05</td>\n",
              "    </tr>\n",
              "    <tr>\n",
              "      <th>75%</th>\n",
              "      <td>6.500000e+05</td>\n",
              "    </tr>\n",
              "    <tr>\n",
              "      <th>max</th>\n",
              "      <td>6.000000e+06</td>\n",
              "    </tr>\n",
              "  </tbody>\n",
              "</table>\n",
              "</div>"
            ],
            "text/plain": [
              "       selling_price\n",
              "count   4.830000e+02\n",
              "mean    5.105248e+05\n",
              "std     4.668180e+05\n",
              "min     4.500000e+04\n",
              "25%     2.574995e+05\n",
              "50%     4.200000e+05\n",
              "75%     6.500000e+05\n",
              "max     6.000000e+06"
            ]
          },
          "metadata": {
            "tags": []
          },
          "execution_count": 1726
        }
      ]
    },
    {
      "cell_type": "code",
      "metadata": {
        "id": "OXYYOv2wfOiD"
      },
      "source": [
        "# Create the model\n",
        "import catboost as cb\n",
        "model1 = cb.CatBoostRegressor(logging_level='Silent')"
      ],
      "id": "OXYYOv2wfOiD",
      "execution_count": null,
      "outputs": []
    },
    {
      "cell_type": "code",
      "metadata": {
        "id": "bLcq3n9_fOiE"
      },
      "source": [
        "# Train the model\n",
        "model1.fit(X_train,y_train)\n",
        "pred1 = model1.predict(X_test)"
      ],
      "id": "bLcq3n9_fOiE",
      "execution_count": null,
      "outputs": []
    },
    {
      "cell_type": "code",
      "metadata": {
        "id": "In1FfipQfOiE",
        "colab": {
          "base_uri": "https://localhost:8080/"
        },
        "outputId": "9e3306cd-d056-43c3-9db4-88e9d035cb44"
      },
      "source": [
        "# Show the model score for the test data\n",
        "from sklearn.metrics import r2_score\n",
        "r21 = r2_score(y_test, pred1)\n",
        "print('R2: {:.5f}'.format(r21))"
      ],
      "id": "In1FfipQfOiE",
      "execution_count": null,
      "outputs": [
        {
          "output_type": "stream",
          "text": [
            "R2: 0.94258\n"
          ],
          "name": "stdout"
        }
      ]
    },
    {
      "cell_type": "markdown",
      "metadata": {
        "id": "lhsWeNLHc1AP"
      },
      "source": [
        "### Experimento 2\n",
        "* Objetivo: Verificar a performance do modelo, usando como parâmetros One-Hot-Encoding, StandardScaler e CatboostRegressor.\n",
        "* Encoder: One-Hot-Encoding\n",
        "* Scaler: StandardScaler\n",
        "* Algoritm: CatBoostRegressor"
      ],
      "id": "lhsWeNLHc1AP"
    },
    {
      "cell_type": "code",
      "metadata": {
        "id": "mpv8lKh1c1AU",
        "colab": {
          "base_uri": "https://localhost:8080/",
          "height": 204
        },
        "outputId": "6e54e297-7e48-4000-f5a7-d642458af7ba"
      },
      "source": [
        "# Create features dataframe\n",
        "features = ['brand', 'year', 'km_driven', 'fuel', 'seller_type', 'transmission', 'owner', 'mileage', 'engine', 'max_power', 'seats']\n",
        "X = df[features]\n",
        "X.head()"
      ],
      "id": "mpv8lKh1c1AU",
      "execution_count": null,
      "outputs": [
        {
          "output_type": "execute_result",
          "data": {
            "text/html": [
              "<div>\n",
              "<style scoped>\n",
              "    .dataframe tbody tr th:only-of-type {\n",
              "        vertical-align: middle;\n",
              "    }\n",
              "\n",
              "    .dataframe tbody tr th {\n",
              "        vertical-align: top;\n",
              "    }\n",
              "\n",
              "    .dataframe thead th {\n",
              "        text-align: right;\n",
              "    }\n",
              "</style>\n",
              "<table border=\"1\" class=\"dataframe\">\n",
              "  <thead>\n",
              "    <tr style=\"text-align: right;\">\n",
              "      <th></th>\n",
              "      <th>brand</th>\n",
              "      <th>year</th>\n",
              "      <th>km_driven</th>\n",
              "      <th>fuel</th>\n",
              "      <th>seller_type</th>\n",
              "      <th>transmission</th>\n",
              "      <th>owner</th>\n",
              "      <th>mileage</th>\n",
              "      <th>engine</th>\n",
              "      <th>max_power</th>\n",
              "      <th>seats</th>\n",
              "    </tr>\n",
              "  </thead>\n",
              "  <tbody>\n",
              "    <tr>\n",
              "      <th>1</th>\n",
              "      <td>Maruti</td>\n",
              "      <td>2012</td>\n",
              "      <td>87000</td>\n",
              "      <td>Diesel</td>\n",
              "      <td>Individual</td>\n",
              "      <td>Manual</td>\n",
              "      <td>First Owner</td>\n",
              "      <td>20.77</td>\n",
              "      <td>1248</td>\n",
              "      <td>88.76</td>\n",
              "      <td>7.0</td>\n",
              "    </tr>\n",
              "    <tr>\n",
              "      <th>2</th>\n",
              "      <td>BMW</td>\n",
              "      <td>2010</td>\n",
              "      <td>102000</td>\n",
              "      <td>Diesel</td>\n",
              "      <td>Dealer</td>\n",
              "      <td>Automatic</td>\n",
              "      <td>First Owner</td>\n",
              "      <td>19.62</td>\n",
              "      <td>1995</td>\n",
              "      <td>187.74</td>\n",
              "      <td>5.0</td>\n",
              "    </tr>\n",
              "    <tr>\n",
              "      <th>3</th>\n",
              "      <td>Tata</td>\n",
              "      <td>2009</td>\n",
              "      <td>212000</td>\n",
              "      <td>Diesel</td>\n",
              "      <td>Individual</td>\n",
              "      <td>Manual</td>\n",
              "      <td>Third Owner</td>\n",
              "      <td>11.57</td>\n",
              "      <td>2179</td>\n",
              "      <td>138.1</td>\n",
              "      <td>7.0</td>\n",
              "    </tr>\n",
              "    <tr>\n",
              "      <th>4</th>\n",
              "      <td>Toyota</td>\n",
              "      <td>2010</td>\n",
              "      <td>125000</td>\n",
              "      <td>Diesel</td>\n",
              "      <td>Individual</td>\n",
              "      <td>Manual</td>\n",
              "      <td>Second Owner</td>\n",
              "      <td>11.5</td>\n",
              "      <td>2982</td>\n",
              "      <td>171</td>\n",
              "      <td>7.0</td>\n",
              "    </tr>\n",
              "    <tr>\n",
              "      <th>5</th>\n",
              "      <td>Maruti</td>\n",
              "      <td>2010</td>\n",
              "      <td>25000</td>\n",
              "      <td>Petrol</td>\n",
              "      <td>Individual</td>\n",
              "      <td>Manual</td>\n",
              "      <td>Second Owner</td>\n",
              "      <td>19.7</td>\n",
              "      <td>796</td>\n",
              "      <td>46.3</td>\n",
              "      <td>5.0</td>\n",
              "    </tr>\n",
              "  </tbody>\n",
              "</table>\n",
              "</div>"
            ],
            "text/plain": [
              "    brand  year  km_driven    fuel  ... mileage engine max_power seats\n",
              "1  Maruti  2012      87000  Diesel  ...   20.77   1248     88.76   7.0\n",
              "2     BMW  2010     102000  Diesel  ...   19.62   1995    187.74   5.0\n",
              "3    Tata  2009     212000  Diesel  ...   11.57   2179     138.1   7.0\n",
              "4  Toyota  2010     125000  Diesel  ...    11.5   2982       171   7.0\n",
              "5  Maruti  2010      25000  Petrol  ...    19.7    796      46.3   5.0\n",
              "\n",
              "[5 rows x 11 columns]"
            ]
          },
          "metadata": {
            "tags": []
          },
          "execution_count": 1730
        }
      ]
    },
    {
      "cell_type": "code",
      "metadata": {
        "id": "j-UyiTHIc1AV",
        "colab": {
          "base_uri": "https://localhost:8080/",
          "height": 204
        },
        "outputId": "354977ea-39ec-4969-e81c-286cde23fe71"
      },
      "source": [
        "# Create labels dataframe\n",
        "label = ['selling_price']\n",
        "y = df[label]\n",
        "y.head()"
      ],
      "id": "j-UyiTHIc1AV",
      "execution_count": null,
      "outputs": [
        {
          "output_type": "execute_result",
          "data": {
            "text/html": [
              "<div>\n",
              "<style scoped>\n",
              "    .dataframe tbody tr th:only-of-type {\n",
              "        vertical-align: middle;\n",
              "    }\n",
              "\n",
              "    .dataframe tbody tr th {\n",
              "        vertical-align: top;\n",
              "    }\n",
              "\n",
              "    .dataframe thead th {\n",
              "        text-align: right;\n",
              "    }\n",
              "</style>\n",
              "<table border=\"1\" class=\"dataframe\">\n",
              "  <thead>\n",
              "    <tr style=\"text-align: right;\">\n",
              "      <th></th>\n",
              "      <th>selling_price</th>\n",
              "    </tr>\n",
              "  </thead>\n",
              "  <tbody>\n",
              "    <tr>\n",
              "      <th>1</th>\n",
              "      <td>459999</td>\n",
              "    </tr>\n",
              "    <tr>\n",
              "      <th>2</th>\n",
              "      <td>1100000</td>\n",
              "    </tr>\n",
              "    <tr>\n",
              "      <th>3</th>\n",
              "      <td>229999</td>\n",
              "    </tr>\n",
              "    <tr>\n",
              "      <th>4</th>\n",
              "      <td>800000</td>\n",
              "    </tr>\n",
              "    <tr>\n",
              "      <th>5</th>\n",
              "      <td>180000</td>\n",
              "    </tr>\n",
              "  </tbody>\n",
              "</table>\n",
              "</div>"
            ],
            "text/plain": [
              "   selling_price\n",
              "1         459999\n",
              "2        1100000\n",
              "3         229999\n",
              "4         800000\n",
              "5         180000"
            ]
          },
          "metadata": {
            "tags": []
          },
          "execution_count": 1731
        }
      ]
    },
    {
      "cell_type": "code",
      "metadata": {
        "id": "G48Eiw5Ac1AW",
        "colab": {
          "base_uri": "https://localhost:8080/",
          "height": 258
        },
        "outputId": "b0a2d4c8-dc8e-4275-e833-4bee1627dad8"
      },
      "source": [
        "# Run one-hot-encoding for all categorical features\n",
        "X = pd.get_dummies(X, columns=['brand', 'fuel', 'seller_type', 'transmission', 'owner'])\n",
        "X.head()"
      ],
      "id": "G48Eiw5Ac1AW",
      "execution_count": null,
      "outputs": [
        {
          "output_type": "execute_result",
          "data": {
            "text/html": [
              "<div>\n",
              "<style scoped>\n",
              "    .dataframe tbody tr th:only-of-type {\n",
              "        vertical-align: middle;\n",
              "    }\n",
              "\n",
              "    .dataframe tbody tr th {\n",
              "        vertical-align: top;\n",
              "    }\n",
              "\n",
              "    .dataframe thead th {\n",
              "        text-align: right;\n",
              "    }\n",
              "</style>\n",
              "<table border=\"1\" class=\"dataframe\">\n",
              "  <thead>\n",
              "    <tr style=\"text-align: right;\">\n",
              "      <th></th>\n",
              "      <th>year</th>\n",
              "      <th>km_driven</th>\n",
              "      <th>mileage</th>\n",
              "      <th>engine</th>\n",
              "      <th>max_power</th>\n",
              "      <th>seats</th>\n",
              "      <th>brand_Ambassador</th>\n",
              "      <th>brand_Ashok</th>\n",
              "      <th>brand_Audi</th>\n",
              "      <th>brand_BMW</th>\n",
              "      <th>brand_Chevrolet</th>\n",
              "      <th>brand_Daewoo</th>\n",
              "      <th>brand_Datsun</th>\n",
              "      <th>brand_Fiat</th>\n",
              "      <th>brand_Force</th>\n",
              "      <th>brand_Ford</th>\n",
              "      <th>brand_Honda</th>\n",
              "      <th>brand_Hyundai</th>\n",
              "      <th>brand_Isuzu</th>\n",
              "      <th>brand_Jaguar</th>\n",
              "      <th>brand_Jeep</th>\n",
              "      <th>brand_Kia</th>\n",
              "      <th>brand_Land</th>\n",
              "      <th>brand_Lexus</th>\n",
              "      <th>brand_MG</th>\n",
              "      <th>brand_Mahindra</th>\n",
              "      <th>brand_Maruti</th>\n",
              "      <th>brand_Mercedes-Benz</th>\n",
              "      <th>brand_Mitsubishi</th>\n",
              "      <th>brand_Nissan</th>\n",
              "      <th>brand_Renault</th>\n",
              "      <th>brand_Skoda</th>\n",
              "      <th>brand_Tata</th>\n",
              "      <th>brand_Toyota</th>\n",
              "      <th>brand_Volkswagen</th>\n",
              "      <th>brand_Volvo</th>\n",
              "      <th>fuel_CNG</th>\n",
              "      <th>fuel_Diesel</th>\n",
              "      <th>fuel_LPG</th>\n",
              "      <th>fuel_Petrol</th>\n",
              "      <th>seller_type_Dealer</th>\n",
              "      <th>seller_type_Individual</th>\n",
              "      <th>seller_type_Trustmark Dealer</th>\n",
              "      <th>transmission_Automatic</th>\n",
              "      <th>transmission_Manual</th>\n",
              "      <th>owner_First Owner</th>\n",
              "      <th>owner_Fourth &amp; Above Owner</th>\n",
              "      <th>owner_Second Owner</th>\n",
              "      <th>owner_Test Drive Car</th>\n",
              "      <th>owner_Third Owner</th>\n",
              "    </tr>\n",
              "  </thead>\n",
              "  <tbody>\n",
              "    <tr>\n",
              "      <th>1</th>\n",
              "      <td>2012</td>\n",
              "      <td>87000</td>\n",
              "      <td>20.77</td>\n",
              "      <td>1248</td>\n",
              "      <td>88.76</td>\n",
              "      <td>7.0</td>\n",
              "      <td>0</td>\n",
              "      <td>0</td>\n",
              "      <td>0</td>\n",
              "      <td>0</td>\n",
              "      <td>0</td>\n",
              "      <td>0</td>\n",
              "      <td>0</td>\n",
              "      <td>0</td>\n",
              "      <td>0</td>\n",
              "      <td>0</td>\n",
              "      <td>0</td>\n",
              "      <td>0</td>\n",
              "      <td>0</td>\n",
              "      <td>0</td>\n",
              "      <td>0</td>\n",
              "      <td>0</td>\n",
              "      <td>0</td>\n",
              "      <td>0</td>\n",
              "      <td>0</td>\n",
              "      <td>0</td>\n",
              "      <td>1</td>\n",
              "      <td>0</td>\n",
              "      <td>0</td>\n",
              "      <td>0</td>\n",
              "      <td>0</td>\n",
              "      <td>0</td>\n",
              "      <td>0</td>\n",
              "      <td>0</td>\n",
              "      <td>0</td>\n",
              "      <td>0</td>\n",
              "      <td>0</td>\n",
              "      <td>1</td>\n",
              "      <td>0</td>\n",
              "      <td>0</td>\n",
              "      <td>0</td>\n",
              "      <td>1</td>\n",
              "      <td>0</td>\n",
              "      <td>0</td>\n",
              "      <td>1</td>\n",
              "      <td>1</td>\n",
              "      <td>0</td>\n",
              "      <td>0</td>\n",
              "      <td>0</td>\n",
              "      <td>0</td>\n",
              "    </tr>\n",
              "    <tr>\n",
              "      <th>2</th>\n",
              "      <td>2010</td>\n",
              "      <td>102000</td>\n",
              "      <td>19.62</td>\n",
              "      <td>1995</td>\n",
              "      <td>187.74</td>\n",
              "      <td>5.0</td>\n",
              "      <td>0</td>\n",
              "      <td>0</td>\n",
              "      <td>0</td>\n",
              "      <td>1</td>\n",
              "      <td>0</td>\n",
              "      <td>0</td>\n",
              "      <td>0</td>\n",
              "      <td>0</td>\n",
              "      <td>0</td>\n",
              "      <td>0</td>\n",
              "      <td>0</td>\n",
              "      <td>0</td>\n",
              "      <td>0</td>\n",
              "      <td>0</td>\n",
              "      <td>0</td>\n",
              "      <td>0</td>\n",
              "      <td>0</td>\n",
              "      <td>0</td>\n",
              "      <td>0</td>\n",
              "      <td>0</td>\n",
              "      <td>0</td>\n",
              "      <td>0</td>\n",
              "      <td>0</td>\n",
              "      <td>0</td>\n",
              "      <td>0</td>\n",
              "      <td>0</td>\n",
              "      <td>0</td>\n",
              "      <td>0</td>\n",
              "      <td>0</td>\n",
              "      <td>0</td>\n",
              "      <td>0</td>\n",
              "      <td>1</td>\n",
              "      <td>0</td>\n",
              "      <td>0</td>\n",
              "      <td>1</td>\n",
              "      <td>0</td>\n",
              "      <td>0</td>\n",
              "      <td>1</td>\n",
              "      <td>0</td>\n",
              "      <td>1</td>\n",
              "      <td>0</td>\n",
              "      <td>0</td>\n",
              "      <td>0</td>\n",
              "      <td>0</td>\n",
              "    </tr>\n",
              "    <tr>\n",
              "      <th>3</th>\n",
              "      <td>2009</td>\n",
              "      <td>212000</td>\n",
              "      <td>11.57</td>\n",
              "      <td>2179</td>\n",
              "      <td>138.1</td>\n",
              "      <td>7.0</td>\n",
              "      <td>0</td>\n",
              "      <td>0</td>\n",
              "      <td>0</td>\n",
              "      <td>0</td>\n",
              "      <td>0</td>\n",
              "      <td>0</td>\n",
              "      <td>0</td>\n",
              "      <td>0</td>\n",
              "      <td>0</td>\n",
              "      <td>0</td>\n",
              "      <td>0</td>\n",
              "      <td>0</td>\n",
              "      <td>0</td>\n",
              "      <td>0</td>\n",
              "      <td>0</td>\n",
              "      <td>0</td>\n",
              "      <td>0</td>\n",
              "      <td>0</td>\n",
              "      <td>0</td>\n",
              "      <td>0</td>\n",
              "      <td>0</td>\n",
              "      <td>0</td>\n",
              "      <td>0</td>\n",
              "      <td>0</td>\n",
              "      <td>0</td>\n",
              "      <td>0</td>\n",
              "      <td>1</td>\n",
              "      <td>0</td>\n",
              "      <td>0</td>\n",
              "      <td>0</td>\n",
              "      <td>0</td>\n",
              "      <td>1</td>\n",
              "      <td>0</td>\n",
              "      <td>0</td>\n",
              "      <td>0</td>\n",
              "      <td>1</td>\n",
              "      <td>0</td>\n",
              "      <td>0</td>\n",
              "      <td>1</td>\n",
              "      <td>0</td>\n",
              "      <td>0</td>\n",
              "      <td>0</td>\n",
              "      <td>0</td>\n",
              "      <td>1</td>\n",
              "    </tr>\n",
              "    <tr>\n",
              "      <th>4</th>\n",
              "      <td>2010</td>\n",
              "      <td>125000</td>\n",
              "      <td>11.5</td>\n",
              "      <td>2982</td>\n",
              "      <td>171</td>\n",
              "      <td>7.0</td>\n",
              "      <td>0</td>\n",
              "      <td>0</td>\n",
              "      <td>0</td>\n",
              "      <td>0</td>\n",
              "      <td>0</td>\n",
              "      <td>0</td>\n",
              "      <td>0</td>\n",
              "      <td>0</td>\n",
              "      <td>0</td>\n",
              "      <td>0</td>\n",
              "      <td>0</td>\n",
              "      <td>0</td>\n",
              "      <td>0</td>\n",
              "      <td>0</td>\n",
              "      <td>0</td>\n",
              "      <td>0</td>\n",
              "      <td>0</td>\n",
              "      <td>0</td>\n",
              "      <td>0</td>\n",
              "      <td>0</td>\n",
              "      <td>0</td>\n",
              "      <td>0</td>\n",
              "      <td>0</td>\n",
              "      <td>0</td>\n",
              "      <td>0</td>\n",
              "      <td>0</td>\n",
              "      <td>0</td>\n",
              "      <td>1</td>\n",
              "      <td>0</td>\n",
              "      <td>0</td>\n",
              "      <td>0</td>\n",
              "      <td>1</td>\n",
              "      <td>0</td>\n",
              "      <td>0</td>\n",
              "      <td>0</td>\n",
              "      <td>1</td>\n",
              "      <td>0</td>\n",
              "      <td>0</td>\n",
              "      <td>1</td>\n",
              "      <td>0</td>\n",
              "      <td>0</td>\n",
              "      <td>1</td>\n",
              "      <td>0</td>\n",
              "      <td>0</td>\n",
              "    </tr>\n",
              "    <tr>\n",
              "      <th>5</th>\n",
              "      <td>2010</td>\n",
              "      <td>25000</td>\n",
              "      <td>19.7</td>\n",
              "      <td>796</td>\n",
              "      <td>46.3</td>\n",
              "      <td>5.0</td>\n",
              "      <td>0</td>\n",
              "      <td>0</td>\n",
              "      <td>0</td>\n",
              "      <td>0</td>\n",
              "      <td>0</td>\n",
              "      <td>0</td>\n",
              "      <td>0</td>\n",
              "      <td>0</td>\n",
              "      <td>0</td>\n",
              "      <td>0</td>\n",
              "      <td>0</td>\n",
              "      <td>0</td>\n",
              "      <td>0</td>\n",
              "      <td>0</td>\n",
              "      <td>0</td>\n",
              "      <td>0</td>\n",
              "      <td>0</td>\n",
              "      <td>0</td>\n",
              "      <td>0</td>\n",
              "      <td>0</td>\n",
              "      <td>1</td>\n",
              "      <td>0</td>\n",
              "      <td>0</td>\n",
              "      <td>0</td>\n",
              "      <td>0</td>\n",
              "      <td>0</td>\n",
              "      <td>0</td>\n",
              "      <td>0</td>\n",
              "      <td>0</td>\n",
              "      <td>0</td>\n",
              "      <td>0</td>\n",
              "      <td>0</td>\n",
              "      <td>0</td>\n",
              "      <td>1</td>\n",
              "      <td>0</td>\n",
              "      <td>1</td>\n",
              "      <td>0</td>\n",
              "      <td>0</td>\n",
              "      <td>1</td>\n",
              "      <td>0</td>\n",
              "      <td>0</td>\n",
              "      <td>1</td>\n",
              "      <td>0</td>\n",
              "      <td>0</td>\n",
              "    </tr>\n",
              "  </tbody>\n",
              "</table>\n",
              "</div>"
            ],
            "text/plain": [
              "   year  km_driven  ... owner_Test Drive Car owner_Third Owner\n",
              "1  2012      87000  ...                    0                 0\n",
              "2  2010     102000  ...                    0                 0\n",
              "3  2009     212000  ...                    0                 1\n",
              "4  2010     125000  ...                    0                 0\n",
              "5  2010      25000  ...                    0                 0\n",
              "\n",
              "[5 rows x 50 columns]"
            ]
          },
          "metadata": {
            "tags": []
          },
          "execution_count": 1732
        }
      ]
    },
    {
      "cell_type": "code",
      "metadata": {
        "id": "DPWrrfcpc1AW"
      },
      "source": [
        "# Scaling\n",
        "scaler = StandardScaler()\n",
        "X = scaler.fit_transform(X)"
      ],
      "id": "DPWrrfcpc1AW",
      "execution_count": null,
      "outputs": []
    },
    {
      "cell_type": "code",
      "metadata": {
        "id": "W9Qxcmfqc1AX"
      },
      "source": [
        "# Splitting\n",
        "test_size = 0.10\n",
        "X_train, X_test, y_train, y_test = train_test_split(X, y, test_size = test_size, random_state = 0)"
      ],
      "id": "W9Qxcmfqc1AX",
      "execution_count": null,
      "outputs": []
    },
    {
      "cell_type": "code",
      "metadata": {
        "id": "-Jv0TdOLc1AX",
        "colab": {
          "base_uri": "https://localhost:8080/",
          "height": 297
        },
        "outputId": "4abe3a39-dc75-4df7-8639-0ac85d0bc904"
      },
      "source": [
        "y_train.describe()"
      ],
      "id": "-Jv0TdOLc1AX",
      "execution_count": null,
      "outputs": [
        {
          "output_type": "execute_result",
          "data": {
            "text/html": [
              "<div>\n",
              "<style scoped>\n",
              "    .dataframe tbody tr th:only-of-type {\n",
              "        vertical-align: middle;\n",
              "    }\n",
              "\n",
              "    .dataframe tbody tr th {\n",
              "        vertical-align: top;\n",
              "    }\n",
              "\n",
              "    .dataframe thead th {\n",
              "        text-align: right;\n",
              "    }\n",
              "</style>\n",
              "<table border=\"1\" class=\"dataframe\">\n",
              "  <thead>\n",
              "    <tr style=\"text-align: right;\">\n",
              "      <th></th>\n",
              "      <th>selling_price</th>\n",
              "    </tr>\n",
              "  </thead>\n",
              "  <tbody>\n",
              "    <tr>\n",
              "      <th>count</th>\n",
              "      <td>4.344000e+03</td>\n",
              "    </tr>\n",
              "    <tr>\n",
              "      <th>mean</th>\n",
              "      <td>5.286893e+05</td>\n",
              "    </tr>\n",
              "    <tr>\n",
              "      <th>std</th>\n",
              "      <td>5.122169e+05</td>\n",
              "    </tr>\n",
              "    <tr>\n",
              "      <th>min</th>\n",
              "      <td>2.999900e+04</td>\n",
              "    </tr>\n",
              "    <tr>\n",
              "      <th>25%</th>\n",
              "      <td>2.500000e+05</td>\n",
              "    </tr>\n",
              "    <tr>\n",
              "      <th>50%</th>\n",
              "      <td>4.200000e+05</td>\n",
              "    </tr>\n",
              "    <tr>\n",
              "      <th>75%</th>\n",
              "      <td>6.490000e+05</td>\n",
              "    </tr>\n",
              "    <tr>\n",
              "      <th>max</th>\n",
              "      <td>7.200000e+06</td>\n",
              "    </tr>\n",
              "  </tbody>\n",
              "</table>\n",
              "</div>"
            ],
            "text/plain": [
              "       selling_price\n",
              "count   4.344000e+03\n",
              "mean    5.286893e+05\n",
              "std     5.122169e+05\n",
              "min     2.999900e+04\n",
              "25%     2.500000e+05\n",
              "50%     4.200000e+05\n",
              "75%     6.490000e+05\n",
              "max     7.200000e+06"
            ]
          },
          "metadata": {
            "tags": []
          },
          "execution_count": 1735
        }
      ]
    },
    {
      "cell_type": "code",
      "metadata": {
        "id": "BHQq7KKFc1AX",
        "colab": {
          "base_uri": "https://localhost:8080/",
          "height": 297
        },
        "outputId": "31abac49-594a-4616-d9ed-612cfe372b09"
      },
      "source": [
        "y_test.describe()"
      ],
      "id": "BHQq7KKFc1AX",
      "execution_count": null,
      "outputs": [
        {
          "output_type": "execute_result",
          "data": {
            "text/html": [
              "<div>\n",
              "<style scoped>\n",
              "    .dataframe tbody tr th:only-of-type {\n",
              "        vertical-align: middle;\n",
              "    }\n",
              "\n",
              "    .dataframe tbody tr th {\n",
              "        vertical-align: top;\n",
              "    }\n",
              "\n",
              "    .dataframe thead th {\n",
              "        text-align: right;\n",
              "    }\n",
              "</style>\n",
              "<table border=\"1\" class=\"dataframe\">\n",
              "  <thead>\n",
              "    <tr style=\"text-align: right;\">\n",
              "      <th></th>\n",
              "      <th>selling_price</th>\n",
              "    </tr>\n",
              "  </thead>\n",
              "  <tbody>\n",
              "    <tr>\n",
              "      <th>count</th>\n",
              "      <td>4.830000e+02</td>\n",
              "    </tr>\n",
              "    <tr>\n",
              "      <th>mean</th>\n",
              "      <td>5.105248e+05</td>\n",
              "    </tr>\n",
              "    <tr>\n",
              "      <th>std</th>\n",
              "      <td>4.668180e+05</td>\n",
              "    </tr>\n",
              "    <tr>\n",
              "      <th>min</th>\n",
              "      <td>4.500000e+04</td>\n",
              "    </tr>\n",
              "    <tr>\n",
              "      <th>25%</th>\n",
              "      <td>2.574995e+05</td>\n",
              "    </tr>\n",
              "    <tr>\n",
              "      <th>50%</th>\n",
              "      <td>4.200000e+05</td>\n",
              "    </tr>\n",
              "    <tr>\n",
              "      <th>75%</th>\n",
              "      <td>6.500000e+05</td>\n",
              "    </tr>\n",
              "    <tr>\n",
              "      <th>max</th>\n",
              "      <td>6.000000e+06</td>\n",
              "    </tr>\n",
              "  </tbody>\n",
              "</table>\n",
              "</div>"
            ],
            "text/plain": [
              "       selling_price\n",
              "count   4.830000e+02\n",
              "mean    5.105248e+05\n",
              "std     4.668180e+05\n",
              "min     4.500000e+04\n",
              "25%     2.574995e+05\n",
              "50%     4.200000e+05\n",
              "75%     6.500000e+05\n",
              "max     6.000000e+06"
            ]
          },
          "metadata": {
            "tags": []
          },
          "execution_count": 1736
        }
      ]
    },
    {
      "cell_type": "code",
      "metadata": {
        "id": "wvgIbVp2c1AY"
      },
      "source": [
        "# Create the model\n",
        "model2 = cb.CatBoostRegressor(logging_level='Silent')"
      ],
      "id": "wvgIbVp2c1AY",
      "execution_count": null,
      "outputs": []
    },
    {
      "cell_type": "code",
      "metadata": {
        "id": "yzCGmDURc1AY"
      },
      "source": [
        "# Train the model\n",
        "model2.fit(X_train,y_train)\n",
        "pred2 = model2.predict(X_test)"
      ],
      "id": "yzCGmDURc1AY",
      "execution_count": null,
      "outputs": []
    },
    {
      "cell_type": "code",
      "metadata": {
        "id": "_6ZVI_AVc1AY",
        "colab": {
          "base_uri": "https://localhost:8080/"
        },
        "outputId": "dc843b20-4791-45db-cd64-af81ee5696b6"
      },
      "source": [
        "# Show the model score for the test data\n",
        "r22 = r2_score(y_test, pred2)\n",
        "print('R2: {:.5f}'.format(r22))"
      ],
      "id": "_6ZVI_AVc1AY",
      "execution_count": null,
      "outputs": [
        {
          "output_type": "stream",
          "text": [
            "R2: 0.94824\n"
          ],
          "name": "stdout"
        }
      ]
    },
    {
      "cell_type": "markdown",
      "metadata": {
        "id": "FEtpabHSagt1"
      },
      "source": [
        "### Experimento 3\n",
        "* Objetivo: Verificar a performance do modelo, usando como parâmetros One-Hot-Encoding + TargetEncoding, StandardScaler e CatboostRegressor.\n",
        "* Encoder: One-Hot-Encoding + TargetEndcoding\n",
        "* Scaler: StandardScaler\n",
        "* Algoritm: CatBoostRegressor"
      ],
      "id": "FEtpabHSagt1"
    },
    {
      "cell_type": "code",
      "metadata": {
        "id": "Womx6vIvaguE",
        "colab": {
          "base_uri": "https://localhost:8080/",
          "height": 204
        },
        "outputId": "2dbf8a25-d55c-4a79-84cb-65f0d91bb46f"
      },
      "source": [
        "# Create features dataframe\n",
        "features = ['brand', 'year', 'km_driven', 'fuel', 'seller_type', 'transmission', 'owner', 'mileage', 'engine', 'max_power', 'seats']\n",
        "X = df[features]\n",
        "X.head()"
      ],
      "id": "Womx6vIvaguE",
      "execution_count": null,
      "outputs": [
        {
          "output_type": "execute_result",
          "data": {
            "text/html": [
              "<div>\n",
              "<style scoped>\n",
              "    .dataframe tbody tr th:only-of-type {\n",
              "        vertical-align: middle;\n",
              "    }\n",
              "\n",
              "    .dataframe tbody tr th {\n",
              "        vertical-align: top;\n",
              "    }\n",
              "\n",
              "    .dataframe thead th {\n",
              "        text-align: right;\n",
              "    }\n",
              "</style>\n",
              "<table border=\"1\" class=\"dataframe\">\n",
              "  <thead>\n",
              "    <tr style=\"text-align: right;\">\n",
              "      <th></th>\n",
              "      <th>brand</th>\n",
              "      <th>year</th>\n",
              "      <th>km_driven</th>\n",
              "      <th>fuel</th>\n",
              "      <th>seller_type</th>\n",
              "      <th>transmission</th>\n",
              "      <th>owner</th>\n",
              "      <th>mileage</th>\n",
              "      <th>engine</th>\n",
              "      <th>max_power</th>\n",
              "      <th>seats</th>\n",
              "    </tr>\n",
              "  </thead>\n",
              "  <tbody>\n",
              "    <tr>\n",
              "      <th>1</th>\n",
              "      <td>Maruti</td>\n",
              "      <td>2012</td>\n",
              "      <td>87000</td>\n",
              "      <td>Diesel</td>\n",
              "      <td>Individual</td>\n",
              "      <td>Manual</td>\n",
              "      <td>First Owner</td>\n",
              "      <td>20.77</td>\n",
              "      <td>1248</td>\n",
              "      <td>88.76</td>\n",
              "      <td>7.0</td>\n",
              "    </tr>\n",
              "    <tr>\n",
              "      <th>2</th>\n",
              "      <td>BMW</td>\n",
              "      <td>2010</td>\n",
              "      <td>102000</td>\n",
              "      <td>Diesel</td>\n",
              "      <td>Dealer</td>\n",
              "      <td>Automatic</td>\n",
              "      <td>First Owner</td>\n",
              "      <td>19.62</td>\n",
              "      <td>1995</td>\n",
              "      <td>187.74</td>\n",
              "      <td>5.0</td>\n",
              "    </tr>\n",
              "    <tr>\n",
              "      <th>3</th>\n",
              "      <td>Tata</td>\n",
              "      <td>2009</td>\n",
              "      <td>212000</td>\n",
              "      <td>Diesel</td>\n",
              "      <td>Individual</td>\n",
              "      <td>Manual</td>\n",
              "      <td>Third Owner</td>\n",
              "      <td>11.57</td>\n",
              "      <td>2179</td>\n",
              "      <td>138.1</td>\n",
              "      <td>7.0</td>\n",
              "    </tr>\n",
              "    <tr>\n",
              "      <th>4</th>\n",
              "      <td>Toyota</td>\n",
              "      <td>2010</td>\n",
              "      <td>125000</td>\n",
              "      <td>Diesel</td>\n",
              "      <td>Individual</td>\n",
              "      <td>Manual</td>\n",
              "      <td>Second Owner</td>\n",
              "      <td>11.5</td>\n",
              "      <td>2982</td>\n",
              "      <td>171</td>\n",
              "      <td>7.0</td>\n",
              "    </tr>\n",
              "    <tr>\n",
              "      <th>5</th>\n",
              "      <td>Maruti</td>\n",
              "      <td>2010</td>\n",
              "      <td>25000</td>\n",
              "      <td>Petrol</td>\n",
              "      <td>Individual</td>\n",
              "      <td>Manual</td>\n",
              "      <td>Second Owner</td>\n",
              "      <td>19.7</td>\n",
              "      <td>796</td>\n",
              "      <td>46.3</td>\n",
              "      <td>5.0</td>\n",
              "    </tr>\n",
              "  </tbody>\n",
              "</table>\n",
              "</div>"
            ],
            "text/plain": [
              "    brand  year  km_driven    fuel  ... mileage engine max_power seats\n",
              "1  Maruti  2012      87000  Diesel  ...   20.77   1248     88.76   7.0\n",
              "2     BMW  2010     102000  Diesel  ...   19.62   1995    187.74   5.0\n",
              "3    Tata  2009     212000  Diesel  ...   11.57   2179     138.1   7.0\n",
              "4  Toyota  2010     125000  Diesel  ...    11.5   2982       171   7.0\n",
              "5  Maruti  2010      25000  Petrol  ...    19.7    796      46.3   5.0\n",
              "\n",
              "[5 rows x 11 columns]"
            ]
          },
          "metadata": {
            "tags": []
          },
          "execution_count": 1740
        }
      ]
    },
    {
      "cell_type": "code",
      "metadata": {
        "id": "u5aho8sLaguG",
        "colab": {
          "base_uri": "https://localhost:8080/",
          "height": 204
        },
        "outputId": "df1a1b73-f71e-4e07-ecf8-fcfc9de1f8d2"
      },
      "source": [
        "# Create labels dataframe\n",
        "label = ['selling_price']\n",
        "y = df[label]\n",
        "y.head()"
      ],
      "id": "u5aho8sLaguG",
      "execution_count": null,
      "outputs": [
        {
          "output_type": "execute_result",
          "data": {
            "text/html": [
              "<div>\n",
              "<style scoped>\n",
              "    .dataframe tbody tr th:only-of-type {\n",
              "        vertical-align: middle;\n",
              "    }\n",
              "\n",
              "    .dataframe tbody tr th {\n",
              "        vertical-align: top;\n",
              "    }\n",
              "\n",
              "    .dataframe thead th {\n",
              "        text-align: right;\n",
              "    }\n",
              "</style>\n",
              "<table border=\"1\" class=\"dataframe\">\n",
              "  <thead>\n",
              "    <tr style=\"text-align: right;\">\n",
              "      <th></th>\n",
              "      <th>selling_price</th>\n",
              "    </tr>\n",
              "  </thead>\n",
              "  <tbody>\n",
              "    <tr>\n",
              "      <th>1</th>\n",
              "      <td>459999</td>\n",
              "    </tr>\n",
              "    <tr>\n",
              "      <th>2</th>\n",
              "      <td>1100000</td>\n",
              "    </tr>\n",
              "    <tr>\n",
              "      <th>3</th>\n",
              "      <td>229999</td>\n",
              "    </tr>\n",
              "    <tr>\n",
              "      <th>4</th>\n",
              "      <td>800000</td>\n",
              "    </tr>\n",
              "    <tr>\n",
              "      <th>5</th>\n",
              "      <td>180000</td>\n",
              "    </tr>\n",
              "  </tbody>\n",
              "</table>\n",
              "</div>"
            ],
            "text/plain": [
              "   selling_price\n",
              "1         459999\n",
              "2        1100000\n",
              "3         229999\n",
              "4         800000\n",
              "5         180000"
            ]
          },
          "metadata": {
            "tags": []
          },
          "execution_count": 1741
        }
      ]
    },
    {
      "cell_type": "code",
      "metadata": {
        "id": "Y9KA6VRgaguH",
        "colab": {
          "base_uri": "https://localhost:8080/",
          "height": 258
        },
        "outputId": "fbbc0e54-16b5-4504-c04e-730366cacbb5"
      },
      "source": [
        "# Run one-hot-encoding for all categorical features minus brand\n",
        "X = pd.get_dummies(X, columns=['fuel', 'seller_type', 'transmission', 'owner'])\n",
        "\n",
        "# Run target encoding for brand feature\n",
        "from category_encoders import TargetEncoder\n",
        "encoder = TargetEncoder()\n",
        "X['brand'] = encoder.fit_transform(X['brand'], y)\n",
        "\n",
        "X.head()"
      ],
      "id": "Y9KA6VRgaguH",
      "execution_count": null,
      "outputs": [
        {
          "output_type": "execute_result",
          "data": {
            "text/html": [
              "<div>\n",
              "<style scoped>\n",
              "    .dataframe tbody tr th:only-of-type {\n",
              "        vertical-align: middle;\n",
              "    }\n",
              "\n",
              "    .dataframe tbody tr th {\n",
              "        vertical-align: top;\n",
              "    }\n",
              "\n",
              "    .dataframe thead th {\n",
              "        text-align: right;\n",
              "    }\n",
              "</style>\n",
              "<table border=\"1\" class=\"dataframe\">\n",
              "  <thead>\n",
              "    <tr style=\"text-align: right;\">\n",
              "      <th></th>\n",
              "      <th>brand</th>\n",
              "      <th>year</th>\n",
              "      <th>km_driven</th>\n",
              "      <th>mileage</th>\n",
              "      <th>engine</th>\n",
              "      <th>max_power</th>\n",
              "      <th>seats</th>\n",
              "      <th>fuel_CNG</th>\n",
              "      <th>fuel_Diesel</th>\n",
              "      <th>fuel_LPG</th>\n",
              "      <th>fuel_Petrol</th>\n",
              "      <th>seller_type_Dealer</th>\n",
              "      <th>seller_type_Individual</th>\n",
              "      <th>seller_type_Trustmark Dealer</th>\n",
              "      <th>transmission_Automatic</th>\n",
              "      <th>transmission_Manual</th>\n",
              "      <th>owner_First Owner</th>\n",
              "      <th>owner_Fourth &amp; Above Owner</th>\n",
              "      <th>owner_Second Owner</th>\n",
              "      <th>owner_Test Drive Car</th>\n",
              "      <th>owner_Third Owner</th>\n",
              "    </tr>\n",
              "  </thead>\n",
              "  <tbody>\n",
              "    <tr>\n",
              "      <th>1</th>\n",
              "      <td>3.916008e+05</td>\n",
              "      <td>2012</td>\n",
              "      <td>87000</td>\n",
              "      <td>20.77</td>\n",
              "      <td>1248</td>\n",
              "      <td>88.76</td>\n",
              "      <td>7.0</td>\n",
              "      <td>0</td>\n",
              "      <td>1</td>\n",
              "      <td>0</td>\n",
              "      <td>0</td>\n",
              "      <td>0</td>\n",
              "      <td>1</td>\n",
              "      <td>0</td>\n",
              "      <td>0</td>\n",
              "      <td>1</td>\n",
              "      <td>1</td>\n",
              "      <td>0</td>\n",
              "      <td>0</td>\n",
              "      <td>0</td>\n",
              "      <td>0</td>\n",
              "    </tr>\n",
              "    <tr>\n",
              "      <th>2</th>\n",
              "      <td>2.970455e+06</td>\n",
              "      <td>2010</td>\n",
              "      <td>102000</td>\n",
              "      <td>19.62</td>\n",
              "      <td>1995</td>\n",
              "      <td>187.74</td>\n",
              "      <td>5.0</td>\n",
              "      <td>0</td>\n",
              "      <td>1</td>\n",
              "      <td>0</td>\n",
              "      <td>0</td>\n",
              "      <td>1</td>\n",
              "      <td>0</td>\n",
              "      <td>0</td>\n",
              "      <td>1</td>\n",
              "      <td>0</td>\n",
              "      <td>1</td>\n",
              "      <td>0</td>\n",
              "      <td>0</td>\n",
              "      <td>0</td>\n",
              "      <td>0</td>\n",
              "    </tr>\n",
              "    <tr>\n",
              "      <th>3</th>\n",
              "      <td>3.488978e+05</td>\n",
              "      <td>2009</td>\n",
              "      <td>212000</td>\n",
              "      <td>11.57</td>\n",
              "      <td>2179</td>\n",
              "      <td>138.1</td>\n",
              "      <td>7.0</td>\n",
              "      <td>0</td>\n",
              "      <td>1</td>\n",
              "      <td>0</td>\n",
              "      <td>0</td>\n",
              "      <td>0</td>\n",
              "      <td>1</td>\n",
              "      <td>0</td>\n",
              "      <td>0</td>\n",
              "      <td>1</td>\n",
              "      <td>0</td>\n",
              "      <td>0</td>\n",
              "      <td>0</td>\n",
              "      <td>0</td>\n",
              "      <td>1</td>\n",
              "    </tr>\n",
              "    <tr>\n",
              "      <th>4</th>\n",
              "      <td>9.530330e+05</td>\n",
              "      <td>2010</td>\n",
              "      <td>125000</td>\n",
              "      <td>11.5</td>\n",
              "      <td>2982</td>\n",
              "      <td>171</td>\n",
              "      <td>7.0</td>\n",
              "      <td>0</td>\n",
              "      <td>1</td>\n",
              "      <td>0</td>\n",
              "      <td>0</td>\n",
              "      <td>0</td>\n",
              "      <td>1</td>\n",
              "      <td>0</td>\n",
              "      <td>0</td>\n",
              "      <td>1</td>\n",
              "      <td>0</td>\n",
              "      <td>0</td>\n",
              "      <td>1</td>\n",
              "      <td>0</td>\n",
              "      <td>0</td>\n",
              "    </tr>\n",
              "    <tr>\n",
              "      <th>5</th>\n",
              "      <td>3.916008e+05</td>\n",
              "      <td>2010</td>\n",
              "      <td>25000</td>\n",
              "      <td>19.7</td>\n",
              "      <td>796</td>\n",
              "      <td>46.3</td>\n",
              "      <td>5.0</td>\n",
              "      <td>0</td>\n",
              "      <td>0</td>\n",
              "      <td>0</td>\n",
              "      <td>1</td>\n",
              "      <td>0</td>\n",
              "      <td>1</td>\n",
              "      <td>0</td>\n",
              "      <td>0</td>\n",
              "      <td>1</td>\n",
              "      <td>0</td>\n",
              "      <td>0</td>\n",
              "      <td>1</td>\n",
              "      <td>0</td>\n",
              "      <td>0</td>\n",
              "    </tr>\n",
              "  </tbody>\n",
              "</table>\n",
              "</div>"
            ],
            "text/plain": [
              "          brand  year  ...  owner_Test Drive Car owner_Third Owner\n",
              "1  3.916008e+05  2012  ...                     0                 0\n",
              "2  2.970455e+06  2010  ...                     0                 0\n",
              "3  3.488978e+05  2009  ...                     0                 1\n",
              "4  9.530330e+05  2010  ...                     0                 0\n",
              "5  3.916008e+05  2010  ...                     0                 0\n",
              "\n",
              "[5 rows x 21 columns]"
            ]
          },
          "metadata": {
            "tags": []
          },
          "execution_count": 1742
        }
      ]
    },
    {
      "cell_type": "code",
      "metadata": {
        "id": "CuCuHsSEaguH"
      },
      "source": [
        "# Scaling\n",
        "scaler = StandardScaler()\n",
        "X = scaler.fit_transform(X)"
      ],
      "id": "CuCuHsSEaguH",
      "execution_count": null,
      "outputs": []
    },
    {
      "cell_type": "code",
      "metadata": {
        "id": "Q-JUMxrRaguI"
      },
      "source": [
        "# Splitting\n",
        "test_size = 0.10\n",
        "X_train, X_test, y_train, y_test = train_test_split(X, y, test_size = test_size, random_state = 0)"
      ],
      "id": "Q-JUMxrRaguI",
      "execution_count": null,
      "outputs": []
    },
    {
      "cell_type": "code",
      "metadata": {
        "id": "Xeb9f8vHaguI",
        "colab": {
          "base_uri": "https://localhost:8080/",
          "height": 297
        },
        "outputId": "117ddcaf-aeeb-440f-887a-36beebaef7c9"
      },
      "source": [
        "y_train.describe()"
      ],
      "id": "Xeb9f8vHaguI",
      "execution_count": null,
      "outputs": [
        {
          "output_type": "execute_result",
          "data": {
            "text/html": [
              "<div>\n",
              "<style scoped>\n",
              "    .dataframe tbody tr th:only-of-type {\n",
              "        vertical-align: middle;\n",
              "    }\n",
              "\n",
              "    .dataframe tbody tr th {\n",
              "        vertical-align: top;\n",
              "    }\n",
              "\n",
              "    .dataframe thead th {\n",
              "        text-align: right;\n",
              "    }\n",
              "</style>\n",
              "<table border=\"1\" class=\"dataframe\">\n",
              "  <thead>\n",
              "    <tr style=\"text-align: right;\">\n",
              "      <th></th>\n",
              "      <th>selling_price</th>\n",
              "    </tr>\n",
              "  </thead>\n",
              "  <tbody>\n",
              "    <tr>\n",
              "      <th>count</th>\n",
              "      <td>4.344000e+03</td>\n",
              "    </tr>\n",
              "    <tr>\n",
              "      <th>mean</th>\n",
              "      <td>5.286893e+05</td>\n",
              "    </tr>\n",
              "    <tr>\n",
              "      <th>std</th>\n",
              "      <td>5.122169e+05</td>\n",
              "    </tr>\n",
              "    <tr>\n",
              "      <th>min</th>\n",
              "      <td>2.999900e+04</td>\n",
              "    </tr>\n",
              "    <tr>\n",
              "      <th>25%</th>\n",
              "      <td>2.500000e+05</td>\n",
              "    </tr>\n",
              "    <tr>\n",
              "      <th>50%</th>\n",
              "      <td>4.200000e+05</td>\n",
              "    </tr>\n",
              "    <tr>\n",
              "      <th>75%</th>\n",
              "      <td>6.490000e+05</td>\n",
              "    </tr>\n",
              "    <tr>\n",
              "      <th>max</th>\n",
              "      <td>7.200000e+06</td>\n",
              "    </tr>\n",
              "  </tbody>\n",
              "</table>\n",
              "</div>"
            ],
            "text/plain": [
              "       selling_price\n",
              "count   4.344000e+03\n",
              "mean    5.286893e+05\n",
              "std     5.122169e+05\n",
              "min     2.999900e+04\n",
              "25%     2.500000e+05\n",
              "50%     4.200000e+05\n",
              "75%     6.490000e+05\n",
              "max     7.200000e+06"
            ]
          },
          "metadata": {
            "tags": []
          },
          "execution_count": 1745
        }
      ]
    },
    {
      "cell_type": "code",
      "metadata": {
        "id": "BW-z2L6SaguJ",
        "colab": {
          "base_uri": "https://localhost:8080/",
          "height": 297
        },
        "outputId": "e2691a3b-a9d6-4116-c52b-dc5c5b7f8c32"
      },
      "source": [
        "y_test.describe()"
      ],
      "id": "BW-z2L6SaguJ",
      "execution_count": null,
      "outputs": [
        {
          "output_type": "execute_result",
          "data": {
            "text/html": [
              "<div>\n",
              "<style scoped>\n",
              "    .dataframe tbody tr th:only-of-type {\n",
              "        vertical-align: middle;\n",
              "    }\n",
              "\n",
              "    .dataframe tbody tr th {\n",
              "        vertical-align: top;\n",
              "    }\n",
              "\n",
              "    .dataframe thead th {\n",
              "        text-align: right;\n",
              "    }\n",
              "</style>\n",
              "<table border=\"1\" class=\"dataframe\">\n",
              "  <thead>\n",
              "    <tr style=\"text-align: right;\">\n",
              "      <th></th>\n",
              "      <th>selling_price</th>\n",
              "    </tr>\n",
              "  </thead>\n",
              "  <tbody>\n",
              "    <tr>\n",
              "      <th>count</th>\n",
              "      <td>4.830000e+02</td>\n",
              "    </tr>\n",
              "    <tr>\n",
              "      <th>mean</th>\n",
              "      <td>5.105248e+05</td>\n",
              "    </tr>\n",
              "    <tr>\n",
              "      <th>std</th>\n",
              "      <td>4.668180e+05</td>\n",
              "    </tr>\n",
              "    <tr>\n",
              "      <th>min</th>\n",
              "      <td>4.500000e+04</td>\n",
              "    </tr>\n",
              "    <tr>\n",
              "      <th>25%</th>\n",
              "      <td>2.574995e+05</td>\n",
              "    </tr>\n",
              "    <tr>\n",
              "      <th>50%</th>\n",
              "      <td>4.200000e+05</td>\n",
              "    </tr>\n",
              "    <tr>\n",
              "      <th>75%</th>\n",
              "      <td>6.500000e+05</td>\n",
              "    </tr>\n",
              "    <tr>\n",
              "      <th>max</th>\n",
              "      <td>6.000000e+06</td>\n",
              "    </tr>\n",
              "  </tbody>\n",
              "</table>\n",
              "</div>"
            ],
            "text/plain": [
              "       selling_price\n",
              "count   4.830000e+02\n",
              "mean    5.105248e+05\n",
              "std     4.668180e+05\n",
              "min     4.500000e+04\n",
              "25%     2.574995e+05\n",
              "50%     4.200000e+05\n",
              "75%     6.500000e+05\n",
              "max     6.000000e+06"
            ]
          },
          "metadata": {
            "tags": []
          },
          "execution_count": 1746
        }
      ]
    },
    {
      "cell_type": "code",
      "metadata": {
        "id": "tk6n75gkaguJ"
      },
      "source": [
        "# Create the model\n",
        "model3 = cb.CatBoostRegressor(logging_level='Silent')"
      ],
      "id": "tk6n75gkaguJ",
      "execution_count": null,
      "outputs": []
    },
    {
      "cell_type": "code",
      "metadata": {
        "id": "ARlY0RkEaguJ"
      },
      "source": [
        "# Train the model\n",
        "model3.fit(X_train,y_train)\n",
        "pred3 = model3.predict(X_test)"
      ],
      "id": "ARlY0RkEaguJ",
      "execution_count": null,
      "outputs": []
    },
    {
      "cell_type": "code",
      "metadata": {
        "id": "9CYrd6c1aguK",
        "colab": {
          "base_uri": "https://localhost:8080/"
        },
        "outputId": "c9ba81b3-8ec9-44a0-d8ba-c5831d3985a8"
      },
      "source": [
        "# Show the model score for the test data\n",
        "r23 = r2_score(y_test, pred3)\n",
        "print('R2: {:.5f}'.format(r23))"
      ],
      "id": "9CYrd6c1aguK",
      "execution_count": null,
      "outputs": [
        {
          "output_type": "stream",
          "text": [
            "R2: 0.94563\n"
          ],
          "name": "stdout"
        }
      ]
    },
    {
      "cell_type": "markdown",
      "metadata": {
        "id": "mnSrNx1pp_9B"
      },
      "source": [
        "### Experimento 4\n",
        "* Objetivo: Verificar a performance dos 3 modelos obtidos nos experimentos 1, 2 e 3 com linhas duplicadas.\n",
        "* Encoder: One-Hot-Encoding + TargetEndcoding\n",
        "* Scaler: StandardScaler\n",
        "* Algoritm: CatBoostRegressor"
      ],
      "id": "mnSrNx1pp_9B"
    },
    {
      "cell_type": "code",
      "metadata": {
        "id": "R6iyoL6H6q8b"
      },
      "source": [
        "# Restore df1 dataframe copy to df\n",
        "df = df1"
      ],
      "id": "R6iyoL6H6q8b",
      "execution_count": null,
      "outputs": []
    },
    {
      "cell_type": "markdown",
      "metadata": {
        "id": "fXWhOtep6tgO"
      },
      "source": [
        "#### Modelo 1"
      ],
      "id": "fXWhOtep6tgO"
    },
    {
      "cell_type": "code",
      "metadata": {
        "colab": {
          "base_uri": "https://localhost:8080/"
        },
        "id": "2Ij9nHfMwPcb",
        "outputId": "7f4c3497-0f4d-4da0-cb93-d15c333c33a4"
      },
      "source": [
        "# Splitting\n",
        "features = ['brand', 'year', 'km_driven', 'fuel', 'seller_type', 'transmission', 'owner', 'mileage', 'engine', 'max_power', 'seats']\n",
        "X = df[features]\n",
        "label = ['selling_price']\n",
        "y = df[label]\n",
        "\n",
        "# Preprocessing (LabelEncoding)\n",
        "features = ['brand', 'fuel', 'seller_type', 'owner', 'transmission', 'year']\n",
        "for feat in features:\n",
        "  X[feat] = LabelEncoder().fit_transform(X[feat].astype(str))\n",
        "\n",
        "scaler = StandardScaler()\n",
        "X = scaler.fit_transform(X)\n",
        "test_size = 0.10\n",
        "X_train, X_test, y_train, y_test = train_test_split(X, y, test_size = test_size, random_state = 0)\n",
        "\n",
        "# Prediction\n",
        "model1c = cb.CatBoostRegressor(logging_level='Silent')\n",
        "model1c.fit(X_train,y_train)\n",
        "pred1c = model1c.predict(X_test)\n",
        "r21c = r2_score(y_test, pred1c)\n",
        "print('R2: {:.5f}'.format(r21c))"
      ],
      "id": "2Ij9nHfMwPcb",
      "execution_count": null,
      "outputs": [
        {
          "output_type": "stream",
          "text": [
            "R2: 0.97921\n"
          ],
          "name": "stdout"
        }
      ]
    },
    {
      "cell_type": "markdown",
      "metadata": {
        "id": "heP2wPuj7N9v"
      },
      "source": [
        "#### Modelo 2"
      ],
      "id": "heP2wPuj7N9v"
    },
    {
      "cell_type": "code",
      "metadata": {
        "colab": {
          "base_uri": "https://localhost:8080/"
        },
        "id": "nSqV8LrO7N97",
        "outputId": "a4d2258c-2326-4bd1-9585-69b13a6b9005"
      },
      "source": [
        "# Splitting\n",
        "features = ['brand', 'year', 'km_driven', 'fuel', 'seller_type', 'transmission', 'owner', 'mileage', 'engine', 'max_power', 'seats']\n",
        "X = df[features]\n",
        "label = ['selling_price']\n",
        "y = df[label]\n",
        "\n",
        "# Preprocessing (One-Hot-Encoding)\n",
        "X = pd.get_dummies(X, columns=['brand', 'fuel', 'seller_type', 'transmission', 'owner'])\n",
        "scaler = StandardScaler()\n",
        "X = scaler.fit_transform(X)\n",
        "test_size = 0.10\n",
        "X_train, X_test, y_train, y_test = train_test_split(X, y, test_size = test_size, random_state = 0)\n",
        "\n",
        "# Prediction\n",
        "model2c = cb.CatBoostRegressor(logging_level='Silent')\n",
        "model2c.fit(X_train,y_train)\n",
        "pred2c = model2c.predict(X_test)\n",
        "r22c = r2_score(y_test, pred2c)\n",
        "print('R2: {:.5f}'.format(r22c))"
      ],
      "id": "nSqV8LrO7N97",
      "execution_count": null,
      "outputs": [
        {
          "output_type": "stream",
          "text": [
            "R2: 0.97902\n"
          ],
          "name": "stdout"
        }
      ]
    },
    {
      "cell_type": "markdown",
      "metadata": {
        "id": "xTPpeQbI78M3"
      },
      "source": [
        "#### Modelo 3"
      ],
      "id": "xTPpeQbI78M3"
    },
    {
      "cell_type": "code",
      "metadata": {
        "colab": {
          "base_uri": "https://localhost:8080/"
        },
        "id": "woewKFMy78ND",
        "outputId": "b8be94c3-6811-40e4-e062-6ed524987adb"
      },
      "source": [
        "# Splitting\n",
        "features = ['brand', 'year', 'km_driven', 'fuel', 'seller_type', 'transmission', 'owner', 'mileage', 'engine', 'max_power', 'seats']\n",
        "X = df[features]\n",
        "label = ['selling_price']\n",
        "y = df[label]\n",
        "\n",
        "# Preprocessing (One-Hot-Encoding + TargetEncoding)\n",
        "X = pd.get_dummies(X, columns=['fuel', 'seller_type', 'transmission', 'owner'])\n",
        "encoder = TargetEncoder()\n",
        "X['brand'] = encoder.fit_transform(X['brand'], y)\n",
        "scaler = StandardScaler()\n",
        "X = scaler.fit_transform(X)\n",
        "test_size = 0.10\n",
        "X_train, X_test, y_train, y_test = train_test_split(X, y, test_size = test_size, random_state = 0)\n",
        "\n",
        "# Prediction\n",
        "model3c = cb.CatBoostRegressor(logging_level='Silent')\n",
        "model3c.fit(X_train,y_train)\n",
        "pred3c = model3c.predict(X_test)\n",
        "r23c = r2_score(y_test, pred3c)\n",
        "print('R2: {:.5f}'.format(r23c))"
      ],
      "id": "woewKFMy78ND",
      "execution_count": null,
      "outputs": [
        {
          "output_type": "stream",
          "text": [
            "R2: 0.98236\n"
          ],
          "name": "stdout"
        }
      ]
    },
    {
      "cell_type": "markdown",
      "metadata": {
        "id": "functioning-bottom"
      },
      "source": [
        "## Resultados\n",
        "A seguir estão os valores do R2 Score para cada um dos quatro experimentos:"
      ],
      "id": "functioning-bottom"
    },
    {
      "cell_type": "code",
      "metadata": {
        "colab": {
          "base_uri": "https://localhost:8080/",
          "height": 142
        },
        "id": "ghoxxwMY2GA6",
        "outputId": "2e11c2e3-00a6-451a-d336-3611e1b16b54"
      },
      "source": [
        "# Show result table\n",
        "pd.DataFrame({'Modelo': ['1', '2', '3'], 'R2(s/dup.)': [r21, r22, r23], 'R2(c/dup.)': [r21c, r22c, r23c]})"
      ],
      "id": "ghoxxwMY2GA6",
      "execution_count": null,
      "outputs": [
        {
          "output_type": "execute_result",
          "data": {
            "text/html": [
              "<div>\n",
              "<style scoped>\n",
              "    .dataframe tbody tr th:only-of-type {\n",
              "        vertical-align: middle;\n",
              "    }\n",
              "\n",
              "    .dataframe tbody tr th {\n",
              "        vertical-align: top;\n",
              "    }\n",
              "\n",
              "    .dataframe thead th {\n",
              "        text-align: right;\n",
              "    }\n",
              "</style>\n",
              "<table border=\"1\" class=\"dataframe\">\n",
              "  <thead>\n",
              "    <tr style=\"text-align: right;\">\n",
              "      <th></th>\n",
              "      <th>Modelo</th>\n",
              "      <th>R2(s/dup.)</th>\n",
              "      <th>R2(c/dup.)</th>\n",
              "    </tr>\n",
              "  </thead>\n",
              "  <tbody>\n",
              "    <tr>\n",
              "      <th>0</th>\n",
              "      <td>1</td>\n",
              "      <td>0.942583</td>\n",
              "      <td>0.979211</td>\n",
              "    </tr>\n",
              "    <tr>\n",
              "      <th>1</th>\n",
              "      <td>2</td>\n",
              "      <td>0.948240</td>\n",
              "      <td>0.979022</td>\n",
              "    </tr>\n",
              "    <tr>\n",
              "      <th>2</th>\n",
              "      <td>3</td>\n",
              "      <td>0.945627</td>\n",
              "      <td>0.982362</td>\n",
              "    </tr>\n",
              "  </tbody>\n",
              "</table>\n",
              "</div>"
            ],
            "text/plain": [
              "  Modelo  R2(s/dup.)  R2(c/dup.)\n",
              "0      1    0.942583    0.979211\n",
              "1      2    0.948240    0.979022\n",
              "2      3    0.945627    0.982362"
            ]
          },
          "metadata": {
            "tags": []
          },
          "execution_count": 1754
        }
      ]
    },
    {
      "cell_type": "markdown",
      "metadata": {
        "id": "hi-Tvhg52IRE"
      },
      "source": [
        "Avaliando os valores do R2 score dos quatro experimentos, é possível verificar que o modelo que se saiu melhor foi o modelo 3 com dados duplicados. Desta forma, vamos utilizar o modelo 3, com dados duplicados, para a predição dos dados de validação."
      ],
      "id": "hi-Tvhg52IRE"
    },
    {
      "cell_type": "markdown",
      "metadata": {
        "id": "dressed-squad"
      },
      "source": [
        "# Validação"
      ],
      "id": "dressed-squad"
    },
    {
      "cell_type": "code",
      "metadata": {
        "id": "BsSvxPjigqUa",
        "colab": {
          "base_uri": "https://localhost:8080/",
          "height": 204
        },
        "outputId": "900c1a63-ecc5-4b02-91d5-245bdc589edd"
      },
      "source": [
        "# Load validation dataset\n",
        "df_val = pd.read_csv('https://raw.githubusercontent.com/xmrcl0/SME0829/main/project2/data/test_car_details.csv')\n",
        "df_val.head()"
      ],
      "id": "BsSvxPjigqUa",
      "execution_count": null,
      "outputs": [
        {
          "output_type": "execute_result",
          "data": {
            "text/html": [
              "<div>\n",
              "<style scoped>\n",
              "    .dataframe tbody tr th:only-of-type {\n",
              "        vertical-align: middle;\n",
              "    }\n",
              "\n",
              "    .dataframe tbody tr th {\n",
              "        vertical-align: top;\n",
              "    }\n",
              "\n",
              "    .dataframe thead th {\n",
              "        text-align: right;\n",
              "    }\n",
              "</style>\n",
              "<table border=\"1\" class=\"dataframe\">\n",
              "  <thead>\n",
              "    <tr style=\"text-align: right;\">\n",
              "      <th></th>\n",
              "      <th>Id</th>\n",
              "      <th>name</th>\n",
              "      <th>year</th>\n",
              "      <th>km_driven</th>\n",
              "      <th>fuel</th>\n",
              "      <th>seller_type</th>\n",
              "      <th>transmission</th>\n",
              "      <th>owner</th>\n",
              "      <th>mileage</th>\n",
              "      <th>engine</th>\n",
              "      <th>max_power</th>\n",
              "      <th>torque</th>\n",
              "      <th>seats</th>\n",
              "    </tr>\n",
              "  </thead>\n",
              "  <tbody>\n",
              "    <tr>\n",
              "      <th>0</th>\n",
              "      <td>1</td>\n",
              "      <td>Tata Indigo LS</td>\n",
              "      <td>2008</td>\n",
              "      <td>60000</td>\n",
              "      <td>Diesel</td>\n",
              "      <td>Individual</td>\n",
              "      <td>Manual</td>\n",
              "      <td>Third Owner</td>\n",
              "      <td>17.0 kmpl</td>\n",
              "      <td>1405 CC</td>\n",
              "      <td>70 bhp</td>\n",
              "      <td>13.5@ 2,500(kgm@ rpm)</td>\n",
              "      <td>5.0</td>\n",
              "    </tr>\n",
              "    <tr>\n",
              "      <th>1</th>\n",
              "      <td>2</td>\n",
              "      <td>Maruti Baleno Delta 1.2</td>\n",
              "      <td>2019</td>\n",
              "      <td>30000</td>\n",
              "      <td>Petrol</td>\n",
              "      <td>Individual</td>\n",
              "      <td>Manual</td>\n",
              "      <td>First Owner</td>\n",
              "      <td>21.4 kmpl</td>\n",
              "      <td>1197 CC</td>\n",
              "      <td>83.1 bhp</td>\n",
              "      <td>115Nm@ 4000rpm</td>\n",
              "      <td>5.0</td>\n",
              "    </tr>\n",
              "    <tr>\n",
              "      <th>2</th>\n",
              "      <td>3</td>\n",
              "      <td>Maruti Swift Dzire AMT ZDI</td>\n",
              "      <td>2017</td>\n",
              "      <td>80000</td>\n",
              "      <td>Diesel</td>\n",
              "      <td>Individual</td>\n",
              "      <td>Automatic</td>\n",
              "      <td>First Owner</td>\n",
              "      <td>28.4 kmpl</td>\n",
              "      <td>1248 CC</td>\n",
              "      <td>74.02 bhp</td>\n",
              "      <td>190Nm@ 2000rpm</td>\n",
              "      <td>5.0</td>\n",
              "    </tr>\n",
              "    <tr>\n",
              "      <th>3</th>\n",
              "      <td>4</td>\n",
              "      <td>Mahindra XUV500 W10 2WD</td>\n",
              "      <td>2018</td>\n",
              "      <td>30000</td>\n",
              "      <td>Diesel</td>\n",
              "      <td>Individual</td>\n",
              "      <td>Manual</td>\n",
              "      <td>First Owner</td>\n",
              "      <td>16.0 kmpl</td>\n",
              "      <td>2179 CC</td>\n",
              "      <td>140 bhp</td>\n",
              "      <td>330Nm@ 1600-2800rpm</td>\n",
              "      <td>7.0</td>\n",
              "    </tr>\n",
              "    <tr>\n",
              "      <th>4</th>\n",
              "      <td>5</td>\n",
              "      <td>Hyundai Elite i20 Asta Option BSIV</td>\n",
              "      <td>2019</td>\n",
              "      <td>35000</td>\n",
              "      <td>Petrol</td>\n",
              "      <td>Individual</td>\n",
              "      <td>Manual</td>\n",
              "      <td>First Owner</td>\n",
              "      <td>18.6 kmpl</td>\n",
              "      <td>1197 CC</td>\n",
              "      <td>81.86 bhp</td>\n",
              "      <td>117nm@ 4000rpm</td>\n",
              "      <td>5.0</td>\n",
              "    </tr>\n",
              "  </tbody>\n",
              "</table>\n",
              "</div>"
            ],
            "text/plain": [
              "   Id                                name  ...                 torque  seats\n",
              "0   1                      Tata Indigo LS  ...  13.5@ 2,500(kgm@ rpm)    5.0\n",
              "1   2             Maruti Baleno Delta 1.2  ...         115Nm@ 4000rpm    5.0\n",
              "2   3          Maruti Swift Dzire AMT ZDI  ...         190Nm@ 2000rpm    5.0\n",
              "3   4             Mahindra XUV500 W10 2WD  ...    330Nm@ 1600-2800rpm    7.0\n",
              "4   5  Hyundai Elite i20 Asta Option BSIV  ...         117nm@ 4000rpm    5.0\n",
              "\n",
              "[5 rows x 13 columns]"
            ]
          },
          "metadata": {
            "tags": []
          },
          "execution_count": 1755
        }
      ]
    },
    {
      "cell_type": "code",
      "metadata": {
        "id": "L-pK9U0ZkSgc",
        "colab": {
          "base_uri": "https://localhost:8080/"
        },
        "outputId": "e3f81974-88b9-4c8d-e8c9-35bd9f91d228"
      },
      "source": [
        "df_val.info()"
      ],
      "id": "L-pK9U0ZkSgc",
      "execution_count": null,
      "outputs": [
        {
          "output_type": "stream",
          "text": [
            "<class 'pandas.core.frame.DataFrame'>\n",
            "RangeIndex: 2375 entries, 0 to 2374\n",
            "Data columns (total 13 columns):\n",
            " #   Column        Non-Null Count  Dtype  \n",
            "---  ------        --------------  -----  \n",
            " 0   Id            2375 non-null   int64  \n",
            " 1   name          2375 non-null   object \n",
            " 2   year          2375 non-null   int64  \n",
            " 3   km_driven     2375 non-null   int64  \n",
            " 4   fuel          2375 non-null   object \n",
            " 5   seller_type   2375 non-null   object \n",
            " 6   transmission  2375 non-null   object \n",
            " 7   owner         2375 non-null   object \n",
            " 8   mileage       2375 non-null   object \n",
            " 9   engine        2375 non-null   object \n",
            " 10  max_power     2375 non-null   object \n",
            " 11  torque        2375 non-null   object \n",
            " 12  seats         2375 non-null   float64\n",
            "dtypes: float64(1), int64(3), object(9)\n",
            "memory usage: 241.3+ KB\n"
          ],
          "name": "stdout"
        }
      ]
    },
    {
      "cell_type": "markdown",
      "metadata": {
        "id": "Nn1zbGXtrenv"
      },
      "source": [
        "### Preparação dos dados\n",
        "Dado que o modelo escolhido foi o modelo 3, devemos preparar o dataset de validação com os mesmos parâmetros utilizados do experimento 3 (Encoding: One-Hot-Encoding + Target Encoding e Scaler: StandardScaler)."
      ],
      "id": "Nn1zbGXtrenv"
    },
    {
      "cell_type": "code",
      "metadata": {
        "id": "KopBDHQzk2b4"
      },
      "source": [
        "# Remove Id column\n",
        "X_val = df_val.drop(labels='Id', axis=1)\n",
        "\n",
        "# Replace car's name column by the car's brand\n",
        "X_val['name'] = X_val['name'].apply(lambda name: pd.Series(name.split()[0]))\n",
        "X_val.rename(columns={'name':'brand'}, inplace=True)\n",
        "\n",
        "# Remove unit from the max_power feature\n",
        "X_val['max_power'] = X_val['max_power'].apply(lambda power: pd.Series(power.split()[0]))\n",
        "\n",
        "# Remove unit from the engine feature\n",
        "X_val['engine'] = X_val['engine'].apply(lambda power: pd.Series(power.split()[0]))\n",
        "\n",
        "# Remove unit from the mileage feature\n",
        "X_val['mileage'] = X_val['mileage'].apply(lambda power: pd.Series(power.split()[0]))\n",
        "\n",
        "# Remove rows with empty torque and after the entire column (it helps, believe)\n",
        "X_val = X_val.drop(labels='torque', axis=1)\n",
        "\n",
        "# Run One-Hot-Encoding for all categorical columns\n",
        "X_val = pd.get_dummies(X_val, columns=['fuel', 'seller_type', 'transmission', 'owner'])\n",
        "\n",
        "# Run Target Encoding\n",
        "X_val['brand'] = encoder.transform(X_val['brand'])\n",
        "\n",
        "# Scaling\n",
        "X_val = scaler.fit_transform(X_val)"
      ],
      "id": "KopBDHQzk2b4",
      "execution_count": null,
      "outputs": []
    },
    {
      "cell_type": "markdown",
      "metadata": {
        "id": "QzJrmhYyr7SE"
      },
      "source": [
        "### Predições"
      ],
      "id": "QzJrmhYyr7SE"
    },
    {
      "cell_type": "code",
      "metadata": {
        "id": "sfyK3b33pwhV",
        "colab": {
          "base_uri": "https://localhost:8080/"
        },
        "outputId": "596ee0d8-c857-4d28-dd60-1d49f9d116a7"
      },
      "source": [
        "# Run the prediction routine for the validation dataset using the best model (model3)\n",
        "y_predic = model3c.predict(X_val)\n",
        "y_predic[:, None]"
      ],
      "id": "sfyK3b33pwhV",
      "execution_count": null,
      "outputs": [
        {
          "output_type": "execute_result",
          "data": {
            "text/plain": [
              "array([[ 102294.41135241],\n",
              "       [ 605353.95564056],\n",
              "       [ 655760.0316992 ],\n",
              "       ...,\n",
              "       [ 750800.16869921],\n",
              "       [2152107.40749485],\n",
              "       [ 671287.47127336]])"
            ]
          },
          "metadata": {
            "tags": []
          },
          "execution_count": 1758
        }
      ]
    },
    {
      "cell_type": "code",
      "metadata": {
        "id": "T7O24y5XqQNz",
        "colab": {
          "base_uri": "https://localhost:8080/",
          "height": 419
        },
        "outputId": "43ff1085-4ffb-4480-c259-19f9fba46abf"
      },
      "source": [
        "# Show some predictions see if it makes sense\n",
        "pd.DataFrame({'Id': df_val['Id'], 'name': df_val['name'], 'year': df_val['year'],'selling_price': y_predic})"
      ],
      "id": "T7O24y5XqQNz",
      "execution_count": null,
      "outputs": [
        {
          "output_type": "execute_result",
          "data": {
            "text/html": [
              "<div>\n",
              "<style scoped>\n",
              "    .dataframe tbody tr th:only-of-type {\n",
              "        vertical-align: middle;\n",
              "    }\n",
              "\n",
              "    .dataframe tbody tr th {\n",
              "        vertical-align: top;\n",
              "    }\n",
              "\n",
              "    .dataframe thead th {\n",
              "        text-align: right;\n",
              "    }\n",
              "</style>\n",
              "<table border=\"1\" class=\"dataframe\">\n",
              "  <thead>\n",
              "    <tr style=\"text-align: right;\">\n",
              "      <th></th>\n",
              "      <th>Id</th>\n",
              "      <th>name</th>\n",
              "      <th>year</th>\n",
              "      <th>selling_price</th>\n",
              "    </tr>\n",
              "  </thead>\n",
              "  <tbody>\n",
              "    <tr>\n",
              "      <th>0</th>\n",
              "      <td>1</td>\n",
              "      <td>Tata Indigo LS</td>\n",
              "      <td>2008</td>\n",
              "      <td>1.022944e+05</td>\n",
              "    </tr>\n",
              "    <tr>\n",
              "      <th>1</th>\n",
              "      <td>2</td>\n",
              "      <td>Maruti Baleno Delta 1.2</td>\n",
              "      <td>2019</td>\n",
              "      <td>6.053540e+05</td>\n",
              "    </tr>\n",
              "    <tr>\n",
              "      <th>2</th>\n",
              "      <td>3</td>\n",
              "      <td>Maruti Swift Dzire AMT ZDI</td>\n",
              "      <td>2017</td>\n",
              "      <td>6.557600e+05</td>\n",
              "    </tr>\n",
              "    <tr>\n",
              "      <th>3</th>\n",
              "      <td>4</td>\n",
              "      <td>Mahindra XUV500 W10 2WD</td>\n",
              "      <td>2018</td>\n",
              "      <td>1.364413e+06</td>\n",
              "    </tr>\n",
              "    <tr>\n",
              "      <th>4</th>\n",
              "      <td>5</td>\n",
              "      <td>Hyundai Elite i20 Asta Option BSIV</td>\n",
              "      <td>2019</td>\n",
              "      <td>5.723771e+05</td>\n",
              "    </tr>\n",
              "    <tr>\n",
              "      <th>...</th>\n",
              "      <td>...</td>\n",
              "      <td>...</td>\n",
              "      <td>...</td>\n",
              "      <td>...</td>\n",
              "    </tr>\n",
              "    <tr>\n",
              "      <th>2370</th>\n",
              "      <td>2371</td>\n",
              "      <td>Volkswagen Vento Diesel Highline</td>\n",
              "      <td>2011</td>\n",
              "      <td>3.419358e+05</td>\n",
              "    </tr>\n",
              "    <tr>\n",
              "      <th>2371</th>\n",
              "      <td>2372</td>\n",
              "      <td>Hyundai Creta 1.6 CRDi SX Plus</td>\n",
              "      <td>2016</td>\n",
              "      <td>8.594161e+05</td>\n",
              "    </tr>\n",
              "    <tr>\n",
              "      <th>2372</th>\n",
              "      <td>2373</td>\n",
              "      <td>Ford EcoSport 1.5 Diesel Titanium Plus BSIV</td>\n",
              "      <td>2017</td>\n",
              "      <td>7.508002e+05</td>\n",
              "    </tr>\n",
              "    <tr>\n",
              "      <th>2373</th>\n",
              "      <td>2374</td>\n",
              "      <td>Toyota Fortuner 4x4 AT</td>\n",
              "      <td>2016</td>\n",
              "      <td>2.152107e+06</td>\n",
              "    </tr>\n",
              "    <tr>\n",
              "      <th>2374</th>\n",
              "      <td>2375</td>\n",
              "      <td>Honda Amaze V CVT Petrol BSIV</td>\n",
              "      <td>2019</td>\n",
              "      <td>6.712875e+05</td>\n",
              "    </tr>\n",
              "  </tbody>\n",
              "</table>\n",
              "<p>2375 rows × 4 columns</p>\n",
              "</div>"
            ],
            "text/plain": [
              "        Id                                         name  year  selling_price\n",
              "0        1                               Tata Indigo LS  2008   1.022944e+05\n",
              "1        2                      Maruti Baleno Delta 1.2  2019   6.053540e+05\n",
              "2        3                   Maruti Swift Dzire AMT ZDI  2017   6.557600e+05\n",
              "3        4                      Mahindra XUV500 W10 2WD  2018   1.364413e+06\n",
              "4        5           Hyundai Elite i20 Asta Option BSIV  2019   5.723771e+05\n",
              "...    ...                                          ...   ...            ...\n",
              "2370  2371             Volkswagen Vento Diesel Highline  2011   3.419358e+05\n",
              "2371  2372               Hyundai Creta 1.6 CRDi SX Plus  2016   8.594161e+05\n",
              "2372  2373  Ford EcoSport 1.5 Diesel Titanium Plus BSIV  2017   7.508002e+05\n",
              "2373  2374                       Toyota Fortuner 4x4 AT  2016   2.152107e+06\n",
              "2374  2375                Honda Amaze V CVT Petrol BSIV  2019   6.712875e+05\n",
              "\n",
              "[2375 rows x 4 columns]"
            ]
          },
          "metadata": {
            "tags": []
          },
          "execution_count": 1759
        }
      ]
    },
    {
      "cell_type": "code",
      "metadata": {
        "id": "GiDdOV5j4SOE",
        "colab": {
          "base_uri": "https://localhost:8080/",
          "height": 419
        },
        "outputId": "90353e90-1bbd-4d61-86ea-2e742d70e2f0"
      },
      "source": [
        "# Save preditions to csv\n",
        "submission_data = pd.DataFrame({'Id': df_val['Id'], 'selling_price': y_predic})\n",
        "pd.DataFrame(submission_data).to_csv(\"submission.csv\", index=False)\n",
        "submission_data"
      ],
      "id": "GiDdOV5j4SOE",
      "execution_count": null,
      "outputs": [
        {
          "output_type": "execute_result",
          "data": {
            "text/html": [
              "<div>\n",
              "<style scoped>\n",
              "    .dataframe tbody tr th:only-of-type {\n",
              "        vertical-align: middle;\n",
              "    }\n",
              "\n",
              "    .dataframe tbody tr th {\n",
              "        vertical-align: top;\n",
              "    }\n",
              "\n",
              "    .dataframe thead th {\n",
              "        text-align: right;\n",
              "    }\n",
              "</style>\n",
              "<table border=\"1\" class=\"dataframe\">\n",
              "  <thead>\n",
              "    <tr style=\"text-align: right;\">\n",
              "      <th></th>\n",
              "      <th>Id</th>\n",
              "      <th>selling_price</th>\n",
              "    </tr>\n",
              "  </thead>\n",
              "  <tbody>\n",
              "    <tr>\n",
              "      <th>0</th>\n",
              "      <td>1</td>\n",
              "      <td>1.022944e+05</td>\n",
              "    </tr>\n",
              "    <tr>\n",
              "      <th>1</th>\n",
              "      <td>2</td>\n",
              "      <td>6.053540e+05</td>\n",
              "    </tr>\n",
              "    <tr>\n",
              "      <th>2</th>\n",
              "      <td>3</td>\n",
              "      <td>6.557600e+05</td>\n",
              "    </tr>\n",
              "    <tr>\n",
              "      <th>3</th>\n",
              "      <td>4</td>\n",
              "      <td>1.364413e+06</td>\n",
              "    </tr>\n",
              "    <tr>\n",
              "      <th>4</th>\n",
              "      <td>5</td>\n",
              "      <td>5.723771e+05</td>\n",
              "    </tr>\n",
              "    <tr>\n",
              "      <th>...</th>\n",
              "      <td>...</td>\n",
              "      <td>...</td>\n",
              "    </tr>\n",
              "    <tr>\n",
              "      <th>2370</th>\n",
              "      <td>2371</td>\n",
              "      <td>3.419358e+05</td>\n",
              "    </tr>\n",
              "    <tr>\n",
              "      <th>2371</th>\n",
              "      <td>2372</td>\n",
              "      <td>8.594161e+05</td>\n",
              "    </tr>\n",
              "    <tr>\n",
              "      <th>2372</th>\n",
              "      <td>2373</td>\n",
              "      <td>7.508002e+05</td>\n",
              "    </tr>\n",
              "    <tr>\n",
              "      <th>2373</th>\n",
              "      <td>2374</td>\n",
              "      <td>2.152107e+06</td>\n",
              "    </tr>\n",
              "    <tr>\n",
              "      <th>2374</th>\n",
              "      <td>2375</td>\n",
              "      <td>6.712875e+05</td>\n",
              "    </tr>\n",
              "  </tbody>\n",
              "</table>\n",
              "<p>2375 rows × 2 columns</p>\n",
              "</div>"
            ],
            "text/plain": [
              "        Id  selling_price\n",
              "0        1   1.022944e+05\n",
              "1        2   6.053540e+05\n",
              "2        3   6.557600e+05\n",
              "3        4   1.364413e+06\n",
              "4        5   5.723771e+05\n",
              "...    ...            ...\n",
              "2370  2371   3.419358e+05\n",
              "2371  2372   8.594161e+05\n",
              "2372  2373   7.508002e+05\n",
              "2373  2374   2.152107e+06\n",
              "2374  2375   6.712875e+05\n",
              "\n",
              "[2375 rows x 2 columns]"
            ]
          },
          "metadata": {
            "tags": []
          },
          "execution_count": 1760
        }
      ]
    },
    {
      "cell_type": "markdown",
      "metadata": {
        "id": "premium-particle"
      },
      "source": [
        "# Conclusão\n",
        "Neste projeto, construímos um modelo estimador de preços de venda para carros usados.\n",
        "\n",
        "Ao todo foram realizados três experimentos, com o objetivo de verificar a influência do tipo de encoder nas variáveis categóricas, e um experimento com o objetivo de verificar a influência do uso de linhas duplicadas na qualidade do modelo. Os quatro experimentos resultaram em seis valores de r2 score, através dos quais foi possível selecionar o modelo (modelo 3 com linhas duplicadas) que obteve o melhor comportamento preditivo (r2 score = **0.982362**), para os dados de treinamento (90% do dataset).\n",
        "\n",
        "É interessante observar que o valor de 0.982362 foi obtido sem a *feature* \"torque\", a qual, a depender da capacidade preditiva do modelo, para os dados de validação, pode ser utilizada para tentar melhorar a qualidade do modelo. Além isso, outro ponto que vale a pena testar é a otimização dos hiperparametros do algoritmo CatBoostRegressor, uma vez que todos os experimentos foram realizados com os valores default."
      ],
      "id": "premium-particle"
    }
  ]
}